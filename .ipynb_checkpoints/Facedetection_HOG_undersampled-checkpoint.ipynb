{
 "cells": [
  {
   "cell_type": "markdown",
   "id": "5fe0e020-245e-4150-9054-07c755daef1f",
   "metadata": {},
   "source": [
    "# Face detection modeller"
   ]
  },
  {
   "cell_type": "code",
   "execution_count": 1,
   "id": "4adc3f06-ef37-4c70-9a7a-37d085906b6d",
   "metadata": {},
   "outputs": [],
   "source": [
    "import pandas as pd\n",
    "import numpy as np\n",
    "import seaborn as sns\n",
    "import os\n",
    "from PIL import Image, ImageOps\n",
    "from sklearn.model_selection import train_test_split\n",
    "import cv2\n",
    "import dlib\n",
    "from time import time\n",
    "import matplotlib.pyplot as plt\n",
    "import copy\n",
    "import warnings\n",
    "from tqdm.notebook import tqdm\n",
    "warnings.filterwarnings('ignore')"
   ]
  },
  {
   "cell_type": "code",
   "execution_count": 2,
   "id": "3c67758f-4eaa-4064-945e-055d1a3d19dd",
   "metadata": {},
   "outputs": [],
   "source": [
    "df = pd.read_pickle(\"/Users/laurabraadrasmussen/Bachelorprojekt/df_equal.pkl\")"
   ]
  },
  {
   "cell_type": "code",
   "execution_count": 3,
   "id": "75468b8b-8009-410e-ac1c-80551700f786",
   "metadata": {},
   "outputs": [
    {
     "name": "stdout",
     "output_type": "stream",
     "text": [
      "<class 'pandas.core.frame.DataFrame'>\n",
      "RangeIndex: 10000 entries, 0 to 9999\n",
      "Data columns (total 5 columns):\n",
      " #   Column                   Non-Null Count  Dtype \n",
      "---  ------                   --------------  ----- \n",
      " 0   Images                   10000 non-null  object\n",
      " 1   Ages                     10000 non-null  int64 \n",
      " 2   Genders                  10000 non-null  int64 \n",
      " 3   Race                     10000 non-null  int64 \n",
      " 4   Caucasien/Non-caucasian  10000 non-null  int64 \n",
      "dtypes: int64(4), object(1)\n",
      "memory usage: 390.8+ KB\n",
      "None\n"
     ]
    }
   ],
   "source": [
    "print(df.info())"
   ]
  },
  {
   "cell_type": "code",
   "execution_count": 4,
   "id": "81af554f-2e5e-4f01-9faa-14bae564476d",
   "metadata": {},
   "outputs": [
    {
     "data": {
      "application/vnd.jupyter.widget-view+json": {
       "model_id": "b82a8b7b9f7f4ac59f2fdfb7534feb67",
       "version_major": 2,
       "version_minor": 0
      },
      "text/plain": [
       "  0%|          | 0/10000 [00:00<?, ?it/s]"
      ]
     },
     "metadata": {},
     "output_type": "display_data"
    }
   ],
   "source": [
    "# to array \n",
    "images_arr = []\n",
    "for im in tqdm(range(len(df))): \n",
    "    images_arr.append(np.array(df['Images'][im]))"
   ]
  },
  {
   "cell_type": "code",
   "execution_count": 5,
   "id": "0b2fd5d1-6424-47e9-92f3-bb93786ba40b",
   "metadata": {},
   "outputs": [
    {
     "data": {
      "application/vnd.jupyter.widget-view+json": {
       "model_id": "5c454d22cd9e4db8919ce6d0281697cb",
       "version_major": 2,
       "version_minor": 0
      },
      "text/plain": [
       "  0%|          | 0/10000 [00:00<?, ?it/s]"
      ]
     },
     "metadata": {},
     "output_type": "display_data"
    }
   ],
   "source": [
    "images_output = []\n",
    "for i in tqdm(images_arr):\n",
    "    if len(i.shape) == 2:\n",
    "        images_output.append(cv2.cvtColor(i, cv2.COLOR_GRAY2BGR))\n",
    "    else:\n",
    "        images_output.append(i)"
   ]
  },
  {
   "cell_type": "markdown",
   "id": "c7434e96-4a95-4628-acca-322af05aaa31",
   "metadata": {},
   "source": [
    "## HOG"
   ]
  },
  {
   "cell_type": "code",
   "execution_count": 6,
   "id": "73a28f3d-7518-4ff3-9a29-3acd2e844e7a",
   "metadata": {},
   "outputs": [
    {
     "data": {
      "text/plain": [
       "<_dlib_pybind11.fhog_object_detector at 0x7fac022594f0>"
      ]
     },
     "execution_count": 6,
     "metadata": {},
     "output_type": "execute_result"
    }
   ],
   "source": [
    "# Get the HoG face detection model.\n",
    "hog_face_detector = dlib.get_frontal_face_detector()\n",
    "hog_face_detector"
   ]
  },
  {
   "cell_type": "code",
   "execution_count": 7,
   "id": "dc4a35bc-7fd1-4808-bdf7-54db5fb9ade7",
   "metadata": {},
   "outputs": [],
   "source": [
    "def hogDetectFaces(image, hog_face_detector, display = True):\n",
    "    '''\n",
    "    This function performs face(s) detection on an image using dlib hog face detector.\n",
    "    Args:\n",
    "        image:             The input image of the person(s) whose face needs to be detected.\n",
    "        hog_face_detector: The hog face detection model required to perform the detection on the input image.\n",
    "        display:           A boolean value that is if set to true the function displays the original input image, \n",
    "                           and the output image with the bounding boxes drawn and time taken written and returns nothing.\n",
    "    Returns:\n",
    "        output_image: A copy of input image with the bounding boxes drawn.\n",
    "        results:      The output of the face detection process on the input image.\n",
    "    '''\n",
    "    \n",
    "    # Get the height and width of the input image.\n",
    "    \n",
    "    height, width, _ = image.shape\n",
    "    \n",
    "    \n",
    "    # Create a copy of the input image to draw bounding boxes on.\n",
    "    output_image = image.copy()\n",
    "    \n",
    "    # Convert the image from BGR into RGB format.\n",
    "    imgRGB = cv2.cvtColor(image, cv2.COLOR_BGR2RGB)\n",
    "    #imgRGB = image\n",
    "    # Get the current time before performing face detection.\n",
    "    start = time()\n",
    "\n",
    "    # Perform the face detection on the image.\n",
    "    results = hog_face_detector(imgRGB, 0)\n",
    "    \n",
    "    \n",
    "    # Get the current time after performing face detection.\n",
    "    end = time()\n",
    "    time_to_detect = round(end - start, 5)\n",
    "    # Loop through the bounding boxes of each face detected in the image.\n",
    "    for bbox in results:\n",
    "        \n",
    "        # Retrieve the left most x-coordinate of the bounding box.\n",
    "        x1 = bbox.left()\n",
    "        \n",
    "        # Retrieve the top most y-coordinate of the bounding box.\n",
    "        y1 = bbox.top()\n",
    "        \n",
    "        # Retrieve the right most x-coordinate of the bounding box.\n",
    "        x2 = bbox.right()\n",
    "        \n",
    "        # Retrieve the bottom most y-coordinate of the bounding box.       \n",
    "        y2 = bbox.bottom()\n",
    "\n",
    "        # Draw a rectangle around a face on the copy of the image using the retrieved coordinates.\n",
    "        cv2.rectangle(output_image, pt1=(x1, y1), pt2=(x2, y2), color=(0, 255, 0), thickness=width//200)\n",
    "    \n",
    "    \n",
    "    # Check if the original input image and the output image are specified to be displayed.\n",
    "    if display:\n",
    "        \n",
    "        # Write the time take by face detection process on the output image. \n",
    "        cv2.putText(output_image, text='Time taken: '+str(round(end - start, 2))+' Seconds.', org=(2, 30),\n",
    "                    fontFace=cv2.FONT_HERSHEY_COMPLEX, fontScale=width//700, color=(0,0,255), thickness=width//500)\n",
    "        \n",
    "        # Display the original input image and the output image.\n",
    "        plt.figure(figsize=[5,5])\n",
    "        plt.subplot(121);plt.imshow(image[:,:,::-1]);plt.title(\"Original Image\");plt.axis('off');\n",
    "        plt.subplot(122);plt.imshow(output_image[:,:,::-1]);plt.title(\"Output\");plt.axis('off');\n",
    "        \n",
    "    # Otherwise\n",
    "    else:\n",
    "        \n",
    "        # Return the output image and results of face detection.\n",
    "        return cv2.cvtColor(output_image, cv2.COLOR_RGB2BGR), results, time_to_detect"
   ]
  },
  {
   "cell_type": "code",
   "execution_count": 8,
   "id": "4ede9972-def3-4a9c-8528-598901e62405",
   "metadata": {},
   "outputs": [
    {
     "data": {
      "application/vnd.jupyter.widget-view+json": {
       "model_id": "3ae0bb9dcbef49aea2831187d0519a60",
       "version_major": 2,
       "version_minor": 0
      },
      "text/plain": [
       "  0%|          | 0/10000 [00:00<?, ?it/s]"
      ]
     },
     "metadata": {},
     "output_type": "display_data"
    }
   ],
   "source": [
    "hogfaces = [hogDetectFaces(images_output[i], hog_face_detector, display = False) for i in tqdm(range(len(images_output)))]"
   ]
  },
  {
   "cell_type": "code",
   "execution_count": 10,
   "id": "d685734e-4612-471e-9540-39c85d5d3d2a",
   "metadata": {},
   "outputs": [],
   "source": [
    "not_dect_index = [i for i in range(len(hogfaces)) if len(hogfaces[i][1]) == 0]\n",
    "not_dect_images = [df['Images'][i] for i in not_dect_index]\n",
    "not_dect_ages = [df['Ages'][i] for i in not_dect_index]\n",
    "not_dect_genders = [df['Genders'][i] for i in not_dect_index]\n",
    "not_dect_races = [df['Race'][i] for i in not_dect_index]\n",
    "not_dect_caucasian = [df['Caucasien/Non-caucasian'][i] for i in not_dect_index]\n",
    "not_dect_time = [pd.Timedelta(hogfaces[i][2], unit='minutes') for i in not_dect_index]\n",
    "\n",
    "df_not_detected = pd.DataFrame({\n",
    "    'not_dect_index': not_dect_index,\n",
    "    'not_dect_images': not_dect_images,\n",
    "    'not_dect_ages': not_dect_ages,\n",
    "    'not_dect_genders': not_dect_genders,\n",
    "    'not_dect_races': not_dect_races,\n",
    "    'not_dect_caucasian': not_dect_caucasian,\n",
    "    'not_dect_time': not_dect_time\n",
    "})"
   ]
  },
  {
   "cell_type": "code",
   "execution_count": 11,
   "id": "dbeaa25a-2851-4d60-b518-c7689229fab0",
   "metadata": {},
   "outputs": [
    {
     "data": {
      "text/html": [
       "<div>\n",
       "<style scoped>\n",
       "    .dataframe tbody tr th:only-of-type {\n",
       "        vertical-align: middle;\n",
       "    }\n",
       "\n",
       "    .dataframe tbody tr th {\n",
       "        vertical-align: top;\n",
       "    }\n",
       "\n",
       "    .dataframe thead th {\n",
       "        text-align: right;\n",
       "    }\n",
       "</style>\n",
       "<table border=\"1\" class=\"dataframe\">\n",
       "  <thead>\n",
       "    <tr style=\"text-align: right;\">\n",
       "      <th></th>\n",
       "      <th>not_dect_index</th>\n",
       "      <th>not_dect_images</th>\n",
       "      <th>not_dect_ages</th>\n",
       "      <th>not_dect_genders</th>\n",
       "      <th>not_dect_races</th>\n",
       "      <th>not_dect_caucasian</th>\n",
       "      <th>not_dect_time</th>\n",
       "    </tr>\n",
       "  </thead>\n",
       "  <tbody>\n",
       "    <tr>\n",
       "      <th>0</th>\n",
       "      <td>22</td>\n",
       "      <td>&lt;PIL.Image.Image image mode=RGB size=1024x684 ...</td>\n",
       "      <td>77</td>\n",
       "      <td>0</td>\n",
       "      <td>0</td>\n",
       "      <td>0</td>\n",
       "      <td>0 days 00:00:03.709200</td>\n",
       "    </tr>\n",
       "    <tr>\n",
       "      <th>1</th>\n",
       "      <td>28</td>\n",
       "      <td>&lt;PIL.Image.Image image mode=RGB size=670x440 a...</td>\n",
       "      <td>1</td>\n",
       "      <td>1</td>\n",
       "      <td>0</td>\n",
       "      <td>0</td>\n",
       "      <td>0 days 00:00:01.710000</td>\n",
       "    </tr>\n",
       "    <tr>\n",
       "      <th>2</th>\n",
       "      <td>33</td>\n",
       "      <td>&lt;PIL.Image.Image image mode=RGB size=375x500 a...</td>\n",
       "      <td>1</td>\n",
       "      <td>1</td>\n",
       "      <td>0</td>\n",
       "      <td>0</td>\n",
       "      <td>0 days 00:00:00.941400</td>\n",
       "    </tr>\n",
       "    <tr>\n",
       "      <th>3</th>\n",
       "      <td>60</td>\n",
       "      <td>&lt;PIL.Image.Image image mode=RGB size=107x160 a...</td>\n",
       "      <td>1</td>\n",
       "      <td>1</td>\n",
       "      <td>0</td>\n",
       "      <td>0</td>\n",
       "      <td>0 days 00:00:00.074400</td>\n",
       "    </tr>\n",
       "    <tr>\n",
       "      <th>4</th>\n",
       "      <td>74</td>\n",
       "      <td>&lt;PIL.Image.Image image mode=RGB size=380x506 a...</td>\n",
       "      <td>11</td>\n",
       "      <td>0</td>\n",
       "      <td>0</td>\n",
       "      <td>0</td>\n",
       "      <td>0 days 00:00:00.951600</td>\n",
       "    </tr>\n",
       "    <tr>\n",
       "      <th>...</th>\n",
       "      <td>...</td>\n",
       "      <td>...</td>\n",
       "      <td>...</td>\n",
       "      <td>...</td>\n",
       "      <td>...</td>\n",
       "      <td>...</td>\n",
       "      <td>...</td>\n",
       "    </tr>\n",
       "    <tr>\n",
       "      <th>438</th>\n",
       "      <td>9820</td>\n",
       "      <td>&lt;PIL.Image.Image image mode=RGB size=112x168 a...</td>\n",
       "      <td>1</td>\n",
       "      <td>1</td>\n",
       "      <td>3</td>\n",
       "      <td>1</td>\n",
       "      <td>0 days 00:00:00.093000</td>\n",
       "    </tr>\n",
       "    <tr>\n",
       "      <th>439</th>\n",
       "      <td>9856</td>\n",
       "      <td>&lt;PIL.Image.Image image mode=RGB size=98x164 at...</td>\n",
       "      <td>2</td>\n",
       "      <td>0</td>\n",
       "      <td>3</td>\n",
       "      <td>1</td>\n",
       "      <td>0 days 00:00:00.076200</td>\n",
       "    </tr>\n",
       "    <tr>\n",
       "      <th>440</th>\n",
       "      <td>9902</td>\n",
       "      <td>&lt;PIL.Image.Image image mode=RGB size=120x182 a...</td>\n",
       "      <td>1</td>\n",
       "      <td>0</td>\n",
       "      <td>3</td>\n",
       "      <td>1</td>\n",
       "      <td>0 days 00:00:00.108000</td>\n",
       "    </tr>\n",
       "    <tr>\n",
       "      <th>441</th>\n",
       "      <td>9920</td>\n",
       "      <td>&lt;PIL.Image.Image image mode=RGB size=211x160 a...</td>\n",
       "      <td>1</td>\n",
       "      <td>1</td>\n",
       "      <td>3</td>\n",
       "      <td>1</td>\n",
       "      <td>0 days 00:00:00.160800</td>\n",
       "    </tr>\n",
       "    <tr>\n",
       "      <th>442</th>\n",
       "      <td>9975</td>\n",
       "      <td>&lt;PIL.Image.Image image mode=RGB size=196x329 a...</td>\n",
       "      <td>38</td>\n",
       "      <td>1</td>\n",
       "      <td>3</td>\n",
       "      <td>1</td>\n",
       "      <td>0 days 00:00:00.351600</td>\n",
       "    </tr>\n",
       "  </tbody>\n",
       "</table>\n",
       "<p>443 rows × 7 columns</p>\n",
       "</div>"
      ],
      "text/plain": [
       "     not_dect_index                                    not_dect_images  \\\n",
       "0                22  <PIL.Image.Image image mode=RGB size=1024x684 ...   \n",
       "1                28  <PIL.Image.Image image mode=RGB size=670x440 a...   \n",
       "2                33  <PIL.Image.Image image mode=RGB size=375x500 a...   \n",
       "3                60  <PIL.Image.Image image mode=RGB size=107x160 a...   \n",
       "4                74  <PIL.Image.Image image mode=RGB size=380x506 a...   \n",
       "..              ...                                                ...   \n",
       "438            9820  <PIL.Image.Image image mode=RGB size=112x168 a...   \n",
       "439            9856  <PIL.Image.Image image mode=RGB size=98x164 at...   \n",
       "440            9902  <PIL.Image.Image image mode=RGB size=120x182 a...   \n",
       "441            9920  <PIL.Image.Image image mode=RGB size=211x160 a...   \n",
       "442            9975  <PIL.Image.Image image mode=RGB size=196x329 a...   \n",
       "\n",
       "     not_dect_ages  not_dect_genders  not_dect_races  not_dect_caucasian  \\\n",
       "0               77                 0               0                   0   \n",
       "1                1                 1               0                   0   \n",
       "2                1                 1               0                   0   \n",
       "3                1                 1               0                   0   \n",
       "4               11                 0               0                   0   \n",
       "..             ...               ...             ...                 ...   \n",
       "438              1                 1               3                   1   \n",
       "439              2                 0               3                   1   \n",
       "440              1                 0               3                   1   \n",
       "441              1                 1               3                   1   \n",
       "442             38                 1               3                   1   \n",
       "\n",
       "             not_dect_time  \n",
       "0   0 days 00:00:03.709200  \n",
       "1   0 days 00:00:01.710000  \n",
       "2   0 days 00:00:00.941400  \n",
       "3   0 days 00:00:00.074400  \n",
       "4   0 days 00:00:00.951600  \n",
       "..                     ...  \n",
       "438 0 days 00:00:00.093000  \n",
       "439 0 days 00:00:00.076200  \n",
       "440 0 days 00:00:00.108000  \n",
       "441 0 days 00:00:00.160800  \n",
       "442 0 days 00:00:00.351600  \n",
       "\n",
       "[443 rows x 7 columns]"
      ]
     },
     "execution_count": 11,
     "metadata": {},
     "output_type": "execute_result"
    }
   ],
   "source": [
    "df_not_detected"
   ]
  },
  {
   "cell_type": "markdown",
   "id": "0746a485-fcb5-4732-a959-80c898a71cfc",
   "metadata": {
    "tags": []
   },
   "source": [
    "# Investigation of results"
   ]
  },
  {
   "cell_type": "markdown",
   "id": "953de4c8-ef32-40fd-8804-a7f90791810f",
   "metadata": {},
   "source": [
    "## Naive plots"
   ]
  },
  {
   "cell_type": "markdown",
   "id": "129a37a8-85a9-4c82-b860-893e21668272",
   "metadata": {},
   "source": [
    "### Ages"
   ]
  },
  {
   "cell_type": "code",
   "execution_count": 12,
   "id": "06544323-0264-422b-91c0-a565b112c748",
   "metadata": {},
   "outputs": [
    {
     "data": {
      "text/plain": [
       "<AxesSubplot:ylabel='Frequency'>"
      ]
     },
     "execution_count": 12,
     "metadata": {},
     "output_type": "execute_result"
    },
    {
     "data": {
      "image/png": "[encoded data removed]",
      "text/plain": [
       "<Figure size 640x480 with 1 Axes>"
      ]
     },
     "metadata": {},
     "output_type": "display_data"
    }
   ],
   "source": [
    "df_not_detected['not_dect_ages'].plot(kind = 'hist')"
   ]
  },
  {
   "cell_type": "markdown",
   "id": "7bd6da5f-f7b8-4174-bc42-e7c4b954bb4e",
   "metadata": {},
   "source": [
    "### Gender"
   ]
  },
  {
   "cell_type": "code",
   "execution_count": 13,
   "id": "84fe98a4-997f-4317-9323-39916934fe8c",
   "metadata": {},
   "outputs": [
    {
     "data": {
      "text/plain": [
       "<AxesSubplot:xlabel='not_dect_genders', ylabel='count'>"
      ]
     },
     "execution_count": 13,
     "metadata": {},
     "output_type": "execute_result"
    },
    {
     "data": {
      "image/png": "[encoded data removed]",
      "text/plain": [
       "<Figure size 640x480 with 1 Axes>"
      ]
     },
     "metadata": {},
     "output_type": "display_data"
    }
   ],
   "source": [
    "sns.countplot(df_not_detected['not_dect_genders'])"
   ]
  },
  {
   "cell_type": "markdown",
   "id": "0acf339a-1194-4d6d-8a10-f4aac3e8968b",
   "metadata": {},
   "source": [
    "### Races"
   ]
  },
  {
   "cell_type": "code",
   "execution_count": 14,
   "id": "df49b75a-a6a0-4981-8b76-06c5526788a5",
   "metadata": {},
   "outputs": [
    {
     "data": {
      "text/plain": [
       "<AxesSubplot:xlabel='not_dect_races', ylabel='count'>"
      ]
     },
     "execution_count": 14,
     "metadata": {},
     "output_type": "execute_result"
    },
    {
     "data": {
      "image/png": "[encoded data removed]",
      "text/plain": [
       "<Figure size 640x480 with 1 Axes>"
      ]
     },
     "metadata": {},
     "output_type": "display_data"
    }
   ],
   "source": [
    "sns.countplot(df_not_detected['not_dect_races'])"
   ]
  },
  {
   "cell_type": "markdown",
   "id": "2503d5b6-6cab-4b50-a56f-8e01a9b63c4d",
   "metadata": {},
   "source": [
    "### Caucasian"
   ]
  },
  {
   "cell_type": "code",
   "execution_count": 15,
   "id": "04a18430-8f56-46c7-bb19-d745ebb48e09",
   "metadata": {},
   "outputs": [
    {
     "data": {
      "text/plain": [
       "<AxesSubplot:xlabel='not_dect_caucasian', ylabel='count'>"
      ]
     },
     "execution_count": 15,
     "metadata": {},
     "output_type": "execute_result"
    },
    {
     "data": {
      "image/png": "[encoded data removed]",
      "text/plain": [
       "<Figure size 640x480 with 1 Axes>"
      ]
     },
     "metadata": {},
     "output_type": "display_data"
    }
   ],
   "source": [
    "sns.countplot(df_not_detected['not_dect_caucasian'])"
   ]
  },
  {
   "cell_type": "markdown",
   "id": "d38982b0-6892-49a2-9b37-c58824a79e79",
   "metadata": {},
   "source": [
    "## Procent fordeling"
   ]
  },
  {
   "cell_type": "markdown",
   "id": "2cc1db87-2032-454b-80dc-43f27448b5f8",
   "metadata": {},
   "source": [
    "### Køn"
   ]
  },
  {
   "cell_type": "code",
   "execution_count": 16,
   "id": "76330510-c27b-40d1-b22c-aa338dada502",
   "metadata": {},
   "outputs": [],
   "source": [
    "unique_gender, counts = np.unique(df['Genders'], return_counts=True)\n",
    "counts_dict = dict(zip(unique_gender, counts))\n",
    "\n",
    "percentage_g = [(len(df_not_detected[df_not_detected[\"not_dect_genders\"] == i]) / counts_dict[i]) * 100 for i in unique_gender]"
   ]
  },
  {
   "cell_type": "code",
   "execution_count": 18,
   "id": "60127f38-cc41-4beb-b415-8aa18b5c02eb",
   "metadata": {},
   "outputs": [
    {
     "data": {
      "text/plain": [
       "[3.7392138063279003, 5.182863113897597]"
      ]
     },
     "execution_count": 18,
     "metadata": {},
     "output_type": "execute_result"
    }
   ],
   "source": [
    "percentage_g"
   ]
  },
  {
   "cell_type": "code",
   "execution_count": 19,
   "id": "123863be-7edc-4851-b563-11c09c940c94",
   "metadata": {},
   "outputs": [
    {
     "data": {
      "image/png": "[encoded data removed]",
      "text/plain": [
       "<Figure size 640x480 with 1 Axes>"
      ]
     },
     "metadata": {},
     "output_type": "display_data"
    }
   ],
   "source": [
    "plt.bar(list(unique_gender), percentage_g)\n",
    "plt.xticks(list(unique_gender))\n",
    "plt.show()"
   ]
  },
  {
   "cell_type": "markdown",
   "id": "a3594a47-30b4-4b4d-a2fd-5cb0a04e574b",
   "metadata": {},
   "source": [
    "### Race"
   ]
  },
  {
   "cell_type": "code",
   "execution_count": 20,
   "id": "f5b14cd1-f35c-4285-927c-628e05e23cce",
   "metadata": {},
   "outputs": [],
   "source": [
    "unique_race, counts = np.unique(df['Race'], return_counts=True)\n",
    "counts_dict = dict(zip(unique_race, counts))\n",
    "\n",
    "percentage_r = [(len(df_not_detected[df_not_detected[\"not_dect_races\"] == i]) / counts_dict[i]) * 100 for i in unique_race]"
   ]
  },
  {
   "cell_type": "code",
   "execution_count": 21,
   "id": "a298a0ba-9ea1-4e44-8f20-9930ae12920e",
   "metadata": {},
   "outputs": [
    {
     "data": {
      "text/plain": [
       "[3.08, 0.96, 9.719999999999999, 3.9600000000000004]"
      ]
     },
     "execution_count": 21,
     "metadata": {},
     "output_type": "execute_result"
    }
   ],
   "source": [
    "percentage_r"
   ]
  },
  {
   "cell_type": "code",
   "execution_count": 22,
   "id": "aae1f7b2-4c7c-44be-8745-287ce3f82d13",
   "metadata": {},
   "outputs": [
    {
     "data": {
      "image/png": "[encoded data removed]",
      "text/plain": [
       "<Figure size 640x480 with 1 Axes>"
      ]
     },
     "metadata": {},
     "output_type": "display_data"
    }
   ],
   "source": [
    "plt.bar(list(unique_race), percentage_r)\n",
    "plt.xticks(list(unique_race))\n",
    "plt.show()"
   ]
  },
  {
   "cell_type": "markdown",
   "id": "08e7f826-4c27-47cb-90fc-b91f60d6d136",
   "metadata": {},
   "source": [
    "### Caucasian"
   ]
  },
  {
   "cell_type": "code",
   "execution_count": 23,
   "id": "56669d03-7be9-4bd6-a97f-fe9fb05e9096",
   "metadata": {},
   "outputs": [],
   "source": [
    "unique_caucasian, counts = np.unique(df['Caucasien/Non-caucasian'], return_counts=True)\n",
    "counts_dict = dict(zip(unique_caucasian, counts))\n",
    "\n",
    "percentage_c = [(len(df_not_detected[df_not_detected[\"not_dect_caucasian\"] == i]) / counts_dict[i]) * 100 for i in unique_caucasian]\n",
    "\n"
   ]
  },
  {
   "cell_type": "code",
   "execution_count": 24,
   "id": "8c23dd8f-6bef-48f4-a586-0151ce3229c2",
   "metadata": {},
   "outputs": [
    {
     "data": {
      "text/plain": [
       "[3.08, 4.88]"
      ]
     },
     "execution_count": 24,
     "metadata": {},
     "output_type": "execute_result"
    }
   ],
   "source": [
    "percentage_c"
   ]
  },
  {
   "cell_type": "code",
   "execution_count": 25,
   "id": "a0f920c7-803f-4a73-bfd1-bdff52455590",
   "metadata": {},
   "outputs": [
    {
     "data": {
      "image/png": "[encoded data removed]",
      "text/plain": [
       "<Figure size 640x480 with 1 Axes>"
      ]
     },
     "metadata": {},
     "output_type": "display_data"
    }
   ],
   "source": [
    "plt.bar(list(unique_caucasian), percentage_c)\n",
    "plt.xticks(list(unique_caucasian))\n",
    "plt.show()"
   ]
  },
  {
   "cell_type": "markdown",
   "id": "9fe6b89a-5273-437d-b0a6-01a15b2cf9f8",
   "metadata": {},
   "source": [
    "### Alder"
   ]
  },
  {
   "cell_type": "code",
   "execution_count": 28,
   "id": "6c0d23c5-bb79-43bb-b07f-74f99c1e6c40",
   "metadata": {},
   "outputs": [],
   "source": [
    "unique_ages, counts = np.unique(df['Ages'], return_counts=True)\n",
    "counts_dict = dict(zip(unique_ages, counts))\n",
    "\n",
    "percentage_a = [(len(df_not_detected[df_not_detected[\"not_dect_ages\"] == i]) / counts_dict[i]) * 100 for i in unique_ages]\n",
    "\n"
   ]
  },
  {
   "cell_type": "code",
   "execution_count": 29,
   "id": "71bc28de-a3af-4f71-8ced-c77c86a14fc4",
   "metadata": {},
   "outputs": [
    {
     "data": {
      "image/png": "[encoded data removed]",
      "text/plain": [
       "<Figure size 640x480 with 1 Axes>"
      ]
     },
     "metadata": {},
     "output_type": "display_data"
    }
   ],
   "source": [
    "plt.plot(list(unique_ages), percentage_a)\n",
    "plt.show()"
   ]
  },
  {
   "cell_type": "markdown",
   "id": "dae4f1f1-e138-4116-a5c1-bcbdc8145248",
   "metadata": {},
   "source": [
    "### Tid"
   ]
  },
  {
   "cell_type": "code",
   "execution_count": 30,
   "id": "8e00eded-7094-4a30-86a1-d00f569aa294",
   "metadata": {},
   "outputs": [
    {
     "data": {
      "text/plain": [
       "Timedelta('0 days 00:00:04.895361038')"
      ]
     },
     "execution_count": 30,
     "metadata": {},
     "output_type": "execute_result"
    }
   ],
   "source": [
    "df_not_detected.loc[df_not_detected['not_dect_races'] == 0, 'not_dect_time'].mean()"
   ]
  },
  {
   "cell_type": "code",
   "execution_count": 31,
   "id": "cb5e5333-954f-4ece-bca1-f9c9c8593bab",
   "metadata": {},
   "outputs": [
    {
     "data": {
      "text/plain": [
       "Timedelta('0 days 00:00:01.229274999')"
      ]
     },
     "execution_count": 31,
     "metadata": {},
     "output_type": "execute_result"
    }
   ],
   "source": [
    "df_not_detected.loc[df_not_detected['not_dect_races'] == 1, 'not_dect_time'].mean()"
   ]
  }
 ],
 "metadata": {
  "kernelspec": {
   "display_name": "Python 3 (ipykernel)",
   "language": "python",
   "name": "python3"
  },
  "language_info": {
   "codemirror_mode": {
    "name": "ipython",
    "version": 3
   },
   "file_extension": ".py",
   "mimetype": "text/x-python",
   "name": "python",
   "nbconvert_exporter": "python",
   "pygments_lexer": "ipython3",
   "version": "3.7.13"
  }
 },
 "nbformat": 4,
 "nbformat_minor": 5
}
