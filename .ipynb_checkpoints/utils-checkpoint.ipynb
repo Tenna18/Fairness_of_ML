{
 "cells": [
  {
   "cell_type": "markdown",
   "id": "7d783439-fe23-4648-9e5c-65516dde7211",
   "metadata": {},
   "source": [
    "## Functions"
   ]
  },
  {
   "cell_type": "code",
   "execution_count": 48,
   "id": "25a0f30e-3c2a-453b-9d98-b10c0f305b27",
   "metadata": {},
   "outputs": [],
   "source": [
    "import dlib\n",
    "import cv2"
   ]
  },
  {
   "cell_type": "markdown",
   "id": "8cffe4d7-3192-4314-9849-95891e135bb5",
   "metadata": {},
   "source": [
    "### HOG"
   ]
  },
  {
   "cell_type": "code",
   "execution_count": 45,
   "id": "73a28f3d-7518-4ff3-9a29-3acd2e844e7a",
   "metadata": {},
   "outputs": [
    {
     "data": {
      "text/plain": [
       "<_dlib_pybind11.fhog_object_detector at 0x7f8400e22570>"
      ]
     },
     "execution_count": 45,
     "metadata": {},
     "output_type": "execute_result"
    }
   ],
   "source": [
    "# Get the HoG face detection model.\n",
    "hog_face_detector = dlib.get_frontal_face_detector()\n",
    "hog_face_detector"
   ]
  },
  {
   "cell_type": "code",
   "execution_count": 46,
   "id": "dc4a35bc-7fd1-4808-bdf7-54db5fb9ade7",
   "metadata": {},
   "outputs": [],
   "source": [
    "def hogDetectFaces(image, hog_face_detector, display = True):\n",
    "    '''\n",
    "    This function performs face(s) detection on an image using dlib hog face detector.\n",
    "    Args:\n",
    "        image:             The input image of the person(s) whose face needs to be detected.\n",
    "        hog_face_detector: The hog face detection model required to perform the detection on the input image.\n",
    "        display:           A boolean value that is if set to true the function displays the original input image, \n",
    "                           and the output image with the bounding boxes drawn and time taken written and returns nothing.\n",
    "    Returns:\n",
    "        output_image: A copy of input image with the bounding boxes drawn.\n",
    "        results:      The output of the face detection process on the input image.\n",
    "    '''\n",
    "    \n",
    "    # Get the height and width of the input image.\n",
    "    height, width, _ = image.shape\n",
    "    \n",
    "    # Create a copy of the input image to draw bounding boxes on.\n",
    "    output_image = image.copy()\n",
    "    \n",
    "    # Convert the image from BGR into RGB format.\n",
    "    imgRGB = cv2.cvtColor(image, cv2.COLOR_BGR2RGB)\n",
    "    #imgRGB = image\n",
    "    # Get the current time before performing face detection.\n",
    "    start = time()\n",
    "\n",
    "    # Perform the face detection on the image.\n",
    "    results = hog_face_detector(imgRGB, 0)\n",
    "    \n",
    "    \n",
    "    # Get the current time after performing face detection.\n",
    "    end = time()\n",
    "\n",
    "    # Loop through the bounding boxes of each face detected in the image.\n",
    "    for bbox in results:\n",
    "        \n",
    "        # Retrieve the left most x-coordinate of the bounding box.\n",
    "        x1 = bbox.left()\n",
    "        \n",
    "        # Retrieve the top most y-coordinate of the bounding box.\n",
    "        y1 = bbox.top()\n",
    "        \n",
    "        # Retrieve the right most x-coordinate of the bounding box.\n",
    "        x2 = bbox.right()\n",
    "        \n",
    "        # Retrieve the bottom most y-coordinate of the bounding box.       \n",
    "        y2 = bbox.bottom()\n",
    "\n",
    "        # Draw a rectangle around a face on the copy of the image using the retrieved coordinates.\n",
    "        cv2.rectangle(output_image, pt1=(x1, y1), pt2=(x2, y2), color=(0, 255, 0), thickness=width//200)\n",
    "    \n",
    "    \n",
    "    # Check if the original input image and the output image are specified to be displayed.\n",
    "    if display:\n",
    "        \n",
    "        # Write the time take by face detection process on the output image. \n",
    "        cv2.putText(output_image, text='Time taken: '+str(round(end - start, 2))+' Seconds.', org=(2, 30),\n",
    "                    fontFace=cv2.FONT_HERSHEY_COMPLEX, fontScale=width//700, color=(0,0,255), thickness=width//500)\n",
    "        \n",
    "        # Display the original input image and the output image.\n",
    "        plt.figure(figsize=[5,5])\n",
    "        plt.subplot(121);plt.imshow(image[:,:,::-1]);plt.title(\"Original Image\");plt.axis('off');\n",
    "        plt.subplot(122);plt.imshow(output_image[:,:,::-1]);plt.title(\"Output\");plt.axis('off');\n",
    "        \n",
    "    # Otherwise\n",
    "    else:\n",
    "        \n",
    "        # Return the output image and results of face detection.\n",
    "        return cv2.cvtColor(output_image, cv2.COLOR_RGB2BGR), results"
   ]
  },
  {
   "cell_type": "code",
   "execution_count": null,
   "id": "3c0373e3-566f-4e0d-8eb7-a2a96195e729",
   "metadata": {},
   "outputs": [],
   "source": []
  }
 ],
 "metadata": {
  "kernelspec": {
   "display_name": "Python 3 (ipykernel)",
   "language": "python",
   "name": "python3"
  },
  "language_info": {
   "codemirror_mode": {
    "name": "ipython",
    "version": 3
   },
   "file_extension": ".py",
   "mimetype": "text/x-python",
   "name": "python",
   "nbconvert_exporter": "python",
   "pygments_lexer": "ipython3",
   "version": "3.7.13"
  }
 },
 "nbformat": 4,
 "nbformat_minor": 5
}
