{
 "cells": [
  {
   "cell_type": "markdown",
   "id": "5fe0e020-245e-4150-9054-07c755daef1f",
   "metadata": {},
   "source": [
    "# Face detection modeller"
   ]
  },
  {
   "cell_type": "code",
   "execution_count": 1,
   "id": "4adc3f06-ef37-4c70-9a7a-37d085906b6d",
   "metadata": {},
   "outputs": [],
   "source": [
    "import pandas as pd\n",
    "import numpy as np\n",
    "import seaborn as sns\n",
    "import os\n",
    "from PIL import Image, ImageOps\n",
    "from sklearn.model_selection import train_test_split\n",
    "import cv2\n",
    "import dlib\n",
    "from time import time\n",
    "import matplotlib.pyplot as plt\n",
    "import copy\n",
    "import warnings\n",
    "from tqdm.notebook import tqdm\n",
    "warnings.filterwarnings('ignore')"
   ]
  },
  {
   "cell_type": "code",
   "execution_count": 2,
   "id": "3c67758f-4eaa-4064-945e-055d1a3d19dd",
   "metadata": {},
   "outputs": [],
   "source": [
    "df = pd.read_pickle(\"/Users/laurabraadrasmussen/Bachelorprojekt/df_adj_age.pkl\")\n"
   ]
  },
  {
   "cell_type": "code",
   "execution_count": 3,
   "id": "75468b8b-8009-410e-ac1c-80551700f786",
   "metadata": {},
   "outputs": [
    {
     "name": "stdout",
     "output_type": "stream",
     "text": [
      "<class 'pandas.core.frame.DataFrame'>\n",
      "RangeIndex: 8477 entries, 0 to 8476\n",
      "Data columns (total 4 columns):\n",
      " #   Column   Non-Null Count  Dtype \n",
      "---  ------   --------------  ----- \n",
      " 0   Images   8477 non-null   object\n",
      " 1   Ages     8477 non-null   int64 \n",
      " 2   Genders  8477 non-null   int64 \n",
      " 3   Race     8477 non-null   int64 \n",
      "dtypes: int64(3), object(1)\n",
      "memory usage: 265.0+ KB\n",
      "None\n"
     ]
    }
   ],
   "source": [
    "print(df.info())"
   ]
  },
  {
   "cell_type": "code",
   "execution_count": 4,
   "id": "13449b4b-699b-47d0-925b-0b7a10cc27ef",
   "metadata": {},
   "outputs": [],
   "source": [
    "## caucasian or not variable\n",
    "df['Caucasien/Non-caucasian'] = [0 if ele  == 0 else 1 for ele in df[\"Race\"]]\n",
    "#df.drop(df[df['Race'] == 4].index, inplace = True)\n",
    "df2 = df[df.Race != 4]\n",
    "df2 = df2.reset_index(drop=True)"
   ]
  },
  {
   "cell_type": "code",
   "execution_count": 5,
   "id": "593e208e-4773-45a9-9cad-281e53543b7b",
   "metadata": {},
   "outputs": [
    {
     "data": {
      "text/html": [
       "<div>\n",
       "<style scoped>\n",
       "    .dataframe tbody tr th:only-of-type {\n",
       "        vertical-align: middle;\n",
       "    }\n",
       "\n",
       "    .dataframe tbody tr th {\n",
       "        vertical-align: top;\n",
       "    }\n",
       "\n",
       "    .dataframe thead th {\n",
       "        text-align: right;\n",
       "    }\n",
       "</style>\n",
       "<table border=\"1\" class=\"dataframe\">\n",
       "  <thead>\n",
       "    <tr style=\"text-align: right;\">\n",
       "      <th></th>\n",
       "      <th>Images</th>\n",
       "      <th>Ages</th>\n",
       "      <th>Genders</th>\n",
       "      <th>Race</th>\n",
       "      <th>Caucasien/Non-caucasian</th>\n",
       "    </tr>\n",
       "  </thead>\n",
       "  <tbody>\n",
       "    <tr>\n",
       "      <th>0</th>\n",
       "      <td>&lt;PIL.JpegImagePlugin.JpegImageFile image mode=...</td>\n",
       "      <td>16</td>\n",
       "      <td>1</td>\n",
       "      <td>3</td>\n",
       "      <td>1</td>\n",
       "    </tr>\n",
       "    <tr>\n",
       "      <th>1</th>\n",
       "      <td>&lt;PIL.JpegImagePlugin.JpegImageFile image mode=...</td>\n",
       "      <td>40</td>\n",
       "      <td>1</td>\n",
       "      <td>0</td>\n",
       "      <td>0</td>\n",
       "    </tr>\n",
       "    <tr>\n",
       "      <th>2</th>\n",
       "      <td>&lt;PIL.JpegImagePlugin.JpegImageFile image mode=...</td>\n",
       "      <td>71</td>\n",
       "      <td>1</td>\n",
       "      <td>0</td>\n",
       "      <td>0</td>\n",
       "    </tr>\n",
       "    <tr>\n",
       "      <th>3</th>\n",
       "      <td>&lt;PIL.JpegImagePlugin.JpegImageFile image mode=...</td>\n",
       "      <td>80</td>\n",
       "      <td>1</td>\n",
       "      <td>0</td>\n",
       "      <td>0</td>\n",
       "    </tr>\n",
       "    <tr>\n",
       "      <th>4</th>\n",
       "      <td>&lt;PIL.JpegImagePlugin.JpegImageFile image mode=...</td>\n",
       "      <td>6</td>\n",
       "      <td>1</td>\n",
       "      <td>2</td>\n",
       "      <td>1</td>\n",
       "    </tr>\n",
       "    <tr>\n",
       "      <th>...</th>\n",
       "      <td>...</td>\n",
       "      <td>...</td>\n",
       "      <td>...</td>\n",
       "      <td>...</td>\n",
       "      <td>...</td>\n",
       "    </tr>\n",
       "    <tr>\n",
       "      <th>7554</th>\n",
       "      <td>&lt;PIL.JpegImagePlugin.JpegImageFile image mode=...</td>\n",
       "      <td>1</td>\n",
       "      <td>0</td>\n",
       "      <td>2</td>\n",
       "      <td>1</td>\n",
       "    </tr>\n",
       "    <tr>\n",
       "      <th>7555</th>\n",
       "      <td>&lt;PIL.JpegImagePlugin.JpegImageFile image mode=...</td>\n",
       "      <td>1</td>\n",
       "      <td>0</td>\n",
       "      <td>3</td>\n",
       "      <td>1</td>\n",
       "    </tr>\n",
       "    <tr>\n",
       "      <th>7556</th>\n",
       "      <td>&lt;PIL.JpegImagePlugin.JpegImageFile image mode=...</td>\n",
       "      <td>3</td>\n",
       "      <td>0</td>\n",
       "      <td>2</td>\n",
       "      <td>1</td>\n",
       "    </tr>\n",
       "    <tr>\n",
       "      <th>7557</th>\n",
       "      <td>&lt;PIL.JpegImagePlugin.JpegImageFile image mode=...</td>\n",
       "      <td>1</td>\n",
       "      <td>0</td>\n",
       "      <td>0</td>\n",
       "      <td>0</td>\n",
       "    </tr>\n",
       "    <tr>\n",
       "      <th>7558</th>\n",
       "      <td>&lt;PIL.JpegImagePlugin.JpegImageFile image mode=...</td>\n",
       "      <td>3</td>\n",
       "      <td>0</td>\n",
       "      <td>2</td>\n",
       "      <td>1</td>\n",
       "    </tr>\n",
       "  </tbody>\n",
       "</table>\n",
       "<p>7559 rows × 5 columns</p>\n",
       "</div>"
      ],
      "text/plain": [
       "                                                 Images  Ages  Genders  Race  \\\n",
       "0     <PIL.JpegImagePlugin.JpegImageFile image mode=...    16        1     3   \n",
       "1     <PIL.JpegImagePlugin.JpegImageFile image mode=...    40        1     0   \n",
       "2     <PIL.JpegImagePlugin.JpegImageFile image mode=...    71        1     0   \n",
       "3     <PIL.JpegImagePlugin.JpegImageFile image mode=...    80        1     0   \n",
       "4     <PIL.JpegImagePlugin.JpegImageFile image mode=...     6        1     2   \n",
       "...                                                 ...   ...      ...   ...   \n",
       "7554  <PIL.JpegImagePlugin.JpegImageFile image mode=...     1        0     2   \n",
       "7555  <PIL.JpegImagePlugin.JpegImageFile image mode=...     1        0     3   \n",
       "7556  <PIL.JpegImagePlugin.JpegImageFile image mode=...     3        0     2   \n",
       "7557  <PIL.JpegImagePlugin.JpegImageFile image mode=...     1        0     0   \n",
       "7558  <PIL.JpegImagePlugin.JpegImageFile image mode=...     3        0     2   \n",
       "\n",
       "      Caucasien/Non-caucasian  \n",
       "0                           1  \n",
       "1                           0  \n",
       "2                           0  \n",
       "3                           0  \n",
       "4                           1  \n",
       "...                       ...  \n",
       "7554                        1  \n",
       "7555                        1  \n",
       "7556                        1  \n",
       "7557                        0  \n",
       "7558                        1  \n",
       "\n",
       "[7559 rows x 5 columns]"
      ]
     },
     "execution_count": 5,
     "metadata": {},
     "output_type": "execute_result"
    }
   ],
   "source": [
    "df2"
   ]
  },
  {
   "cell_type": "code",
   "execution_count": 6,
   "id": "81af554f-2e5e-4f01-9faa-14bae564476d",
   "metadata": {},
   "outputs": [
    {
     "data": {
      "application/vnd.jupyter.widget-view+json": {
       "model_id": "71b3ee30a0954f22889ccbdaaac5be45",
       "version_major": 2,
       "version_minor": 0
      },
      "text/plain": [
       "  0%|          | 0/7559 [00:00<?, ?it/s]"
      ]
     },
     "metadata": {},
     "output_type": "display_data"
    }
   ],
   "source": [
    "# to array \n",
    "images_arr = []\n",
    "for im in tqdm(range(len(df2))): \n",
    "    images_arr.append(np.array(df2['Images'][im]))"
   ]
  },
  {
   "cell_type": "code",
   "execution_count": 7,
   "id": "0b2fd5d1-6424-47e9-92f3-bb93786ba40b",
   "metadata": {},
   "outputs": [
    {
     "data": {
      "application/vnd.jupyter.widget-view+json": {
       "model_id": "5f099971ea2d4841acd52ea3610f6e28",
       "version_major": 2,
       "version_minor": 0
      },
      "text/plain": [
       "  0%|          | 0/7559 [00:00<?, ?it/s]"
      ]
     },
     "metadata": {},
     "output_type": "display_data"
    }
   ],
   "source": [
    "images_output = []\n",
    "for i in tqdm(images_arr):\n",
    "    if len(i.shape) == 2:\n",
    "        images_output.append(cv2.cvtColor(i, cv2.COLOR_GRAY2BGR))\n",
    "    else:\n",
    "        images_output.append(i)"
   ]
  },
  {
   "cell_type": "markdown",
   "id": "c7434e96-4a95-4628-acca-322af05aaa31",
   "metadata": {},
   "source": [
    "## HOG"
   ]
  },
  {
   "cell_type": "code",
   "execution_count": 8,
   "id": "73a28f3d-7518-4ff3-9a29-3acd2e844e7a",
   "metadata": {},
   "outputs": [
    {
     "data": {
      "text/plain": [
       "<_dlib_pybind11.fhog_object_detector at 0x7fe76e62b630>"
      ]
     },
     "execution_count": 8,
     "metadata": {},
     "output_type": "execute_result"
    }
   ],
   "source": [
    "# Get the HoG face detection model.\n",
    "hog_face_detector = dlib.get_frontal_face_detector()\n",
    "hog_face_detector"
   ]
  },
  {
   "cell_type": "code",
   "execution_count": 9,
   "id": "dc4a35bc-7fd1-4808-bdf7-54db5fb9ade7",
   "metadata": {},
   "outputs": [],
   "source": [
    "def hogDetectFaces(image, hog_face_detector, display = True):\n",
    "    '''\n",
    "    This function performs face(s) detection on an image using dlib hog face detector.\n",
    "    Args:\n",
    "        image:             The input image of the person(s) whose face needs to be detected.\n",
    "        hog_face_detector: The hog face detection model required to perform the detection on the input image.\n",
    "        display:           A boolean value that is if set to true the function displays the original input image, \n",
    "                           and the output image with the bounding boxes drawn and time taken written and returns nothing.\n",
    "    Returns:\n",
    "        output_image: A copy of input image with the bounding boxes drawn.\n",
    "        results:      The output of the face detection process on the input image.\n",
    "    '''\n",
    "    \n",
    "    # Get the height and width of the input image.\n",
    "    \n",
    "    height, width, _ = image.shape\n",
    "    \n",
    "    \n",
    "    # Create a copy of the input image to draw bounding boxes on.\n",
    "    output_image = image.copy()\n",
    "    \n",
    "    # Convert the image from BGR into RGB format.\n",
    "    imgRGB = cv2.cvtColor(image, cv2.COLOR_BGR2RGB)\n",
    "    #imgRGB = image\n",
    "    # Get the current time before performing face detection.\n",
    "    start = time()\n",
    "\n",
    "    # Perform the face detection on the image.\n",
    "    results = hog_face_detector(imgRGB, 0)\n",
    "    \n",
    "    \n",
    "    # Get the current time after performing face detection.\n",
    "    end = time()\n",
    "    time_to_detect = round(end - start, 5)\n",
    "    # Loop through the bounding boxes of each face detected in the image.\n",
    "    for bbox in results:\n",
    "        \n",
    "        # Retrieve the left most x-coordinate of the bounding box.\n",
    "        x1 = bbox.left()\n",
    "        \n",
    "        # Retrieve the top most y-coordinate of the bounding box.\n",
    "        y1 = bbox.top()\n",
    "        \n",
    "        # Retrieve the right most x-coordinate of the bounding box.\n",
    "        x2 = bbox.right()\n",
    "        \n",
    "        # Retrieve the bottom most y-coordinate of the bounding box.       \n",
    "        y2 = bbox.bottom()\n",
    "\n",
    "        # Draw a rectangle around a face on the copy of the image using the retrieved coordinates.\n",
    "        cv2.rectangle(output_image, pt1=(x1, y1), pt2=(x2, y2), color=(0, 255, 0), thickness=width//200)\n",
    "    \n",
    "    \n",
    "    # Check if the original input image and the output image are specified to be displayed.\n",
    "    if display:\n",
    "        \n",
    "        # Write the time take by face detection process on the output image. \n",
    "        cv2.putText(output_image, text='Time taken: '+str(round(end - start, 2))+' Seconds.', org=(2, 30),\n",
    "                    fontFace=cv2.FONT_HERSHEY_COMPLEX, fontScale=width//700, color=(0,0,255), thickness=width//500)\n",
    "        \n",
    "        # Display the original input image and the output image.\n",
    "        plt.figure(figsize=[5,5])\n",
    "        plt.subplot(121);plt.imshow(image[:,:,::-1]);plt.title(\"Original Image\");plt.axis('off');\n",
    "        plt.subplot(122);plt.imshow(output_image[:,:,::-1]);plt.title(\"Output\");plt.axis('off');\n",
    "        \n",
    "    # Otherwise\n",
    "    else:\n",
    "        \n",
    "        # Return the output image and results of face detection.\n",
    "        return cv2.cvtColor(output_image, cv2.COLOR_RGB2BGR), results, time_to_detect"
   ]
  },
  {
   "cell_type": "code",
   "execution_count": 10,
   "id": "4ede9972-def3-4a9c-8528-598901e62405",
   "metadata": {},
   "outputs": [
    {
     "data": {
      "application/vnd.jupyter.widget-view+json": {
       "model_id": "7f42f8271fc64ee5b5f4e464002258b9",
       "version_major": 2,
       "version_minor": 0
      },
      "text/plain": [
       "  0%|          | 0/7559 [00:00<?, ?it/s]"
      ]
     },
     "metadata": {},
     "output_type": "display_data"
    }
   ],
   "source": [
    "#hogDetectFaces(cv2.cvtColor(images_arr[i], cv2.COLOR_RGB2BGR), hog_face_detector, display = False)\n",
    "\n",
    "\n",
    "hogfaces = [hogDetectFaces(images_output[i], hog_face_detector, display = False) for i in tqdm(range(len(images_output)))]"
   ]
  },
  {
   "cell_type": "code",
   "execution_count": 12,
   "id": "d685734e-4612-471e-9540-39c85d5d3d2a",
   "metadata": {},
   "outputs": [],
   "source": [
    "not_dect_index = [i for i in range(len(hogfaces)) if len(hogfaces[i][1]) == 0]\n",
    "not_dect_images = [df2['Images'][i] for i in not_dect_index]\n",
    "not_dect_ages = [df2['Ages'][i] for i in not_dect_index]\n",
    "not_dect_genders = [df2['Genders'][i] for i in not_dect_index]\n",
    "not_dect_races = [df2['Race'][i] for i in not_dect_index]\n",
    "not_dect_caucasian = [df2['Caucasien/Non-caucasian'][i] for i in not_dect_index]\n",
    "not_dect_time = [pd.Timedelta(hogfaces[i][2], unit='minutes') for i in not_dect_index]\n",
    "\n",
    "df_not_detected = pd.DataFrame({\n",
    "    'not_dect_index': not_dect_index,\n",
    "    'not_dect_images': not_dect_images,\n",
    "    'not_dect_ages': not_dect_ages,\n",
    "    'not_dect_genders': not_dect_genders,\n",
    "    'not_dect_races': not_dect_races,\n",
    "    'not_dect_caucasian': not_dect_caucasian,\n",
    "    'not_dect_time': not_dect_time\n",
    "})"
   ]
  },
  {
   "cell_type": "code",
   "execution_count": 13,
   "id": "d471e198-d458-4d25-9333-3a97332c71a8",
   "metadata": {},
   "outputs": [
    {
     "data": {
      "text/html": [
       "<div>\n",
       "<style scoped>\n",
       "    .dataframe tbody tr th:only-of-type {\n",
       "        vertical-align: middle;\n",
       "    }\n",
       "\n",
       "    .dataframe tbody tr th {\n",
       "        vertical-align: top;\n",
       "    }\n",
       "\n",
       "    .dataframe thead th {\n",
       "        text-align: right;\n",
       "    }\n",
       "</style>\n",
       "<table border=\"1\" class=\"dataframe\">\n",
       "  <thead>\n",
       "    <tr style=\"text-align: right;\">\n",
       "      <th></th>\n",
       "      <th>not_dect_index</th>\n",
       "      <th>not_dect_images</th>\n",
       "      <th>not_dect_ages</th>\n",
       "      <th>not_dect_genders</th>\n",
       "      <th>not_dect_races</th>\n",
       "      <th>not_dect_caucasian</th>\n",
       "      <th>not_dect_time</th>\n",
       "    </tr>\n",
       "  </thead>\n",
       "  <tbody>\n",
       "    <tr>\n",
       "      <th>0</th>\n",
       "      <td>4</td>\n",
       "      <td>&lt;PIL.JpegImagePlugin.JpegImageFile image mode=...</td>\n",
       "      <td>6</td>\n",
       "      <td>1</td>\n",
       "      <td>2</td>\n",
       "      <td>1</td>\n",
       "      <td>0 days 00:00:00.396000</td>\n",
       "    </tr>\n",
       "    <tr>\n",
       "      <th>1</th>\n",
       "      <td>5</td>\n",
       "      <td>&lt;PIL.JpegImagePlugin.JpegImageFile image mode=...</td>\n",
       "      <td>54</td>\n",
       "      <td>1</td>\n",
       "      <td>0</td>\n",
       "      <td>0</td>\n",
       "      <td>0 days 00:00:00.294000</td>\n",
       "    </tr>\n",
       "    <tr>\n",
       "      <th>2</th>\n",
       "      <td>16</td>\n",
       "      <td>&lt;PIL.JpegImagePlugin.JpegImageFile image mode=...</td>\n",
       "      <td>5</td>\n",
       "      <td>1</td>\n",
       "      <td>2</td>\n",
       "      <td>1</td>\n",
       "      <td>0 days 00:00:00.645000</td>\n",
       "    </tr>\n",
       "    <tr>\n",
       "      <th>3</th>\n",
       "      <td>55</td>\n",
       "      <td>&lt;PIL.JpegImagePlugin.JpegImageFile image mode=...</td>\n",
       "      <td>75</td>\n",
       "      <td>1</td>\n",
       "      <td>0</td>\n",
       "      <td>0</td>\n",
       "      <td>0 days 00:00:00.466200</td>\n",
       "    </tr>\n",
       "    <tr>\n",
       "      <th>4</th>\n",
       "      <td>75</td>\n",
       "      <td>&lt;PIL.JpegImagePlugin.JpegImageFile image mode=...</td>\n",
       "      <td>8</td>\n",
       "      <td>1</td>\n",
       "      <td>2</td>\n",
       "      <td>1</td>\n",
       "      <td>0 days 00:00:00.801000</td>\n",
       "    </tr>\n",
       "    <tr>\n",
       "      <th>...</th>\n",
       "      <td>...</td>\n",
       "      <td>...</td>\n",
       "      <td>...</td>\n",
       "      <td>...</td>\n",
       "      <td>...</td>\n",
       "      <td>...</td>\n",
       "      <td>...</td>\n",
       "    </tr>\n",
       "    <tr>\n",
       "      <th>426</th>\n",
       "      <td>7532</td>\n",
       "      <td>&lt;PIL.JpegImagePlugin.JpegImageFile image mode=...</td>\n",
       "      <td>1</td>\n",
       "      <td>1</td>\n",
       "      <td>2</td>\n",
       "      <td>1</td>\n",
       "      <td>0 days 00:00:00.202200</td>\n",
       "    </tr>\n",
       "    <tr>\n",
       "      <th>427</th>\n",
       "      <td>7538</td>\n",
       "      <td>&lt;PIL.JpegImagePlugin.JpegImageFile image mode=...</td>\n",
       "      <td>1</td>\n",
       "      <td>1</td>\n",
       "      <td>2</td>\n",
       "      <td>1</td>\n",
       "      <td>0 days 00:00:00.649800</td>\n",
       "    </tr>\n",
       "    <tr>\n",
       "      <th>428</th>\n",
       "      <td>7546</td>\n",
       "      <td>&lt;PIL.JpegImagePlugin.JpegImageFile image mode=...</td>\n",
       "      <td>1</td>\n",
       "      <td>1</td>\n",
       "      <td>3</td>\n",
       "      <td>1</td>\n",
       "      <td>0 days 00:00:00.199800</td>\n",
       "    </tr>\n",
       "    <tr>\n",
       "      <th>429</th>\n",
       "      <td>7550</td>\n",
       "      <td>&lt;PIL.JpegImagePlugin.JpegImageFile image mode=...</td>\n",
       "      <td>3</td>\n",
       "      <td>1</td>\n",
       "      <td>2</td>\n",
       "      <td>1</td>\n",
       "      <td>0 days 00:00:00.074400</td>\n",
       "    </tr>\n",
       "    <tr>\n",
       "      <th>430</th>\n",
       "      <td>7555</td>\n",
       "      <td>&lt;PIL.JpegImagePlugin.JpegImageFile image mode=...</td>\n",
       "      <td>1</td>\n",
       "      <td>0</td>\n",
       "      <td>3</td>\n",
       "      <td>1</td>\n",
       "      <td>0 days 00:00:00.111600</td>\n",
       "    </tr>\n",
       "  </tbody>\n",
       "</table>\n",
       "<p>431 rows × 7 columns</p>\n",
       "</div>"
      ],
      "text/plain": [
       "     not_dect_index                                    not_dect_images  \\\n",
       "0                 4  <PIL.JpegImagePlugin.JpegImageFile image mode=...   \n",
       "1                 5  <PIL.JpegImagePlugin.JpegImageFile image mode=...   \n",
       "2                16  <PIL.JpegImagePlugin.JpegImageFile image mode=...   \n",
       "3                55  <PIL.JpegImagePlugin.JpegImageFile image mode=...   \n",
       "4                75  <PIL.JpegImagePlugin.JpegImageFile image mode=...   \n",
       "..              ...                                                ...   \n",
       "426            7532  <PIL.JpegImagePlugin.JpegImageFile image mode=...   \n",
       "427            7538  <PIL.JpegImagePlugin.JpegImageFile image mode=...   \n",
       "428            7546  <PIL.JpegImagePlugin.JpegImageFile image mode=...   \n",
       "429            7550  <PIL.JpegImagePlugin.JpegImageFile image mode=...   \n",
       "430            7555  <PIL.JpegImagePlugin.JpegImageFile image mode=...   \n",
       "\n",
       "     not_dect_ages  not_dect_genders  not_dect_races  not_dect_caucasian  \\\n",
       "0                6                 1               2                   1   \n",
       "1               54                 1               0                   0   \n",
       "2                5                 1               2                   1   \n",
       "3               75                 1               0                   0   \n",
       "4                8                 1               2                   1   \n",
       "..             ...               ...             ...                 ...   \n",
       "426              1                 1               2                   1   \n",
       "427              1                 1               2                   1   \n",
       "428              1                 1               3                   1   \n",
       "429              3                 1               2                   1   \n",
       "430              1                 0               3                   1   \n",
       "\n",
       "             not_dect_time  \n",
       "0   0 days 00:00:00.396000  \n",
       "1   0 days 00:00:00.294000  \n",
       "2   0 days 00:00:00.645000  \n",
       "3   0 days 00:00:00.466200  \n",
       "4   0 days 00:00:00.801000  \n",
       "..                     ...  \n",
       "426 0 days 00:00:00.202200  \n",
       "427 0 days 00:00:00.649800  \n",
       "428 0 days 00:00:00.199800  \n",
       "429 0 days 00:00:00.074400  \n",
       "430 0 days 00:00:00.111600  \n",
       "\n",
       "[431 rows x 7 columns]"
      ]
     },
     "execution_count": 13,
     "metadata": {},
     "output_type": "execute_result"
    }
   ],
   "source": [
    "df_not_detected"
   ]
  },
  {
   "cell_type": "code",
   "execution_count": 14,
   "id": "b3642586-c413-4357-9c40-1b9fdff93f08",
   "metadata": {},
   "outputs": [
    {
     "data": {
      "text/plain": [
       "<AxesSubplot:ylabel='Frequency'>"
      ]
     },
     "execution_count": 14,
     "metadata": {},
     "output_type": "execute_result"
    },
    {
     "data": {
      "image/png": "[encoded data removed]",
      "text/plain": [
       "<Figure size 640x480 with 1 Axes>"
      ]
     },
     "metadata": {},
     "output_type": "display_data"
    }
   ],
   "source": [
    "df_not_detected['not_dect_ages'].plot(kind = 'hist')\n",
    "#print(df_not_detected)"
   ]
  },
  {
   "cell_type": "code",
   "execution_count": 15,
   "id": "da6b1089-82fb-4f32-9f0f-ef7063774f2b",
   "metadata": {},
   "outputs": [
    {
     "data": {
      "text/plain": [
       "<AxesSubplot:xlabel='not_dect_genders', ylabel='count'>"
      ]
     },
     "execution_count": 15,
     "metadata": {},
     "output_type": "execute_result"
    },
    {
     "data": {
      "image/png": "[encoded data removed]",
      "text/plain": [
       "<Figure size 640x480 with 1 Axes>"
      ]
     },
     "metadata": {},
     "output_type": "display_data"
    }
   ],
   "source": [
    "#df_not_detected['not_dect_genders'].plot(kind = 'hist')\n",
    "sns.countplot(df_not_detected['not_dect_genders'])"
   ]
  },
  {
   "cell_type": "code",
   "execution_count": 16,
   "id": "ce643930-4d1b-4b02-ad9c-c52c98402a04",
   "metadata": {},
   "outputs": [
    {
     "data": {
      "text/plain": [
       "<AxesSubplot:xlabel='not_dect_races', ylabel='count'>"
      ]
     },
     "execution_count": 16,
     "metadata": {},
     "output_type": "execute_result"
    },
    {
     "data": {
      "image/png": "[encoded data removed]",
      "text/plain": [
       "<Figure size 640x480 with 1 Axes>"
      ]
     },
     "metadata": {},
     "output_type": "display_data"
    }
   ],
   "source": [
    "#df_not_detected['not_dect_races'].plot(kind = 'hist')\n",
    "\n",
    "sns.countplot(df_not_detected['not_dect_races'])"
   ]
  },
  {
   "cell_type": "code",
   "execution_count": 17,
   "id": "ddc67086-98e1-44de-a560-ec0642d4bc86",
   "metadata": {},
   "outputs": [
    {
     "data": {
      "text/plain": [
       "<AxesSubplot:xlabel='not_dect_caucasian', ylabel='count'>"
      ]
     },
     "execution_count": 17,
     "metadata": {},
     "output_type": "execute_result"
    },
    {
     "data": {
      "image/png": "[encoded data removed]",
      "text/plain": [
       "<Figure size 640x480 with 1 Axes>"
      ]
     },
     "metadata": {},
     "output_type": "display_data"
    }
   ],
   "source": [
    "sns.countplot(df_not_detected['not_dect_caucasian'])"
   ]
  },
  {
   "cell_type": "markdown",
   "id": "7c7659c0-cfac-4157-9a85-f1b42dc7c4cc",
   "metadata": {},
   "source": [
    "## Procent fordeling"
   ]
  },
  {
   "cell_type": "markdown",
   "id": "b7771aa5-ae9f-48ba-a01a-fe5dd0f4560e",
   "metadata": {},
   "source": [
    "### Køn"
   ]
  },
  {
   "cell_type": "code",
   "execution_count": 45,
   "id": "a9e92e91-3849-43f0-ae3d-d04ec647820a",
   "metadata": {},
   "outputs": [],
   "source": [
    "unique_gender = sorted(pd.unique(df2['Genders']))\n",
    "percentage_g = []\n",
    "\n",
    "for i in unique_gender:\n",
    "    percentage_g.append(((len(df_not_detected[df_not_detected[\"not_dect_genders\"] == i]))/(len(df2[df2[\"Genders\"] == i])))*100)"
   ]
  },
  {
   "cell_type": "code",
   "execution_count": 46,
   "id": "386d8ba5-64b2-4d5d-afb8-50bd189bdbeb",
   "metadata": {},
   "outputs": [
    {
     "data": {
      "text/plain": [
       "[5.991611743559018, 5.472636815920398]"
      ]
     },
     "execution_count": 46,
     "metadata": {},
     "output_type": "execute_result"
    }
   ],
   "source": [
    "percentage_g"
   ]
  },
  {
   "cell_type": "code",
   "execution_count": 47,
   "id": "6fcaa391-1d35-4f89-8c44-e39bbadb0583",
   "metadata": {},
   "outputs": [
    {
     "data": {
      "image/png": "[encoded data removed]",
      "text/plain": [
       "<Figure size 640x480 with 1 Axes>"
      ]
     },
     "metadata": {},
     "output_type": "display_data"
    }
   ],
   "source": [
    "plt.bar(list(unique_gender), percentage_g)\n",
    "plt.xticks(list(unique_gender))\n",
    "plt.show()"
   ]
  },
  {
   "cell_type": "markdown",
   "id": "160ed97d-6af4-4f52-9755-20f4101066f6",
   "metadata": {},
   "source": [
    "### Race"
   ]
  },
  {
   "cell_type": "code",
   "execution_count": 20,
   "id": "9d380c13-0b9a-4162-ac58-15e78d33ddc0",
   "metadata": {},
   "outputs": [],
   "source": [
    "unique_race = sorted(pd.unique(df2['Race']))\n",
    "percentage_r = []\n",
    "\n",
    "for i in unique_race:\n",
    "    percentage_r.append(((len(df_not_detected[df_not_detected[\"not_dect_races\"] == i]))/(len(df2[df2[\"Race\"] == i])))*100)"
   ]
  },
  {
   "cell_type": "code",
   "execution_count": 21,
   "id": "a2b4ab35-d40b-4130-b8ab-81791fb65e24",
   "metadata": {},
   "outputs": [
    {
     "data": {
      "text/plain": [
       "[4.070473876063184, 7.547169811320755, 13.96917148362235, 4.702970297029703]"
      ]
     },
     "execution_count": 21,
     "metadata": {},
     "output_type": "execute_result"
    }
   ],
   "source": [
    "percentage_r"
   ]
  },
  {
   "cell_type": "code",
   "execution_count": 33,
   "id": "047e6427-3c58-4b54-8b88-5805388fb9ba",
   "metadata": {},
   "outputs": [
    {
     "data": {
      "image/png": "[encoded data removed]",
      "text/plain": [
       "<Figure size 640x480 with 1 Axes>"
      ]
     },
     "metadata": {},
     "output_type": "display_data"
    }
   ],
   "source": [
    "plt.bar(list(unique_race), percentage_r)\n",
    "plt.xticks(list(unique_race))\n",
    "plt.show()"
   ]
  },
  {
   "cell_type": "markdown",
   "id": "2dd3c592-a17a-4942-b5b7-80ab93c9eb8b",
   "metadata": {},
   "source": [
    "### Caucasian"
   ]
  },
  {
   "cell_type": "code",
   "execution_count": 37,
   "id": "1a84453a-4147-4455-946e-88870a0729ef",
   "metadata": {},
   "outputs": [],
   "source": [
    "unique_caucasian = sorted(pd.unique(df2['Caucasien/Non-caucasian']))\n",
    "percentage_c = []\n",
    "\n",
    "for i in unique_caucasian:\n",
    "    percentage_c.append(((len(df_not_detected[df_not_detected[\"not_dect_caucasian\"] == i]))/(len(df2[df2[\"Caucasien/Non-caucasian\"] == i])))*100)"
   ]
  },
  {
   "cell_type": "code",
   "execution_count": 38,
   "id": "9f22b1c3-a038-48e8-90dd-a37b8d223bee",
   "metadata": {},
   "outputs": [
    {
     "data": {
      "text/plain": [
       "[4.070473876063184, 8.77527661198016]"
      ]
     },
     "execution_count": 38,
     "metadata": {},
     "output_type": "execute_result"
    }
   ],
   "source": [
    "percentage_c"
   ]
  },
  {
   "cell_type": "code",
   "execution_count": 40,
   "id": "fcee3bbf-8e52-46bb-9cb7-9c22a47173fb",
   "metadata": {},
   "outputs": [
    {
     "data": {
      "image/png": "[encoded data removed]",
      "text/plain": [
       "<Figure size 640x480 with 1 Axes>"
      ]
     },
     "metadata": {},
     "output_type": "display_data"
    }
   ],
   "source": [
    "plt.bar(list(unique_caucasian), percentage_c)\n",
    "plt.xticks(list(unique_caucasian))\n",
    "plt.show()"
   ]
  },
  {
   "cell_type": "markdown",
   "id": "f4930e3a-795b-42c1-b3f0-b0a5ca83ee1b",
   "metadata": {},
   "source": [
    "### Alder"
   ]
  },
  {
   "cell_type": "code",
   "execution_count": 41,
   "id": "c119946e-5f68-4174-92fe-b571105e7aaa",
   "metadata": {},
   "outputs": [],
   "source": [
    "unique_ages = sorted(pd.unique(df2['Ages']))\n",
    "percentage_a = []\n",
    "\n",
    "for i in unique_ages:\n",
    "    percentage_a.append(((len(df_not_detected[df_not_detected[\"not_dect_ages\"] == i]))/(len(df2[df2[\"Ages\"] == i])))*100)"
   ]
  },
  {
   "cell_type": "code",
   "execution_count": 42,
   "id": "ad232061-6f59-4780-a797-4befed5e12b0",
   "metadata": {},
   "outputs": [
    {
     "data": {
      "image/png": "[encoded data removed]",
      "text/plain": [
       "<Figure size 640x480 with 1 Axes>"
      ]
     },
     "metadata": {},
     "output_type": "display_data"
    }
   ],
   "source": [
    "plt.plot(list(unique_ages), percentage_a)\n",
    "plt.show()"
   ]
  },
  {
   "cell_type": "markdown",
   "id": "cc55c88b-0791-4807-9738-119eeec4f204",
   "metadata": {},
   "source": [
    "### Tid"
   ]
  },
  {
   "cell_type": "code",
   "execution_count": 43,
   "id": "b83800c1-738a-4d04-a69d-3cc65868e3cd",
   "metadata": {},
   "outputs": [
    {
     "data": {
      "text/plain": [
       "Timedelta('0 days 00:00:01.904877611')"
      ]
     },
     "execution_count": 43,
     "metadata": {},
     "output_type": "execute_result"
    }
   ],
   "source": [
    "df_not_detected.loc[df_not_detected['not_dect_races'] == 0, 'not_dect_time'].mean()"
   ]
  },
  {
   "cell_type": "code",
   "execution_count": 44,
   "id": "df56bbb5-97f1-401f-b97a-917ae4def8ca",
   "metadata": {},
   "outputs": [
    {
     "data": {
      "text/plain": [
       "Timedelta('0 days 00:00:03.653657142')"
      ]
     },
     "execution_count": 44,
     "metadata": {},
     "output_type": "execute_result"
    }
   ],
   "source": [
    "df_not_detected.loc[df_not_detected['not_dect_races'] == 1, 'not_dect_time'].mean()"
   ]
  }
 ],
 "metadata": {
  "kernelspec": {
   "display_name": "Python 3 (ipykernel)",
   "language": "python",
   "name": "python3"
  },
  "language_info": {
   "codemirror_mode": {
    "name": "ipython",
    "version": 3
   },
   "file_extension": ".py",
   "mimetype": "text/x-python",
   "name": "python",
   "nbconvert_exporter": "python",
   "pygments_lexer": "ipython3",
   "version": "3.7.13"
  }
 },
 "nbformat": 4,
 "nbformat_minor": 5
}
