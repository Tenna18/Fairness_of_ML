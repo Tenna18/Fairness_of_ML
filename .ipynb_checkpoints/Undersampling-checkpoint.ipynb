{
 "cells": [
  {
   "cell_type": "markdown",
   "id": "d9c5fc94-b20f-49ae-9095-cb7e3af10702",
   "metadata": {},
   "source": [
    "# Undersampling - equal groups "
   ]
  },
  {
   "cell_type": "code",
   "execution_count": 1,
   "id": "53a95cf2-bd6f-463c-aacc-3099779485ec",
   "metadata": {},
   "outputs": [],
   "source": [
    "#Import packages \n",
    "import pandas as pd\n",
    "import numpy as np\n",
    "import seaborn as sns\n",
    "import os\n",
    "from PIL import Image, ImageOps\n",
    "from sklearn.model_selection import train_test_split\n",
    "import cv2\n",
    "import dlib\n",
    "from time import time\n",
    "import matplotlib.pyplot as plt\n",
    "import copy\n",
    "import warnings\n",
    "from tqdm.notebook import tqdm\n",
    "warnings.filterwarnings('ignore')"
   ]
  },
  {
   "cell_type": "code",
   "execution_count": 3,
   "id": "6ebb3e28-40ea-4a2d-8030-8afdd88bc3e4",
   "metadata": {},
   "outputs": [],
   "source": [
    "df = pd.read_pickle(\"/Users/laurabraadrasmussen/Bachelorprojekt/in_the_wild_df.pkl\")"
   ]
  },
  {
   "cell_type": "code",
   "execution_count": 2,
   "id": "08e5f3c2-7497-42f3-9c52-bc1a08c3c258",
   "metadata": {},
   "outputs": [],
   "source": [
    "df2 = pd.read_pickle(\"/Users/laurabraadrasmussen/Bachelorprojekt/in_the_wild_df2.pkl\")"
   ]
  },
  {
   "cell_type": "code",
   "execution_count": 4,
   "id": "5de39be3-f9b8-4198-9be9-d66a0aaee8c1",
   "metadata": {},
   "outputs": [],
   "source": [
    "df3 = pd.read_pickle(\"/Users/laurabraadrasmussen/Bachelorprojekt/in_the_wild_df3.pkl\")"
   ]
  },
  {
   "cell_type": "code",
   "execution_count": 5,
   "id": "fe4ed3ec-b387-4060-bad7-795c7a77338a",
   "metadata": {},
   "outputs": [
    {
     "name": "stdout",
     "output_type": "stream",
     "text": [
      "<class 'pandas.core.frame.DataFrame'>\n",
      "RangeIndex: 9014 entries, 0 to 9013\n",
      "Data columns (total 5 columns):\n",
      " #   Column                   Non-Null Count  Dtype \n",
      "---  ------                   --------------  ----- \n",
      " 0   Images                   9014 non-null   object\n",
      " 1   Ages                     9014 non-null   int64 \n",
      " 2   Genders                  9014 non-null   int64 \n",
      " 3   Race                     9014 non-null   int64 \n",
      " 4   Caucasien/Non-caucasian  9014 non-null   int64 \n",
      "dtypes: int64(4), object(1)\n",
      "memory usage: 352.2+ KB\n",
      "<class 'pandas.core.frame.DataFrame'>\n",
      "RangeIndex: 10164 entries, 0 to 10163\n",
      "Data columns (total 5 columns):\n",
      " #   Column                   Non-Null Count  Dtype \n",
      "---  ------                   --------------  ----- \n",
      " 0   Images                   10164 non-null  object\n",
      " 1   Ages                     10164 non-null  int64 \n",
      " 2   Genders                  10164 non-null  int64 \n",
      " 3   Race                     10164 non-null  int64 \n",
      " 4   Caucasien/Non-caucasian  10164 non-null  int64 \n",
      "dtypes: int64(4), object(1)\n",
      "memory usage: 397.2+ KB\n",
      "<class 'pandas.core.frame.DataFrame'>\n",
      "RangeIndex: 3213 entries, 0 to 3212\n",
      "Data columns (total 5 columns):\n",
      " #   Column                   Non-Null Count  Dtype \n",
      "---  ------                   --------------  ----- \n",
      " 0   Images                   3213 non-null   object\n",
      " 1   Ages                     3213 non-null   int64 \n",
      " 2   Genders                  3213 non-null   int64 \n",
      " 3   Race                     3213 non-null   int64 \n",
      " 4   Caucasien/Non-caucasian  3213 non-null   int64 \n",
      "dtypes: int64(4), object(1)\n",
      "memory usage: 125.6+ KB\n",
      "None None None\n"
     ]
    }
   ],
   "source": [
    "print(df.info(),df2.info(),df3.info())"
   ]
  },
  {
   "cell_type": "code",
   "execution_count": 6,
   "id": "d7e236a9-2ea7-4614-8b23-393b89aff966",
   "metadata": {},
   "outputs": [
    {
     "data": {
      "text/plain": [
       "Race\n",
       "0    5396\n",
       "1     422\n",
       "2    1703\n",
       "3    1493\n",
       "Name: Race, dtype: int64"
      ]
     },
     "execution_count": 6,
     "metadata": {},
     "output_type": "execute_result"
    }
   ],
   "source": [
    "df.groupby(['Race'])['Race'].count()"
   ]
  },
  {
   "cell_type": "code",
   "execution_count": 7,
   "id": "31ed03d9-69d6-4d2a-9d50-62c97f21f938",
   "metadata": {},
   "outputs": [
    {
     "data": {
      "text/plain": [
       "Race\n",
       "0    3918\n",
       "1    3876\n",
       "2    1810\n",
       "3     560\n",
       "Name: Race, dtype: int64"
      ]
     },
     "execution_count": 7,
     "metadata": {},
     "output_type": "execute_result"
    }
   ],
   "source": [
    "df2.groupby(['Race'])['Race'].count()"
   ]
  },
  {
   "cell_type": "code",
   "execution_count": 8,
   "id": "83423a03-0a6d-4943-a6c8-8d390b7f2f97",
   "metadata": {},
   "outputs": [
    {
     "data": {
      "text/plain": [
       "Race\n",
       "0     907\n",
       "1     259\n",
       "2      73\n",
       "3    1974\n",
       "Name: Race, dtype: int64"
      ]
     },
     "execution_count": 8,
     "metadata": {},
     "output_type": "execute_result"
    }
   ],
   "source": [
    "df3.groupby(['Race'])['Race'].count()"
   ]
  },
  {
   "cell_type": "code",
   "execution_count": 9,
   "id": "49a50d36-3965-4747-a905-13792808c6b4",
   "metadata": {},
   "outputs": [],
   "source": [
    "summen = [df.groupby(['Race'])['Race'].count()[i]+df2.groupby(['Race'])['Race'].count()[i]+df3.groupby(['Race'])['Race'].count()[i] for i in range(4)]"
   ]
  },
  {
   "cell_type": "code",
   "execution_count": 10,
   "id": "8eb1e853-157f-4550-b5f7-b4d5b77dc8cb",
   "metadata": {},
   "outputs": [
    {
     "data": {
      "text/plain": [
       "[10221, 4557, 3586, 4027]"
      ]
     },
     "execution_count": 10,
     "metadata": {},
     "output_type": "execute_result"
    }
   ],
   "source": [
    "summen"
   ]
  },
  {
   "cell_type": "code",
   "execution_count": 11,
   "id": "281aa459-37b9-4e49-9f69-e2f77e20926c",
   "metadata": {},
   "outputs": [],
   "source": [
    "df_2_3 = pd.concat([df, df2, df3], ignore_index=True)"
   ]
  },
  {
   "cell_type": "code",
   "execution_count": 12,
   "id": "8c4b0a23-338b-4c2f-b8a9-7bf8294683f5",
   "metadata": {},
   "outputs": [
    {
     "data": {
      "text/html": [
       "<div>\n",
       "<style scoped>\n",
       "    .dataframe tbody tr th:only-of-type {\n",
       "        vertical-align: middle;\n",
       "    }\n",
       "\n",
       "    .dataframe tbody tr th {\n",
       "        vertical-align: top;\n",
       "    }\n",
       "\n",
       "    .dataframe thead th {\n",
       "        text-align: right;\n",
       "    }\n",
       "</style>\n",
       "<table border=\"1\" class=\"dataframe\">\n",
       "  <thead>\n",
       "    <tr style=\"text-align: right;\">\n",
       "      <th></th>\n",
       "      <th>Images</th>\n",
       "      <th>Ages</th>\n",
       "      <th>Genders</th>\n",
       "      <th>Race</th>\n",
       "      <th>Caucasien/Non-caucasian</th>\n",
       "    </tr>\n",
       "  </thead>\n",
       "  <tbody>\n",
       "    <tr>\n",
       "      <th>0</th>\n",
       "      <td>&lt;PIL.Image.Image image mode=RGB size=368x551 a...</td>\n",
       "      <td>16</td>\n",
       "      <td>1</td>\n",
       "      <td>3</td>\n",
       "      <td>1</td>\n",
       "    </tr>\n",
       "    <tr>\n",
       "      <th>1</th>\n",
       "      <td>&lt;PIL.Image.Image image mode=RGB size=552x367 a...</td>\n",
       "      <td>40</td>\n",
       "      <td>1</td>\n",
       "      <td>0</td>\n",
       "      <td>0</td>\n",
       "    </tr>\n",
       "    <tr>\n",
       "      <th>2</th>\n",
       "      <td>&lt;PIL.Image.Image image mode=RGB size=227x300 a...</td>\n",
       "      <td>71</td>\n",
       "      <td>1</td>\n",
       "      <td>0</td>\n",
       "      <td>0</td>\n",
       "    </tr>\n",
       "    <tr>\n",
       "      <th>3</th>\n",
       "      <td>&lt;PIL.Image.Image image mode=RGB size=236x354 a...</td>\n",
       "      <td>80</td>\n",
       "      <td>1</td>\n",
       "      <td>0</td>\n",
       "      <td>0</td>\n",
       "    </tr>\n",
       "    <tr>\n",
       "      <th>4</th>\n",
       "      <td>&lt;PIL.Image.Image image mode=RGB size=255x300 a...</td>\n",
       "      <td>6</td>\n",
       "      <td>1</td>\n",
       "      <td>2</td>\n",
       "      <td>1</td>\n",
       "    </tr>\n",
       "    <tr>\n",
       "      <th>...</th>\n",
       "      <td>...</td>\n",
       "      <td>...</td>\n",
       "      <td>...</td>\n",
       "      <td>...</td>\n",
       "      <td>...</td>\n",
       "    </tr>\n",
       "    <tr>\n",
       "      <th>22386</th>\n",
       "      <td>&lt;PIL.Image.Image image mode=RGB size=410x409 a...</td>\n",
       "      <td>26</td>\n",
       "      <td>0</td>\n",
       "      <td>3</td>\n",
       "      <td>1</td>\n",
       "    </tr>\n",
       "    <tr>\n",
       "      <th>22387</th>\n",
       "      <td>&lt;PIL.Image.Image image mode=RGB size=444x457 a...</td>\n",
       "      <td>58</td>\n",
       "      <td>0</td>\n",
       "      <td>3</td>\n",
       "      <td>1</td>\n",
       "    </tr>\n",
       "    <tr>\n",
       "      <th>22388</th>\n",
       "      <td>&lt;PIL.Image.Image image mode=RGB size=404x503 a...</td>\n",
       "      <td>64</td>\n",
       "      <td>0</td>\n",
       "      <td>0</td>\n",
       "      <td>0</td>\n",
       "    </tr>\n",
       "    <tr>\n",
       "      <th>22389</th>\n",
       "      <td>&lt;PIL.Image.Image image mode=RGB size=412x493 a...</td>\n",
       "      <td>54</td>\n",
       "      <td>0</td>\n",
       "      <td>3</td>\n",
       "      <td>1</td>\n",
       "    </tr>\n",
       "    <tr>\n",
       "      <th>22390</th>\n",
       "      <td>&lt;PIL.Image.Image image mode=RGB size=218x293 a...</td>\n",
       "      <td>23</td>\n",
       "      <td>1</td>\n",
       "      <td>3</td>\n",
       "      <td>1</td>\n",
       "    </tr>\n",
       "  </tbody>\n",
       "</table>\n",
       "<p>22391 rows × 5 columns</p>\n",
       "</div>"
      ],
      "text/plain": [
       "                                                  Images  Ages  Genders  Race  \\\n",
       "0      <PIL.Image.Image image mode=RGB size=368x551 a...    16        1     3   \n",
       "1      <PIL.Image.Image image mode=RGB size=552x367 a...    40        1     0   \n",
       "2      <PIL.Image.Image image mode=RGB size=227x300 a...    71        1     0   \n",
       "3      <PIL.Image.Image image mode=RGB size=236x354 a...    80        1     0   \n",
       "4      <PIL.Image.Image image mode=RGB size=255x300 a...     6        1     2   \n",
       "...                                                  ...   ...      ...   ...   \n",
       "22386  <PIL.Image.Image image mode=RGB size=410x409 a...    26        0     3   \n",
       "22387  <PIL.Image.Image image mode=RGB size=444x457 a...    58        0     3   \n",
       "22388  <PIL.Image.Image image mode=RGB size=404x503 a...    64        0     0   \n",
       "22389  <PIL.Image.Image image mode=RGB size=412x493 a...    54        0     3   \n",
       "22390  <PIL.Image.Image image mode=RGB size=218x293 a...    23        1     3   \n",
       "\n",
       "       Caucasien/Non-caucasian  \n",
       "0                            1  \n",
       "1                            0  \n",
       "2                            0  \n",
       "3                            0  \n",
       "4                            1  \n",
       "...                        ...  \n",
       "22386                        1  \n",
       "22387                        1  \n",
       "22388                        0  \n",
       "22389                        1  \n",
       "22390                        1  \n",
       "\n",
       "[22391 rows x 5 columns]"
      ]
     },
     "execution_count": 12,
     "metadata": {},
     "output_type": "execute_result"
    }
   ],
   "source": [
    "df_2_3"
   ]
  },
  {
   "cell_type": "code",
   "execution_count": 13,
   "id": "18f19c0e-5655-42b9-8104-696a7c2ffeee",
   "metadata": {},
   "outputs": [],
   "source": [
    "random_0 = (df_2_3[df_2_3['Race'] == 0]).sample(n = 3586)\n",
    "random_1 = (df_2_3[df_2_3['Race'] == 1]).sample(n = 3586)\n",
    "random_2 = (df_2_3[df_2_3['Race'] == 2]).sample(n = 3586)\n",
    "random_3 = (df_2_3[df_2_3['Race'] == 3]).sample(n = 3586)"
   ]
  },
  {
   "cell_type": "code",
   "execution_count": 14,
   "id": "b8547b1e-82ea-4bda-96c7-73ef057bb7f0",
   "metadata": {},
   "outputs": [],
   "source": [
    "df_equal = pd.concat([random_0, random_1, random_2, random_3], ignore_index=True)"
   ]
  },
  {
   "cell_type": "code",
   "execution_count": 15,
   "id": "8545328e-6734-44ba-8cd1-9d7e5746c1da",
   "metadata": {},
   "outputs": [
    {
     "data": {
      "text/html": [
       "<div>\n",
       "<style scoped>\n",
       "    .dataframe tbody tr th:only-of-type {\n",
       "        vertical-align: middle;\n",
       "    }\n",
       "\n",
       "    .dataframe tbody tr th {\n",
       "        vertical-align: top;\n",
       "    }\n",
       "\n",
       "    .dataframe thead th {\n",
       "        text-align: right;\n",
       "    }\n",
       "</style>\n",
       "<table border=\"1\" class=\"dataframe\">\n",
       "  <thead>\n",
       "    <tr style=\"text-align: right;\">\n",
       "      <th></th>\n",
       "      <th>Images</th>\n",
       "      <th>Ages</th>\n",
       "      <th>Genders</th>\n",
       "      <th>Race</th>\n",
       "      <th>Caucasien/Non-caucasian</th>\n",
       "    </tr>\n",
       "  </thead>\n",
       "  <tbody>\n",
       "    <tr>\n",
       "      <th>0</th>\n",
       "      <td>&lt;PIL.Image.Image image mode=RGB size=682x970 a...</td>\n",
       "      <td>76</td>\n",
       "      <td>1</td>\n",
       "      <td>0</td>\n",
       "      <td>0</td>\n",
       "    </tr>\n",
       "    <tr>\n",
       "      <th>1</th>\n",
       "      <td>&lt;PIL.Image.Image image mode=RGB size=738x1103 ...</td>\n",
       "      <td>27</td>\n",
       "      <td>0</td>\n",
       "      <td>0</td>\n",
       "      <td>0</td>\n",
       "    </tr>\n",
       "    <tr>\n",
       "      <th>2</th>\n",
       "      <td>&lt;PIL.Image.Image image mode=RGB size=905x982 a...</td>\n",
       "      <td>78</td>\n",
       "      <td>0</td>\n",
       "      <td>0</td>\n",
       "      <td>0</td>\n",
       "    </tr>\n",
       "    <tr>\n",
       "      <th>3</th>\n",
       "      <td>&lt;PIL.Image.Image image mode=RGB size=602x337 a...</td>\n",
       "      <td>67</td>\n",
       "      <td>1</td>\n",
       "      <td>0</td>\n",
       "      <td>0</td>\n",
       "    </tr>\n",
       "    <tr>\n",
       "      <th>4</th>\n",
       "      <td>&lt;PIL.Image.Image image mode=RGB size=582x305 a...</td>\n",
       "      <td>37</td>\n",
       "      <td>0</td>\n",
       "      <td>0</td>\n",
       "      <td>0</td>\n",
       "    </tr>\n",
       "    <tr>\n",
       "      <th>...</th>\n",
       "      <td>...</td>\n",
       "      <td>...</td>\n",
       "      <td>...</td>\n",
       "      <td>...</td>\n",
       "      <td>...</td>\n",
       "    </tr>\n",
       "    <tr>\n",
       "      <th>14339</th>\n",
       "      <td>&lt;PIL.Image.Image image mode=RGB size=280x289 a...</td>\n",
       "      <td>46</td>\n",
       "      <td>0</td>\n",
       "      <td>3</td>\n",
       "      <td>1</td>\n",
       "    </tr>\n",
       "    <tr>\n",
       "      <th>14340</th>\n",
       "      <td>&lt;PIL.Image.Image image mode=RGB size=398x511 a...</td>\n",
       "      <td>26</td>\n",
       "      <td>0</td>\n",
       "      <td>3</td>\n",
       "      <td>1</td>\n",
       "    </tr>\n",
       "    <tr>\n",
       "      <th>14341</th>\n",
       "      <td>&lt;PIL.Image.Image image mode=RGB size=452x451 a...</td>\n",
       "      <td>28</td>\n",
       "      <td>1</td>\n",
       "      <td>3</td>\n",
       "      <td>1</td>\n",
       "    </tr>\n",
       "    <tr>\n",
       "      <th>14342</th>\n",
       "      <td>&lt;PIL.Image.Image image mode=RGB size=452x451 a...</td>\n",
       "      <td>20</td>\n",
       "      <td>1</td>\n",
       "      <td>3</td>\n",
       "      <td>1</td>\n",
       "    </tr>\n",
       "    <tr>\n",
       "      <th>14343</th>\n",
       "      <td>&lt;PIL.Image.Image image mode=RGB size=136x186 a...</td>\n",
       "      <td>1</td>\n",
       "      <td>0</td>\n",
       "      <td>3</td>\n",
       "      <td>1</td>\n",
       "    </tr>\n",
       "  </tbody>\n",
       "</table>\n",
       "<p>14344 rows × 5 columns</p>\n",
       "</div>"
      ],
      "text/plain": [
       "                                                  Images  Ages  Genders  Race  \\\n",
       "0      <PIL.Image.Image image mode=RGB size=682x970 a...    76        1     0   \n",
       "1      <PIL.Image.Image image mode=RGB size=738x1103 ...    27        0     0   \n",
       "2      <PIL.Image.Image image mode=RGB size=905x982 a...    78        0     0   \n",
       "3      <PIL.Image.Image image mode=RGB size=602x337 a...    67        1     0   \n",
       "4      <PIL.Image.Image image mode=RGB size=582x305 a...    37        0     0   \n",
       "...                                                  ...   ...      ...   ...   \n",
       "14339  <PIL.Image.Image image mode=RGB size=280x289 a...    46        0     3   \n",
       "14340  <PIL.Image.Image image mode=RGB size=398x511 a...    26        0     3   \n",
       "14341  <PIL.Image.Image image mode=RGB size=452x451 a...    28        1     3   \n",
       "14342  <PIL.Image.Image image mode=RGB size=452x451 a...    20        1     3   \n",
       "14343  <PIL.Image.Image image mode=RGB size=136x186 a...     1        0     3   \n",
       "\n",
       "       Caucasien/Non-caucasian  \n",
       "0                            0  \n",
       "1                            0  \n",
       "2                            0  \n",
       "3                            0  \n",
       "4                            0  \n",
       "...                        ...  \n",
       "14339                        1  \n",
       "14340                        1  \n",
       "14341                        1  \n",
       "14342                        1  \n",
       "14343                        1  \n",
       "\n",
       "[14344 rows x 5 columns]"
      ]
     },
     "metadata": {},
     "output_type": "display_data"
    }
   ],
   "source": [
    "display(df_equal)"
   ]
  },
  {
   "cell_type": "code",
   "execution_count": 16,
   "id": "d6dfbb18-80fe-46fd-b0aa-4e34e336bc6d",
   "metadata": {},
   "outputs": [],
   "source": [
    "df_equal.to_pickle(\"df_equal.pkl\")"
   ]
  },
  {
   "cell_type": "code",
   "execution_count": null,
   "id": "7518ec51-4e45-48a7-8ccf-eefd0b22576e",
   "metadata": {},
   "outputs": [],
   "source": []
  }
 ],
 "metadata": {
  "kernelspec": {
   "display_name": "Python 3 (ipykernel)",
   "language": "python",
   "name": "python3"
  },
  "language_info": {
   "codemirror_mode": {
    "name": "ipython",
    "version": 3
   },
   "file_extension": ".py",
   "mimetype": "text/x-python",
   "name": "python",
   "nbconvert_exporter": "python",
   "pygments_lexer": "ipython3",
   "version": "3.7.13"
  }
 },
 "nbformat": 4,
 "nbformat_minor": 5
}
