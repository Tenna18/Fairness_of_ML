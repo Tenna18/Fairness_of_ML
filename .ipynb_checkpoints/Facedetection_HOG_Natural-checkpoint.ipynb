{
 "cells": [
  {
   "cell_type": "markdown",
   "id": "a0c66e08-f8cc-4a64-a0b0-0ad56b7350e5",
   "metadata": {},
   "source": [
    "# HOG with face and natural pictures"
   ]
  },
  {
   "cell_type": "code",
   "execution_count": 1,
   "id": "6bed0126-d415-4a01-bf96-0066fccb17de",
   "metadata": {},
   "outputs": [],
   "source": [
    "#imports\n",
    "import pandas as pd\n",
    "import numpy as np\n",
    "import seaborn as sns\n",
    "import os\n",
    "from PIL import Image, ImageOps\n",
    "from sklearn.model_selection import train_test_split\n",
    "import cv2\n",
    "import dlib\n",
    "from time import time\n",
    "import matplotlib.pyplot as plt\n",
    "import copy\n",
    "import warnings\n",
    "from tqdm.notebook import tqdm\n",
    "from sklearn import metrics\n",
    "from scipy.stats import chi2_contingency\n",
    "\n",
    "warnings.filterwarnings('ignore')"
   ]
  },
  {
   "cell_type": "code",
   "execution_count": 2,
   "id": "9f718f57-577b-4329-b8f1-2950e34a4903",
   "metadata": {},
   "outputs": [],
   "source": [
    "#dataset\n",
    "df = pd.read_pickle(\"/Users/laurabraadrasmussen/Bachelorprojekt/df_w_natural_2500.pkl\")\n"
   ]
  },
  {
   "cell_type": "code",
   "execution_count": 3,
   "id": "984ceed5-f357-4609-aa79-8fd60e74a886",
   "metadata": {},
   "outputs": [
    {
     "data": {
      "text/plain": [
       "<AxesSubplot:xlabel='Ages', ylabel='Density'>"
      ]
     },
     "execution_count": 3,
     "metadata": {},
     "output_type": "execute_result"
    },
    {
     "data": {
      "image/png": "[encoded data removed]",
      "text/plain": [
       "<Figure size 640x480 with 1 Axes>"
      ]
     },
     "metadata": {},
     "output_type": "display_data"
    }
   ],
   "source": [
    "sns.distplot(df['Ages'],kde=True, bins=10)"
   ]
  },
  {
   "cell_type": "code",
   "execution_count": 4,
   "id": "e02e002d-0ef2-43f8-9561-ebf836a5ffc5",
   "metadata": {},
   "outputs": [
    {
     "name": "stdout",
     "output_type": "stream",
     "text": [
      "<class 'pandas.core.frame.DataFrame'>\n",
      "RangeIndex: 3213 entries, 0 to 3212\n",
      "Data columns (total 5 columns):\n",
      " #   Column                   Non-Null Count  Dtype \n",
      "---  ------                   --------------  ----- \n",
      " 0   Images                   3213 non-null   object\n",
      " 1   Ages                     3213 non-null   int64 \n",
      " 2   Genders                  3213 non-null   int64 \n",
      " 3   Race                     3213 non-null   int64 \n",
      " 4   Caucasien/Non-caucasian  3213 non-null   int64 \n",
      "dtypes: int64(4), object(1)\n",
      "memory usage: 125.6+ KB\n",
      "None\n"
     ]
    }
   ],
   "source": [
    "print(df.info())"
   ]
  },
  {
   "cell_type": "code",
   "execution_count": 5,
   "id": "059ab9e1-5520-43f3-a112-c30fd4d98b3a",
   "metadata": {},
   "outputs": [
    {
     "data": {
      "application/vnd.jupyter.widget-view+json": {
       "model_id": "031b883076814462926ccf84a410d38f",
       "version_major": 2,
       "version_minor": 0
      },
      "text/plain": [
       "  0%|          | 0/3213 [00:00<?, ?it/s]"
      ]
     },
     "metadata": {},
     "output_type": "display_data"
    }
   ],
   "source": [
    "# to array \n",
    "images_arr = []\n",
    "for im in tqdm(range(len(df))): \n",
    "    images_arr.append(np.array(df['Images'][im]))"
   ]
  },
  {
   "cell_type": "code",
   "execution_count": null,
   "id": "51ce76c7-3b0e-4633-affe-f93250a5d9fa",
   "metadata": {},
   "outputs": [],
   "source": [
    "images_output = []\n",
    "for i in tqdm(images_arr):\n",
    "    if len(i.shape) == 2:\n",
    "        images_output.append(cv2.cvtColor(i, cv2.COLOR_GRAY2BGR))\n",
    "    else:\n",
    "        images_output.append(i)"
   ]
  },
  {
   "cell_type": "markdown",
   "id": "9acd218f-3bb7-40e8-b0be-584ce9e657e8",
   "metadata": {},
   "source": [
    "## HOG"
   ]
  },
  {
   "cell_type": "code",
   "execution_count": 6,
   "id": "8f029c95-fde5-45ab-9a70-0672dfc8af09",
   "metadata": {},
   "outputs": [
    {
     "data": {
      "text/plain": [
       "<_dlib_pybind11.fhog_object_detector at 0x7feaf82438b0>"
      ]
     },
     "execution_count": 6,
     "metadata": {},
     "output_type": "execute_result"
    }
   ],
   "source": [
    "# Get the HoG face detection model.\n",
    "hog_face_detector = dlib.get_frontal_face_detector()\n",
    "hog_face_detector"
   ]
  },
  {
   "cell_type": "code",
   "execution_count": 7,
   "id": "a287e1a8-76a7-4541-a623-a9198169981b",
   "metadata": {},
   "outputs": [],
   "source": [
    "def hogDetectFaces(image, hog_face_detector, display = True):\n",
    "    '''\n",
    "    This function performs face(s) detection on an image using dlib hog face detector.\n",
    "    Args:\n",
    "        image:             The input image of the person(s) whose face needs to be detected.\n",
    "        hog_face_detector: The hog face detection model required to perform the detection on the input image.\n",
    "        display:           A boolean value that is if set to true the function displays the original input image, \n",
    "                           and the output image with the bounding boxes drawn and time taken written and returns nothing.\n",
    "    Returns:\n",
    "        output_image: A copy of input image with the bounding boxes drawn.\n",
    "        results:      The output of the face detection process on the input image.\n",
    "    '''\n",
    "    \n",
    "    # Get the height and width of the input image.\n",
    "    \n",
    "    height, width, _ = image.shape\n",
    "    \n",
    "    \n",
    "    # Create a copy of the input image to draw bounding boxes on.\n",
    "    output_image = image.copy()\n",
    "    \n",
    "    # Convert the image from BGR into RGB format.\n",
    "    imgRGB = cv2.cvtColor(image, cv2.COLOR_BGR2RGB)\n",
    "    #imgRGB = image\n",
    "    # Get the current time before performing face detection.\n",
    "    start = time()\n",
    "\n",
    "    # Perform the face detection on the image.\n",
    "    results = hog_face_detector(imgRGB, 0)\n",
    "    \n",
    "    \n",
    "    # Get the current time after performing face detection.\n",
    "    end = time()\n",
    "    time_to_detect = round(end - start, 5)\n",
    "    # Loop through the bounding boxes of each face detected in the image.\n",
    "    for bbox in results:\n",
    "        \n",
    "        # Retrieve the left most x-coordinate of the bounding box.\n",
    "        x1 = bbox.left()\n",
    "        \n",
    "        # Retrieve the top most y-coordinate of the bounding box.\n",
    "        y1 = bbox.top()\n",
    "        \n",
    "        # Retrieve the right most x-coordinate of the bounding box.\n",
    "        x2 = bbox.right()\n",
    "        \n",
    "        # Retrieve the bottom most y-coordinate of the bounding box.       \n",
    "        y2 = bbox.bottom()\n",
    "\n",
    "        # Draw a rectangle around a face on the copy of the image using the retrieved coordinates.\n",
    "        cv2.rectangle(output_image, pt1=(x1, y1), pt2=(x2, y2), color=(0, 255, 0), thickness=width//200)\n",
    "    \n",
    "    \n",
    "    # Check if the original input image and the output image are specified to be displayed.\n",
    "    if display:\n",
    "        \n",
    "        # Write the time take by face detection process on the output image. \n",
    "        cv2.putText(output_image, text='Time taken: '+str(round(end - start, 2))+' Seconds.', org=(2, 30),\n",
    "                    fontFace=cv2.FONT_HERSHEY_COMPLEX, fontScale=width//700, color=(0,0,255), thickness=width//500)\n",
    "        \n",
    "        # Display the original input image and the output image.\n",
    "        plt.figure(figsize=[5,5])\n",
    "        plt.subplot(121);plt.imshow(image[:,:,::-1]);plt.title(\"Original Image\");plt.axis('off');\n",
    "        plt.subplot(122);plt.imshow(output_image[:,:,::-1]);plt.title(\"Output\");plt.axis('off');\n",
    "        \n",
    "    # Otherwise\n",
    "    else:\n",
    "        \n",
    "        # Return the output image and results of face detection.\n",
    "        return cv2.cvtColor(output_image, cv2.COLOR_RGB2BGR), results, time_to_detect"
   ]
  },
  {
   "cell_type": "code",
   "execution_count": null,
   "id": "4e51c7c3-44b0-48bf-81e1-452ee34bcbeb",
   "metadata": {
    "tags": []
   },
   "outputs": [],
   "source": [
    "hogfaces = [hogDetectFaces(cv2.cvtColor(images_output[i], cv2.COLOR_RGB2BGR), hog_face_detector, display = False) for i in tqdm(range(len(images_output)))]"
   ]
  },
  {
   "cell_type": "code",
   "execution_count": null,
   "id": "391fca02-75f5-418b-90a2-b816661d3e33",
   "metadata": {},
   "outputs": [],
   "source": [
    "df['Predicted'] = 3"
   ]
  },
  {
   "cell_type": "code",
   "execution_count": null,
   "id": "9e06ffed-6426-4895-99f3-97e741672739",
   "metadata": {},
   "outputs": [],
   "source": [
    "Predicted = [] #[0 if len(hogfaces[i][1]) == 0 else 1 for i in range(len(hogfaces))]\n",
    "\n",
    "for i in range(len(hogfaces)):\n",
    "    if len(hogfaces[i][1]) == 0:\n",
    "        df['Predicted'].iloc[i] = 0\n",
    "    else:\n",
    "        df['Predicted'].iloc[i]  = 1"
   ]
  },
  {
   "cell_type": "markdown",
   "id": "e35efa5d-445c-4a22-9509-3417403b2bc4",
   "metadata": {
    "tags": []
   },
   "source": [
    "## Confusion matrix"
   ]
  },
  {
   "cell_type": "code",
   "execution_count": null,
   "id": "68e56cbb-ca5e-41c3-b731-a92e2f3f5757",
   "metadata": {},
   "outputs": [],
   "source": [
    "Actual = df['Label']\n",
    "Predicted = df['Predicted']"
   ]
  },
  {
   "cell_type": "code",
   "execution_count": null,
   "id": "096f1d23-ff3c-4af5-98f7-568b59b2cb88",
   "metadata": {},
   "outputs": [],
   "source": [
    "Confusion_matrix = metrics.confusion_matrix(Actual, Predicted)\n",
    "cm_display = metrics.ConfusionMatrixDisplay(confusion_matrix = Confusion_matrix, display_labels = [False, True] )\n",
    "cm_display.plot(cmap = 'RdPu')\n",
    "plt.show()"
   ]
  },
  {
   "cell_type": "code",
   "execution_count": null,
   "id": "a92c71f8-cd20-44ca-bcfa-248df4b0cc60",
   "metadata": {
    "tags": []
   },
   "outputs": [],
   "source": [
    "#investigation of false positives\n",
    "#df[(df['Label'] == 0 ) & (df['Predicted']==1)]"
   ]
  },
  {
   "cell_type": "markdown",
   "id": "9ff01d4a-80e5-4faa-8ade-e6f219c0dec4",
   "metadata": {
    "tags": []
   },
   "source": [
    "## Evaluation"
   ]
  },
  {
   "cell_type": "code",
   "execution_count": null,
   "id": "e806d302-5278-4000-88a6-04650dbebec0",
   "metadata": {},
   "outputs": [],
   "source": [
    "Accuracy  = metrics.accuracy_score(Actual, Predicted)\n",
    "Accuracy"
   ]
  },
  {
   "cell_type": "code",
   "execution_count": null,
   "id": "17a1e9af-9dfc-4512-a9cd-94ec1e328ba8",
   "metadata": {},
   "outputs": [],
   "source": [
    "Precision = metrics.precision_score(Actual, Predicted) # true positive rate \n",
    "Precision"
   ]
  },
  {
   "cell_type": "code",
   "execution_count": null,
   "id": "756fb444-5311-4b09-adaa-d6fbae078d7a",
   "metadata": {},
   "outputs": [],
   "source": [
    "Sensitivity = metrics.recall_score(Actual, Predicted)\n",
    "Sensitivity"
   ]
  },
  {
   "cell_type": "code",
   "execution_count": null,
   "id": "49140b2d-2793-4b5f-9b56-7092ce1e7906",
   "metadata": {},
   "outputs": [],
   "source": [
    "Specificity = metrics.recall_score(Actual, Predicted, pos_label = 0)\n",
    "Specificity"
   ]
  },
  {
   "cell_type": "code",
   "execution_count": null,
   "id": "e2fca2fa-b6cb-447a-90b8-59710f60edc5",
   "metadata": {},
   "outputs": [],
   "source": [
    "F_score = metrics.f1_score(Actual, Predicted)\n",
    "F_score"
   ]
  },
  {
   "cell_type": "markdown",
   "id": "90824807-a4f6-4da5-9255-ba2766749867",
   "metadata": {},
   "source": [
    "## Dataframe of the not detected faces"
   ]
  },
  {
   "cell_type": "code",
   "execution_count": null,
   "id": "131f047a-e499-43b9-9be7-bd5cd03e5223",
   "metadata": {},
   "outputs": [],
   "source": [
    "not_dect_index = [i for i in range(len(hogfaces)) if (len(hogfaces[i][1]) == 0)&( df['Folder'][i] == 'Person')] #without the natural pic\n",
    "not_dect_images = [df['Images'][i] for i in not_dect_index]\n",
    "not_dect_ages = [df['Ages'][i] for i in not_dect_index]\n",
    "not_dect_genders = [df['Genders'][i] for i in not_dect_index]\n",
    "not_dect_races = [df['Race'][i] for i in not_dect_index]\n",
    "not_dect_caucasian = [df['Caucasien/Non-caucasian'][i] for i in not_dect_index]\n",
    "not_dect_time = [pd.Timedelta(hogfaces[i][2], unit='minutes') for i in not_dect_index]\n",
    "\n",
    "df_not_detected = pd.DataFrame({\n",
    "    'not_dect_index': not_dect_index,\n",
    "    'not_dect_images': not_dect_images,\n",
    "    'not_dect_ages': not_dect_ages,\n",
    "    'not_dect_genders': not_dect_genders,\n",
    "    'not_dect_races': not_dect_races,\n",
    "    'not_dect_caucasian': not_dect_caucasian,\n",
    "    'not_dect_time': not_dect_time\n",
    "})"
   ]
  },
  {
   "cell_type": "markdown",
   "id": "4db04dd1-d55d-47f0-af41-7fa55c8c1e20",
   "metadata": {
    "tags": []
   },
   "source": [
    "## Chi 2 testing"
   ]
  },
  {
   "cell_type": "code",
   "execution_count": null,
   "id": "626595e1-5c14-4036-a027-3aded8319012",
   "metadata": {},
   "outputs": [],
   "source": [
    "# Create a contingency table\n",
    "df_person = df[df['Folder']=='Person']\n",
    "unique_race, counts = np.unique(df_person['Race'], return_counts=True)\n",
    "counts_dict = dict(zip(unique_race, counts))\n",
    "\n",
    "detected = []   # Frequencies of detected faces in each group\n",
    "not_detected = []   # Frequencies of not detected faces in each group\n",
    "for i in unique_race:\n",
    "    detected.append(counts_dict[i]- len(df_not_detected[df_not_detected[\"not_dect_races\"] == i]))\n",
    "    not_detected.append(len(df_not_detected[df_not_detected[\"not_dect_races\"] == i]))\n",
    "\n",
    "# Perform the chi-square test\n",
    "observed = [detected, not_detected]\n",
    "chi2, p, dof, expected = chi2_contingency(observed)\n",
    "\n",
    "# chi2: The chi-square test statistic\n",
    "# p: The p-value\n",
    "# dof: Degrees of freedom\n",
    "# expected: The expected frequencies under the null hypothesis\n",
    "\n",
    "# Print the results\n",
    "print(\"Chi-square test statistic:\", chi2)\n",
    "print(\"p-value:\", p)\n",
    "print(\"Degrees of freedom:\", dof)\n",
    "print(\"Expected frequencies:\", expected)"
   ]
  },
  {
   "cell_type": "code",
   "execution_count": null,
   "id": "6c54422c-fcfb-4b9e-9e48-abac181c10fa",
   "metadata": {},
   "outputs": [],
   "source": [
    "detected, not_detected"
   ]
  },
  {
   "cell_type": "markdown",
   "id": "dd71ed0b-2e26-4df1-b121-c948edec410a",
   "metadata": {
    "jp-MarkdownHeadingCollapsed": true,
    "tags": []
   },
   "source": [
    "## True positives"
   ]
  },
  {
   "cell_type": "code",
   "execution_count": null,
   "id": "9929369f-5959-4727-8752-8603b304a31e",
   "metadata": {},
   "outputs": [],
   "source": [
    "df_person = df[df['Folder']=='Person']\n",
    "unique_race, counts = np.unique(df_person['Race'], return_counts=True)\n",
    "counts_dict = dict(zip(unique_race, counts))\n",
    "\n",
    "percentage_r = [((counts_dict[i]-(len(df_not_detected[df_not_detected[\"not_dect_races\"] == i]))) / counts_dict[i])for i in unique_race]\n",
    "percentage_r"
   ]
  },
  {
   "cell_type": "code",
   "execution_count": null,
   "id": "6542453e-761c-4a8b-9a8f-5fdebf6d2793",
   "metadata": {},
   "outputs": [],
   "source": [
    "#test against threshold 80%\n",
    "min(percentage_r)/max(percentage_r)\n",
    "#0.9036/0.9704 "
   ]
  },
  {
   "cell_type": "code",
   "execution_count": null,
   "id": "5e370660-9d5f-445e-a7f7-9980eaf5a667",
   "metadata": {},
   "outputs": [],
   "source": [
    "0.9036/0.9904"
   ]
  },
  {
   "cell_type": "markdown",
   "id": "a387141a-456e-4dfc-bf69-12e7e99a8e17",
   "metadata": {
    "jp-MarkdownHeadingCollapsed": true,
    "tags": []
   },
   "source": [
    "## Distribution in not detected faces"
   ]
  },
  {
   "cell_type": "code",
   "execution_count": null,
   "id": "fd26a216-45ed-42a7-afcc-6e9a53fb5ecb",
   "metadata": {},
   "outputs": [],
   "source": [
    "unique_race, counts = np.unique(df_not_detected['not_dect_races'], return_counts=True)\n",
    "counts_dict = dict(zip(unique_race, counts))\n",
    "dist = counts/sum(counts)*100"
   ]
  },
  {
   "cell_type": "code",
   "execution_count": null,
   "id": "7bca1741-91a1-461e-8e73-7148b3f3e61b",
   "metadata": {},
   "outputs": [],
   "source": [
    "dist"
   ]
  },
  {
   "cell_type": "code",
   "execution_count": null,
   "id": "9cd1ac62-98ec-4f2a-b85c-b3e3fdd3ee58",
   "metadata": {},
   "outputs": [],
   "source": [
    "labels = ['White','Black','Asian','Indian']\n",
    "colors = ['#957DAD','#E0BBE4','#D291BC','#FEC8D8']\n",
    "plt.pie(dist, labels = labels, colors = colors, autopct = '%1.f%%')\n",
    "plt.show()"
   ]
  },
  {
   "cell_type": "markdown",
   "id": "c5039123-04bd-4667-b2e6-9f9564565d3a",
   "metadata": {
    "tags": []
   },
   "source": [
    "## Bar plots\n",
    "## Race"
   ]
  },
  {
   "cell_type": "code",
   "execution_count": null,
   "id": "25db39c9",
   "metadata": {},
   "outputs": [],
   "source": [
    "unique_race, counts = np.unique(df_person['Race'], return_counts=True)\n",
    "counts_dict = dict(zip(unique_race, counts))\n",
    "\n",
    "percentage_r = [(len(df_not_detected[df_not_detected[\"not_dect_races\"] == i]) / counts_dict[i]) * 100 for i in unique_race]"
   ]
  },
  {
   "cell_type": "code",
   "execution_count": null,
   "id": "161164ed",
   "metadata": {},
   "outputs": [],
   "source": [
    "percentage_r"
   ]
  },
  {
   "cell_type": "code",
   "execution_count": null,
   "id": "d2a20f0b",
   "metadata": {},
   "outputs": [],
   "source": [
    "labels = ['White','Black','Asian','Indian']\n",
    "colors = ['#957DAD','#E0BBE4','#D291BC','#FEC8D8']\n",
    "plt.bar(list(unique_race), percentage_r, color = colors)\n",
    "plt.xticks(list(unique_race), labels)\n",
    "plt.ylim([0, 14])\n",
    "plt.gca().set_yticklabels(['{:.0f}%'.format(x) for x in plt.gca().get_yticks()])\n",
    "plt.show()"
   ]
  },
  {
   "cell_type": "markdown",
   "id": "2ec65edc-f62d-44c2-a21b-691ae6b75c7a",
   "metadata": {},
   "source": [
    "### Køn"
   ]
  },
  {
   "cell_type": "code",
   "execution_count": null,
   "id": "76330510-c27b-40d1-b22c-aa338dada502",
   "metadata": {
    "tags": []
   },
   "outputs": [],
   "source": [
    "unique_gender, counts = np.unique(df_person['Genders'], return_counts=True)\n",
    "counts_dict = dict(zip(unique_gender, counts))\n",
    "\n",
    "percentage_g = [(len(df_not_detected[df_not_detected[\"not_dect_genders\"] == i]) / counts_dict[i]) * 100 for i in unique_gender]"
   ]
  },
  {
   "cell_type": "code",
   "execution_count": null,
   "id": "60127f38-cc41-4beb-b415-8aa18b5c02eb",
   "metadata": {},
   "outputs": [],
   "source": [
    "percentage_g"
   ]
  },
  {
   "cell_type": "code",
   "execution_count": null,
   "id": "123863be-7edc-4851-b563-11c09c940c94",
   "metadata": {},
   "outputs": [],
   "source": [
    "colors = ['#FFD180','#FFF59D']\n",
    "plt.bar(list(unique_gender), percentage_g, color = colors)\n",
    "plt.xticks(list(unique_gender), ['Male', 'Female'])\n",
    "plt.ylim([0, 10])\n",
    "plt.gca().set_yticklabels(['{:.0f}%'.format(x) for x in plt.gca().get_yticks()])\n",
    "plt.show()"
   ]
  },
  {
   "cell_type": "markdown",
   "id": "ef91a34f-364d-4432-b0b3-60e1fb98851b",
   "metadata": {},
   "source": [
    "### Caucasian"
   ]
  },
  {
   "cell_type": "code",
   "execution_count": null,
   "id": "56669d03-7be9-4bd6-a97f-fe9fb05e9096",
   "metadata": {},
   "outputs": [],
   "source": [
    "unique_caucasian, counts = np.unique(df_person['Caucasien/Non-caucasian'], return_counts=True)\n",
    "counts_dict = dict(zip(unique_caucasian, counts))\n",
    "percentage_c = [(len(df_not_detected[df_not_detected[\"not_dect_caucasian\"] == i]) / counts_dict[i]) * 100 for i in unique_caucasian]"
   ]
  },
  {
   "cell_type": "code",
   "execution_count": null,
   "id": "8c23dd8f-6bef-48f4-a586-0151ce3229c2",
   "metadata": {},
   "outputs": [],
   "source": [
    "percentage_c"
   ]
  },
  {
   "cell_type": "code",
   "execution_count": null,
   "id": "a0f920c7-803f-4a73-bfd1-bdff52455590",
   "metadata": {},
   "outputs": [],
   "source": [
    "colors = ['#A0D9D4', '#DBFFD6']\n",
    "labels = ['Caucasian', 'Non-caucasian']\n",
    "plt.bar(list(unique_caucasian), percentage_c,  color = colors)\n",
    "plt.xticks(list(unique_caucasian), labels)\n",
    "plt.ylim([0, 11])\n",
    "plt.gca().set_yticklabels(['{:.0f}%'.format(x) for x in plt.gca().get_yticks()])\n",
    "plt.show()"
   ]
  },
  {
   "cell_type": "markdown",
   "id": "0cac0a70-b940-4709-a5d8-aa4583be24c7",
   "metadata": {},
   "source": [
    "### Alder"
   ]
  },
  {
   "cell_type": "code",
   "execution_count": null,
   "id": "6c0d23c5-bb79-43bb-b07f-74f99c1e6c40",
   "metadata": {},
   "outputs": [],
   "source": [
    "unique_ages, counts = np.unique(df_person['Ages'], return_counts=True)\n",
    "counts_dict = dict(zip(unique_ages, counts))\n",
    "percentage_a = [(len(df_not_detected[df_not_detected[\"not_dect_ages\"] == i]) / counts_dict[i]) * 100 for i in unique_ages]\n",
    "\n"
   ]
  },
  {
   "cell_type": "code",
   "execution_count": null,
   "id": "71bc28de-a3af-4f71-8ced-c77c86a14fc4",
   "metadata": {},
   "outputs": [],
   "source": [
    "plt.plot(list(unique_ages), percentage_a, color = '#A0D9D4')\n",
    "plt.xlabel('Age')\n",
    "plt.ylabel('Frequencies')\n",
    "\n",
    "plt.show()"
   ]
  },
  {
   "cell_type": "markdown",
   "id": "42a73678-1033-4505-8e6f-5de254470fcd",
   "metadata": {},
   "source": [
    "# Displaying False negatives"
   ]
  },
  {
   "cell_type": "code",
   "execution_count": null,
   "id": "f6df2104-cb3e-42bd-978f-d9607156a351",
   "metadata": {},
   "outputs": [],
   "source": [
    "import random\n",
    "random_indices = random.sample(range(len(df_not_detected)), 5)\n",
    "\n",
    "fig, axs = plt.subplots(1, 5, figsize=(15, 3))\n",
    "\n",
    "for i, index in enumerate(random_indices):\n",
    "    image_path = df_not_detected['not_dect_images'][index]\n",
    "    \n",
    "    axs[i].imshow(image_path)\n",
    "    axs[i].axis('off')\n",
    "\n",
    "plt.tight_layout()\n",
    "plt.show()"
   ]
  },
  {
   "cell_type": "code",
   "execution_count": null,
   "id": "b75ae116-894d-4ccf-85ae-45e968ee8bfd",
   "metadata": {},
   "outputs": [],
   "source": [
    "import random\n",
    "import matplotlib.pyplot as plt\n",
    "\n",
    "random_indices = random.sample(range(len(df_not_detected)), 5)\n",
    "\n",
    "fig, axs = plt.subplots(1, 5, figsize=(15, 3))\n",
    "\n",
    "for i, index in enumerate(random_indices):\n",
    "    image_path = df_not_detected['not_dect_images'][index]\n",
    "    #image = plt.imread(image_path)\n",
    "    axs[i].imshow(image_path)\n",
    "    axs[i].axis('off')\n",
    "    axs[i].set_title('Race label: ' + str(int(df_not_detected['not_dect_races'][index])))\n",
    "\n",
    "plt.tight_layout()\n",
    "plt.show()"
   ]
  },
  {
   "cell_type": "code",
   "execution_count": null,
   "id": "5fab9dc1-5266-4234-b755-29c2d8db7406",
   "metadata": {},
   "outputs": [],
   "source": [
    "colors = ['#A0C4FF','#CAFFBF','#FFADAD','#FDFFB6']\n",
    "labels = ['Indian','Asian','Black','White']\n",
    "\n",
    "sns.histplot(data = df, x = df['Ages'], hue = df['Race'], bins=10, palette =colors, common_norm = False, stat='density', multiple = 'stack')\n",
    "plt.legend(labels)\n",
    "plt.xlabel('Ages')\n",
    "plt.show()"
   ]
  },
  {
   "cell_type": "code",
   "execution_count": null,
   "id": "211b4a76-e14d-4ff4-843b-27b6241e37d8",
   "metadata": {},
   "outputs": [],
   "source": [
    "colors = ['#A0C4FF','#CAFFBF','#FFADAD','#FDFFB6']\n",
    "labels = ['Indian','Asian','Black','White']\n",
    "\n",
    "sns.histplot(data = df_not_detected, x = df_not_detected['not_dect_ages'], hue = df_not_detected['not_dect_races'], bins=10, palette = colors, common_norm = False, stat='density', multiple = 'stack')\n",
    "plt.legend(labels)\n",
    "plt.xlabel('Ages')\n",
    "plt.show()"
   ]
  },
  {
   "cell_type": "code",
   "execution_count": null,
   "id": "c1ea476d-0a7c-452c-8432-adafd7d90882",
   "metadata": {},
   "outputs": [],
   "source": []
  }
 ],
 "metadata": {
  "kernelspec": {
   "display_name": "Python 3 (ipykernel)",
   "language": "python",
   "name": "python3"
  },
  "language_info": {
   "codemirror_mode": {
    "name": "ipython",
    "version": 3
   },
   "file_extension": ".py",
   "mimetype": "text/x-python",
   "name": "python",
   "nbconvert_exporter": "python",
   "pygments_lexer": "ipython3",
   "version": "3.7.13"
  }
 },
 "nbformat": 4,
 "nbformat_minor": 5
}
