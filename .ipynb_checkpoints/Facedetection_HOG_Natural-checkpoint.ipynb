{
 "cells": [
  {
   "cell_type": "code",
   "execution_count": 57,
   "id": "5a5df7a5-8a84-489e-9225-f90cb86fc1b2",
   "metadata": {},
   "outputs": [],
   "source": [
    "import pandas as pd\n",
    "import numpy as np\n",
    "import seaborn as sns\n",
    "import os\n",
    "from PIL import Image, ImageOps\n",
    "from sklearn.model_selection import train_test_split\n",
    "import cv2\n",
    "import dlib\n",
    "from time import time\n",
    "import matplotlib.pyplot as plt\n",
    "import copy\n",
    "import warnings\n",
    "from tqdm.notebook import tqdm\n",
    "from sklearn import metrics\n",
    "warnings.filterwarnings('ignore')"
   ]
  },
  {
   "cell_type": "code",
   "execution_count": 2,
   "id": "9f718f57-577b-4329-b8f1-2950e34a4903",
   "metadata": {},
   "outputs": [],
   "source": [
    "df = pd.read_pickle(\"/Users/laurabraadrasmussen/Bachelorprojekt/df3_w_natural.pkl\")"
   ]
  },
  {
   "cell_type": "code",
   "execution_count": 9,
   "id": "e02e002d-0ef2-43f8-9561-ebf836a5ffc5",
   "metadata": {},
   "outputs": [
    {
     "name": "stdout",
     "output_type": "stream",
     "text": [
      "<class 'pandas.core.frame.DataFrame'>\n",
      "RangeIndex: 4056 entries, 0 to 4055\n",
      "Data columns (total 7 columns):\n",
      " #   Column                   Non-Null Count  Dtype  \n",
      "---  ------                   --------------  -----  \n",
      " 0   Images                   4056 non-null   object \n",
      " 1   Ages                     3213 non-null   float64\n",
      " 2   Genders                  3213 non-null   float64\n",
      " 3   Race                     3213 non-null   float64\n",
      " 4   Caucasien/Non-caucasian  3213 non-null   float64\n",
      " 5   Label                    4056 non-null   int64  \n",
      " 6   Folder                   843 non-null    object \n",
      "dtypes: float64(4), int64(1), object(2)\n",
      "memory usage: 221.9+ KB\n",
      "None\n"
     ]
    }
   ],
   "source": [
    "print(df.info())"
   ]
  },
  {
   "cell_type": "code",
   "execution_count": 11,
   "id": "ee10c774-de51-4592-af18-1e2f60cf052c",
   "metadata": {},
   "outputs": [
    {
     "data": {
      "application/vnd.jupyter.widget-view+json": {
       "model_id": "71e05884291746c18b299fffef6588c4",
       "version_major": 2,
       "version_minor": 0
      },
      "text/plain": [
       "  0%|          | 0/200 [00:00<?, ?it/s]"
      ]
     },
     "metadata": {},
     "output_type": "display_data"
    }
   ],
   "source": [
    "# to array \n",
    "images_arr = []\n",
    "for im in tqdm(range(len(df))): \n",
    "    images_arr.append(np.array(df['Images'][im]))"
   ]
  },
  {
   "cell_type": "code",
   "execution_count": 12,
   "id": "8649586e-8ea7-44ff-9c7a-e7f381157191",
   "metadata": {},
   "outputs": [
    {
     "data": {
      "application/vnd.jupyter.widget-view+json": {
       "model_id": "8bf099ec06ae495bac70e7e82d180b89",
       "version_major": 2,
       "version_minor": 0
      },
      "text/plain": [
       "  0%|          | 0/200 [00:00<?, ?it/s]"
      ]
     },
     "metadata": {},
     "output_type": "display_data"
    }
   ],
   "source": [
    "images_output = []\n",
    "for i in tqdm(images_arr):\n",
    "    if len(i.shape) == 2:\n",
    "        images_output.append(cv2.cvtColor(i, cv2.COLOR_GRAY2BGR))\n",
    "    else:\n",
    "        images_output.append(i)"
   ]
  },
  {
   "cell_type": "markdown",
   "id": "9acd218f-3bb7-40e8-b0be-584ce9e657e8",
   "metadata": {},
   "source": [
    "## HOG"
   ]
  },
  {
   "cell_type": "code",
   "execution_count": 13,
   "id": "8f029c95-fde5-45ab-9a70-0672dfc8af09",
   "metadata": {},
   "outputs": [
    {
     "data": {
      "text/plain": [
       "<_dlib_pybind11.fhog_object_detector at 0x7f85689d5370>"
      ]
     },
     "execution_count": 13,
     "metadata": {},
     "output_type": "execute_result"
    }
   ],
   "source": [
    "# Get the HoG face detection model.\n",
    "hog_face_detector = dlib.get_frontal_face_detector()\n",
    "hog_face_detector"
   ]
  },
  {
   "cell_type": "code",
   "execution_count": 14,
   "id": "a287e1a8-76a7-4541-a623-a9198169981b",
   "metadata": {},
   "outputs": [],
   "source": [
    "def hogDetectFaces(image, hog_face_detector, display = True):\n",
    "    '''\n",
    "    This function performs face(s) detection on an image using dlib hog face detector.\n",
    "    Args:\n",
    "        image:             The input image of the person(s) whose face needs to be detected.\n",
    "        hog_face_detector: The hog face detection model required to perform the detection on the input image.\n",
    "        display:           A boolean value that is if set to true the function displays the original input image, \n",
    "                           and the output image with the bounding boxes drawn and time taken written and returns nothing.\n",
    "    Returns:\n",
    "        output_image: A copy of input image with the bounding boxes drawn.\n",
    "        results:      The output of the face detection process on the input image.\n",
    "    '''\n",
    "    \n",
    "    # Get the height and width of the input image.\n",
    "    \n",
    "    height, width, _ = image.shape\n",
    "    \n",
    "    \n",
    "    # Create a copy of the input image to draw bounding boxes on.\n",
    "    output_image = image.copy()\n",
    "    \n",
    "    # Convert the image from BGR into RGB format.\n",
    "    imgRGB = cv2.cvtColor(image, cv2.COLOR_BGR2RGB)\n",
    "    #imgRGB = image\n",
    "    # Get the current time before performing face detection.\n",
    "    start = time()\n",
    "\n",
    "    # Perform the face detection on the image.\n",
    "    results = hog_face_detector(imgRGB, 0)\n",
    "    \n",
    "    \n",
    "    # Get the current time after performing face detection.\n",
    "    end = time()\n",
    "    time_to_detect = round(end - start, 5)\n",
    "    # Loop through the bounding boxes of each face detected in the image.\n",
    "    for bbox in results:\n",
    "        \n",
    "        # Retrieve the left most x-coordinate of the bounding box.\n",
    "        x1 = bbox.left()\n",
    "        \n",
    "        # Retrieve the top most y-coordinate of the bounding box.\n",
    "        y1 = bbox.top()\n",
    "        \n",
    "        # Retrieve the right most x-coordinate of the bounding box.\n",
    "        x2 = bbox.right()\n",
    "        \n",
    "        # Retrieve the bottom most y-coordinate of the bounding box.       \n",
    "        y2 = bbox.bottom()\n",
    "\n",
    "        # Draw a rectangle around a face on the copy of the image using the retrieved coordinates.\n",
    "        cv2.rectangle(output_image, pt1=(x1, y1), pt2=(x2, y2), color=(0, 255, 0), thickness=width//200)\n",
    "    \n",
    "    \n",
    "    # Check if the original input image and the output image are specified to be displayed.\n",
    "    if display:\n",
    "        \n",
    "        # Write the time take by face detection process on the output image. \n",
    "        cv2.putText(output_image, text='Time taken: '+str(round(end - start, 2))+' Seconds.', org=(2, 30),\n",
    "                    fontFace=cv2.FONT_HERSHEY_COMPLEX, fontScale=width//700, color=(0,0,255), thickness=width//500)\n",
    "        \n",
    "        # Display the original input image and the output image.\n",
    "        plt.figure(figsize=[5,5])\n",
    "        plt.subplot(121);plt.imshow(image[:,:,::-1]);plt.title(\"Original Image\");plt.axis('off');\n",
    "        plt.subplot(122);plt.imshow(output_image[:,:,::-1]);plt.title(\"Output\");plt.axis('off');\n",
    "        \n",
    "    # Otherwise\n",
    "    else:\n",
    "        \n",
    "        # Return the output image and results of face detection.\n",
    "        return cv2.cvtColor(output_image, cv2.COLOR_RGB2BGR), results, time_to_detect"
   ]
  },
  {
   "cell_type": "code",
   "execution_count": 25,
   "id": "4e51c7c3-44b0-48bf-81e1-452ee34bcbeb",
   "metadata": {
    "tags": []
   },
   "outputs": [
    {
     "data": {
      "application/vnd.jupyter.widget-view+json": {
       "model_id": "32817470c92342ab822349858fa2f0ba",
       "version_major": 2,
       "version_minor": 0
      },
      "text/plain": [
       "  0%|          | 0/200 [00:00<?, ?it/s]"
      ]
     },
     "metadata": {},
     "output_type": "display_data"
    }
   ],
   "source": [
    "hogfaces = [hogDetectFaces(cv2.cvtColor(images_output[i], cv2.COLOR_RGB2BGR), hog_face_detector, display = False) for i in tqdm(range(len(images_output)))]"
   ]
  },
  {
   "cell_type": "code",
   "execution_count": 48,
   "id": "61424060-54f6-4ba0-9599-87516461eb5c",
   "metadata": {},
   "outputs": [
    {
     "data": {
      "text/plain": [
       "rectangles[]"
      ]
     },
     "execution_count": 48,
     "metadata": {},
     "output_type": "execute_result"
    }
   ],
   "source": [
    "hogfaces[6][1]"
   ]
  },
  {
   "cell_type": "code",
   "execution_count": 27,
   "id": "d5892cb7-873e-4f94-9b60-df76f20dabea",
   "metadata": {
    "tags": []
   },
   "outputs": [],
   "source": [
    "df['Predicted'] = np.where(len(hogfaces[][1]) == 0, 0, 1)"
   ]
  },
  {
   "cell_type": "code",
   "execution_count": 51,
   "id": "391fca02-75f5-418b-90a2-b816661d3e33",
   "metadata": {},
   "outputs": [
    {
     "data": {
      "text/html": [
       "<div>\n",
       "<style scoped>\n",
       "    .dataframe tbody tr th:only-of-type {\n",
       "        vertical-align: middle;\n",
       "    }\n",
       "\n",
       "    .dataframe tbody tr th {\n",
       "        vertical-align: top;\n",
       "    }\n",
       "\n",
       "    .dataframe thead th {\n",
       "        text-align: right;\n",
       "    }\n",
       "</style>\n",
       "<table border=\"1\" class=\"dataframe\">\n",
       "  <thead>\n",
       "    <tr style=\"text-align: right;\">\n",
       "      <th></th>\n",
       "      <th>Images</th>\n",
       "      <th>Ages</th>\n",
       "      <th>Genders</th>\n",
       "      <th>Race</th>\n",
       "      <th>Caucasien/Non-caucasian</th>\n",
       "      <th>Label</th>\n",
       "      <th>Folder</th>\n",
       "      <th>Predicted</th>\n",
       "    </tr>\n",
       "  </thead>\n",
       "  <tbody>\n",
       "    <tr>\n",
       "      <th>0</th>\n",
       "      <td>&lt;PIL.Image.Image image mode=RGB size=454x447 a...</td>\n",
       "      <td>28.0</td>\n",
       "      <td>1.0</td>\n",
       "      <td>3.0</td>\n",
       "      <td>1.0</td>\n",
       "      <td>1</td>\n",
       "      <td>NaN</td>\n",
       "      <td>1</td>\n",
       "    </tr>\n",
       "    <tr>\n",
       "      <th>1</th>\n",
       "      <td>&lt;PIL.Image.Image image mode=RGB size=552x367 a...</td>\n",
       "      <td>54.0</td>\n",
       "      <td>0.0</td>\n",
       "      <td>3.0</td>\n",
       "      <td>1.0</td>\n",
       "      <td>1</td>\n",
       "      <td>NaN</td>\n",
       "      <td>1</td>\n",
       "    </tr>\n",
       "    <tr>\n",
       "      <th>2</th>\n",
       "      <td>&lt;PIL.Image.Image image mode=RGB size=452x451 a...</td>\n",
       "      <td>25.0</td>\n",
       "      <td>0.0</td>\n",
       "      <td>3.0</td>\n",
       "      <td>1.0</td>\n",
       "      <td>1</td>\n",
       "      <td>NaN</td>\n",
       "      <td>1</td>\n",
       "    </tr>\n",
       "    <tr>\n",
       "      <th>3</th>\n",
       "      <td>&lt;PIL.Image.Image image mode=RGB size=400x509 a...</td>\n",
       "      <td>34.0</td>\n",
       "      <td>0.0</td>\n",
       "      <td>3.0</td>\n",
       "      <td>1.0</td>\n",
       "      <td>1</td>\n",
       "      <td>NaN</td>\n",
       "      <td>1</td>\n",
       "    </tr>\n",
       "    <tr>\n",
       "      <th>4</th>\n",
       "      <td>&lt;PIL.Image.Image image mode=RGB size=328x621 a...</td>\n",
       "      <td>50.0</td>\n",
       "      <td>0.0</td>\n",
       "      <td>0.0</td>\n",
       "      <td>0.0</td>\n",
       "      <td>1</td>\n",
       "      <td>NaN</td>\n",
       "      <td>1</td>\n",
       "    </tr>\n",
       "    <tr>\n",
       "      <th>...</th>\n",
       "      <td>...</td>\n",
       "      <td>...</td>\n",
       "      <td>...</td>\n",
       "      <td>...</td>\n",
       "      <td>...</td>\n",
       "      <td>...</td>\n",
       "      <td>...</td>\n",
       "      <td>...</td>\n",
       "    </tr>\n",
       "    <tr>\n",
       "      <th>195</th>\n",
       "      <td>&lt;PIL.Image.Image image mode=RGB size=462x439 a...</td>\n",
       "      <td>25.0</td>\n",
       "      <td>1.0</td>\n",
       "      <td>3.0</td>\n",
       "      <td>1.0</td>\n",
       "      <td>1</td>\n",
       "      <td>NaN</td>\n",
       "      <td>1</td>\n",
       "    </tr>\n",
       "    <tr>\n",
       "      <th>196</th>\n",
       "      <td>&lt;PIL.Image.Image image mode=RGB size=388x523 a...</td>\n",
       "      <td>26.0</td>\n",
       "      <td>0.0</td>\n",
       "      <td>0.0</td>\n",
       "      <td>0.0</td>\n",
       "      <td>1</td>\n",
       "      <td>NaN</td>\n",
       "      <td>1</td>\n",
       "    </tr>\n",
       "    <tr>\n",
       "      <th>197</th>\n",
       "      <td>&lt;PIL.Image.Image image mode=RGB size=232x335 a...</td>\n",
       "      <td>54.0</td>\n",
       "      <td>0.0</td>\n",
       "      <td>3.0</td>\n",
       "      <td>1.0</td>\n",
       "      <td>1</td>\n",
       "      <td>NaN</td>\n",
       "      <td>1</td>\n",
       "    </tr>\n",
       "    <tr>\n",
       "      <th>198</th>\n",
       "      <td>&lt;PIL.Image.Image image mode=RGB size=602x337 a...</td>\n",
       "      <td>55.0</td>\n",
       "      <td>0.0</td>\n",
       "      <td>0.0</td>\n",
       "      <td>0.0</td>\n",
       "      <td>1</td>\n",
       "      <td>NaN</td>\n",
       "      <td>1</td>\n",
       "    </tr>\n",
       "    <tr>\n",
       "      <th>199</th>\n",
       "      <td>&lt;PIL.Image.Image image mode=RGB size=360x231 a...</td>\n",
       "      <td>NaN</td>\n",
       "      <td>NaN</td>\n",
       "      <td>NaN</td>\n",
       "      <td>NaN</td>\n",
       "      <td>0</td>\n",
       "      <td>Flower</td>\n",
       "      <td>0</td>\n",
       "    </tr>\n",
       "  </tbody>\n",
       "</table>\n",
       "<p>200 rows × 8 columns</p>\n",
       "</div>"
      ],
      "text/plain": [
       "                                                Images  Ages  Genders  Race  \\\n",
       "0    <PIL.Image.Image image mode=RGB size=454x447 a...  28.0      1.0   3.0   \n",
       "1    <PIL.Image.Image image mode=RGB size=552x367 a...  54.0      0.0   3.0   \n",
       "2    <PIL.Image.Image image mode=RGB size=452x451 a...  25.0      0.0   3.0   \n",
       "3    <PIL.Image.Image image mode=RGB size=400x509 a...  34.0      0.0   3.0   \n",
       "4    <PIL.Image.Image image mode=RGB size=328x621 a...  50.0      0.0   0.0   \n",
       "..                                                 ...   ...      ...   ...   \n",
       "195  <PIL.Image.Image image mode=RGB size=462x439 a...  25.0      1.0   3.0   \n",
       "196  <PIL.Image.Image image mode=RGB size=388x523 a...  26.0      0.0   0.0   \n",
       "197  <PIL.Image.Image image mode=RGB size=232x335 a...  54.0      0.0   3.0   \n",
       "198  <PIL.Image.Image image mode=RGB size=602x337 a...  55.0      0.0   0.0   \n",
       "199  <PIL.Image.Image image mode=RGB size=360x231 a...   NaN      NaN   NaN   \n",
       "\n",
       "     Caucasien/Non-caucasian  Label  Folder  Predicted  \n",
       "0                        1.0      1     NaN          1  \n",
       "1                        1.0      1     NaN          1  \n",
       "2                        1.0      1     NaN          1  \n",
       "3                        1.0      1     NaN          1  \n",
       "4                        0.0      1     NaN          1  \n",
       "..                       ...    ...     ...        ...  \n",
       "195                      1.0      1     NaN          1  \n",
       "196                      0.0      1     NaN          1  \n",
       "197                      1.0      1     NaN          1  \n",
       "198                      0.0      1     NaN          1  \n",
       "199                      NaN      0  Flower          0  \n",
       "\n",
       "[200 rows x 8 columns]"
      ]
     },
     "execution_count": 51,
     "metadata": {},
     "output_type": "execute_result"
    }
   ],
   "source": [
    "df"
   ]
  },
  {
   "cell_type": "code",
   "execution_count": 55,
   "id": "66529102-a3c5-4df1-9ba9-1eadba3268f7",
   "metadata": {},
   "outputs": [
    {
     "data": {
      "text/html": [
       "<div>\n",
       "<style scoped>\n",
       "    .dataframe tbody tr th:only-of-type {\n",
       "        vertical-align: middle;\n",
       "    }\n",
       "\n",
       "    .dataframe tbody tr th {\n",
       "        vertical-align: top;\n",
       "    }\n",
       "\n",
       "    .dataframe thead th {\n",
       "        text-align: right;\n",
       "    }\n",
       "</style>\n",
       "<table border=\"1\" class=\"dataframe\">\n",
       "  <thead>\n",
       "    <tr style=\"text-align: right;\">\n",
       "      <th></th>\n",
       "      <th>Images</th>\n",
       "      <th>Ages</th>\n",
       "      <th>Genders</th>\n",
       "      <th>Race</th>\n",
       "      <th>Caucasien/Non-caucasian</th>\n",
       "      <th>Label</th>\n",
       "      <th>Folder</th>\n",
       "      <th>Predicted</th>\n",
       "    </tr>\n",
       "  </thead>\n",
       "  <tbody>\n",
       "    <tr>\n",
       "      <th>0</th>\n",
       "      <td>&lt;PIL.Image.Image image mode=RGB size=454x447 a...</td>\n",
       "      <td>28.0</td>\n",
       "      <td>1.0</td>\n",
       "      <td>3.0</td>\n",
       "      <td>1.0</td>\n",
       "      <td>1</td>\n",
       "      <td>NaN</td>\n",
       "      <td>1</td>\n",
       "    </tr>\n",
       "    <tr>\n",
       "      <th>1</th>\n",
       "      <td>&lt;PIL.Image.Image image mode=RGB size=552x367 a...</td>\n",
       "      <td>54.0</td>\n",
       "      <td>0.0</td>\n",
       "      <td>3.0</td>\n",
       "      <td>1.0</td>\n",
       "      <td>1</td>\n",
       "      <td>NaN</td>\n",
       "      <td>1</td>\n",
       "    </tr>\n",
       "    <tr>\n",
       "      <th>2</th>\n",
       "      <td>&lt;PIL.Image.Image image mode=RGB size=452x451 a...</td>\n",
       "      <td>25.0</td>\n",
       "      <td>0.0</td>\n",
       "      <td>3.0</td>\n",
       "      <td>1.0</td>\n",
       "      <td>1</td>\n",
       "      <td>NaN</td>\n",
       "      <td>1</td>\n",
       "    </tr>\n",
       "    <tr>\n",
       "      <th>3</th>\n",
       "      <td>&lt;PIL.Image.Image image mode=RGB size=400x509 a...</td>\n",
       "      <td>34.0</td>\n",
       "      <td>0.0</td>\n",
       "      <td>3.0</td>\n",
       "      <td>1.0</td>\n",
       "      <td>1</td>\n",
       "      <td>NaN</td>\n",
       "      <td>1</td>\n",
       "    </tr>\n",
       "    <tr>\n",
       "      <th>4</th>\n",
       "      <td>&lt;PIL.Image.Image image mode=RGB size=328x621 a...</td>\n",
       "      <td>50.0</td>\n",
       "      <td>0.0</td>\n",
       "      <td>0.0</td>\n",
       "      <td>0.0</td>\n",
       "      <td>1</td>\n",
       "      <td>NaN</td>\n",
       "      <td>1</td>\n",
       "    </tr>\n",
       "    <tr>\n",
       "      <th>...</th>\n",
       "      <td>...</td>\n",
       "      <td>...</td>\n",
       "      <td>...</td>\n",
       "      <td>...</td>\n",
       "      <td>...</td>\n",
       "      <td>...</td>\n",
       "      <td>...</td>\n",
       "      <td>...</td>\n",
       "    </tr>\n",
       "    <tr>\n",
       "      <th>193</th>\n",
       "      <td>&lt;PIL.Image.Image image mode=RGB size=602x337 a...</td>\n",
       "      <td>54.0</td>\n",
       "      <td>0.0</td>\n",
       "      <td>3.0</td>\n",
       "      <td>1.0</td>\n",
       "      <td>1</td>\n",
       "      <td>NaN</td>\n",
       "      <td>1</td>\n",
       "    </tr>\n",
       "    <tr>\n",
       "      <th>195</th>\n",
       "      <td>&lt;PIL.Image.Image image mode=RGB size=462x439 a...</td>\n",
       "      <td>25.0</td>\n",
       "      <td>1.0</td>\n",
       "      <td>3.0</td>\n",
       "      <td>1.0</td>\n",
       "      <td>1</td>\n",
       "      <td>NaN</td>\n",
       "      <td>1</td>\n",
       "    </tr>\n",
       "    <tr>\n",
       "      <th>196</th>\n",
       "      <td>&lt;PIL.Image.Image image mode=RGB size=388x523 a...</td>\n",
       "      <td>26.0</td>\n",
       "      <td>0.0</td>\n",
       "      <td>0.0</td>\n",
       "      <td>0.0</td>\n",
       "      <td>1</td>\n",
       "      <td>NaN</td>\n",
       "      <td>1</td>\n",
       "    </tr>\n",
       "    <tr>\n",
       "      <th>197</th>\n",
       "      <td>&lt;PIL.Image.Image image mode=RGB size=232x335 a...</td>\n",
       "      <td>54.0</td>\n",
       "      <td>0.0</td>\n",
       "      <td>3.0</td>\n",
       "      <td>1.0</td>\n",
       "      <td>1</td>\n",
       "      <td>NaN</td>\n",
       "      <td>1</td>\n",
       "    </tr>\n",
       "    <tr>\n",
       "      <th>198</th>\n",
       "      <td>&lt;PIL.Image.Image image mode=RGB size=602x337 a...</td>\n",
       "      <td>55.0</td>\n",
       "      <td>0.0</td>\n",
       "      <td>0.0</td>\n",
       "      <td>0.0</td>\n",
       "      <td>1</td>\n",
       "      <td>NaN</td>\n",
       "      <td>1</td>\n",
       "    </tr>\n",
       "  </tbody>\n",
       "</table>\n",
       "<p>162 rows × 8 columns</p>\n",
       "</div>"
      ],
      "text/plain": [
       "                                                Images  Ages  Genders  Race  \\\n",
       "0    <PIL.Image.Image image mode=RGB size=454x447 a...  28.0      1.0   3.0   \n",
       "1    <PIL.Image.Image image mode=RGB size=552x367 a...  54.0      0.0   3.0   \n",
       "2    <PIL.Image.Image image mode=RGB size=452x451 a...  25.0      0.0   3.0   \n",
       "3    <PIL.Image.Image image mode=RGB size=400x509 a...  34.0      0.0   3.0   \n",
       "4    <PIL.Image.Image image mode=RGB size=328x621 a...  50.0      0.0   0.0   \n",
       "..                                                 ...   ...      ...   ...   \n",
       "193  <PIL.Image.Image image mode=RGB size=602x337 a...  54.0      0.0   3.0   \n",
       "195  <PIL.Image.Image image mode=RGB size=462x439 a...  25.0      1.0   3.0   \n",
       "196  <PIL.Image.Image image mode=RGB size=388x523 a...  26.0      0.0   0.0   \n",
       "197  <PIL.Image.Image image mode=RGB size=232x335 a...  54.0      0.0   3.0   \n",
       "198  <PIL.Image.Image image mode=RGB size=602x337 a...  55.0      0.0   0.0   \n",
       "\n",
       "     Caucasien/Non-caucasian  Label Folder  Predicted  \n",
       "0                        1.0      1    NaN          1  \n",
       "1                        1.0      1    NaN          1  \n",
       "2                        1.0      1    NaN          1  \n",
       "3                        1.0      1    NaN          1  \n",
       "4                        0.0      1    NaN          1  \n",
       "..                       ...    ...    ...        ...  \n",
       "193                      1.0      1    NaN          1  \n",
       "195                      1.0      1    NaN          1  \n",
       "196                      0.0      1    NaN          1  \n",
       "197                      1.0      1    NaN          1  \n",
       "198                      0.0      1    NaN          1  \n",
       "\n",
       "[162 rows x 8 columns]"
      ]
     },
     "execution_count": 55,
     "metadata": {},
     "output_type": "execute_result"
    }
   ],
   "source": [
    "df[df['Predicted'] == 1]"
   ]
  },
  {
   "cell_type": "code",
   "execution_count": 54,
   "id": "9e06ffed-6426-4895-99f3-97e741672739",
   "metadata": {},
   "outputs": [],
   "source": [
    "Predicted = [] #[0 if len(hogfaces[i][1]) == 0 else 1 for i in range(len(hogfaces))]\n",
    "\n",
    "for i in range(len(hogfaces)):\n",
    "    if len(hogfaces[i][1]) == 0:\n",
    "        df['Predicted'].iloc[i] = 0\n",
    "    else:\n",
    "        df['Predicted'].iloc[i]  = 1"
   ]
  },
  {
   "cell_type": "markdown",
   "id": "e35efa5d-445c-4a22-9509-3417403b2bc4",
   "metadata": {},
   "source": [
    "## Confusion matrix"
   ]
  },
  {
   "cell_type": "code",
   "execution_count": 59,
   "id": "096f1d23-ff3c-4af5-98f7-568b59b2cb88",
   "metadata": {},
   "outputs": [],
   "source": [
    "Actual = df['Label']\n",
    "Predicted = df['Predicted']\n",
    "\n",
    "Confusion_matrix = metrics.confusion_matrix(Actual, Predicted)"
   ]
  },
  {
   "cell_type": "code",
   "execution_count": 68,
   "id": "a0ae2db6-5298-4b99-828e-97be61a9b4a3",
   "metadata": {},
   "outputs": [
    {
     "data": {
      "text/plain": [
       "0      True\n",
       "1      True\n",
       "2      True\n",
       "3      True\n",
       "4      True\n",
       "       ... \n",
       "195    True\n",
       "196    True\n",
       "197    True\n",
       "198    True\n",
       "199    True\n",
       "Length: 200, dtype: bool"
      ]
     },
     "execution_count": 68,
     "metadata": {},
     "output_type": "execute_result"
    }
   ],
   "source": [
    "df['Label'] == df['Predicted']"
   ]
  },
  {
   "cell_type": "code",
   "execution_count": 64,
   "id": "85bf95f1-5a02-4763-931f-03bc43a5a79d",
   "metadata": {},
   "outputs": [],
   "source": [
    "cm_display = metrics.ConfusionMatrixDisplay(confusion_matrix = Confusion_matrix, display_labels = [False, True] )"
   ]
  },
  {
   "cell_type": "code",
   "execution_count": 65,
   "id": "bff697ba-7c78-44c8-9a66-950f99b5919b",
   "metadata": {},
   "outputs": [
    {
     "data": {
      "image/png": "[encoded data removed]",
      "text/plain": [
       "<Figure size 640x480 with 2 Axes>"
      ]
     },
     "metadata": {},
     "output_type": "display_data"
    }
   ],
   "source": [
    "cm_display.plot()\n",
    "plt.show()"
   ]
  },
  {
   "cell_type": "code",
   "execution_count": null,
   "id": "131f047a-e499-43b9-9be7-bd5cd03e5223",
   "metadata": {},
   "outputs": [],
   "source": []
  }
 ],
 "metadata": {
  "kernelspec": {
   "display_name": "Python 3 (ipykernel)",
   "language": "python",
   "name": "python3"
  },
  "language_info": {
   "codemirror_mode": {
    "name": "ipython",
    "version": 3
   },
   "file_extension": ".py",
   "mimetype": "text/x-python",
   "name": "python",
   "nbconvert_exporter": "python",
   "pygments_lexer": "ipython3",
   "version": "3.7.13"
  }
 },
 "nbformat": 4,
 "nbformat_minor": 5
}
