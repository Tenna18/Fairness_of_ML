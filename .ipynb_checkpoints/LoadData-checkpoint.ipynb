{
 "cells": [
  {
   "cell_type": "code",
   "execution_count": 1,
   "id": "05192b77-2e69-4ae5-ba97-a235a0d44f99",
   "metadata": {},
   "outputs": [],
   "source": [
    "import pandas as pd\n",
    "import numpy as np\n",
    "import seaborn as sns\n",
    "import os\n",
    "from PIL import Image, ImageOps\n",
    "from sklearn.model_selection import train_test_split\n",
    "import cv2\n",
    "import dlib\n",
    "from time import time\n",
    "import matplotlib.pyplot as plt\n",
    "import copy\n",
    "import warnings\n",
    "from tqdm.notebook import tqdm\n",
    "warnings.filterwarnings('ignore')\n",
    "import re"
   ]
  },
  {
   "cell_type": "markdown",
   "id": "088f3989-9345-43c5-af00-9db05534fe9a",
   "metadata": {},
   "source": [
    "## Load data\n",
    "### Part 1"
   ]
  },
  {
   "cell_type": "code",
   "execution_count": 2,
   "id": "95b60704-0176-49a2-9d36-297a54378686",
   "metadata": {},
   "outputs": [],
   "source": [
    "pattern = r'\\d+_\\d+_\\d+_[0-9]+\\.jpg'\n",
    "\n",
    "def check(image):\n",
    "    if(re.fullmatch(pattern, image)):\n",
    "        return True\n",
    " \n",
    "    else:\n",
    "        return False  "
   ]
  },
  {
   "cell_type": "code",
   "execution_count": 3,
   "id": "76c66a62-289e-42b3-9454-a437c2b715fc",
   "metadata": {},
   "outputs": [
    {
     "data": {
      "application/vnd.jupyter.widget-view+json": {
       "model_id": "f6184c0fe1b4459d9db24b3ffe46d533",
       "version_major": 2,
       "version_minor": 0
      },
      "text/plain": [
       "  0%|          | 0/10137 [00:00<?, ?it/s]"
      ]
     },
     "metadata": {},
     "output_type": "display_data"
    }
   ],
   "source": [
    "#path = '/Users/tennanielsen/Desktop/Bachelor/Data/UTKface_Aligned_cropped/crop_part1/'\n",
    "path = '/Users/laurabraadrasmussen/Bachelorprojekt/Data/UTKface_inthewild/part1/'\n",
    "\n",
    "images = [Image.open(path + i).copy() for i in tqdm(os.listdir(path)) if check(i)]\n",
    "ages = [int(i.split('_')[0]) for i in os.listdir(path) if check(i)]\n",
    "genders = [int(i.split('_')[1]) for i in os.listdir(path) if check(i)]\n",
    "race = [int(i.split('_')[2]) for i in os.listdir(path) if check(i)]"
   ]
  },
  {
   "cell_type": "code",
   "execution_count": 4,
   "id": "581b6718-3f32-462d-a871-9787ff674a69",
   "metadata": {},
   "outputs": [],
   "source": [
    "df = pd.DataFrame({'Images': images, 'Ages': ages, 'Genders': genders, 'Race': race})"
   ]
  },
  {
   "cell_type": "code",
   "execution_count": 5,
   "id": "43f813c4-4a97-49c6-9056-f201cae17593",
   "metadata": {},
   "outputs": [],
   "source": [
    "# Adding column\n",
    "df['Caucasien/Non-caucasian'] = [0 if ele  == 0 else 1 for ele in df[\"Race\"]]\n",
    "\n",
    "# Removing race 'others'\n",
    "df = df[df.Race != 4]\n",
    "df = df.reset_index(drop=True)"
   ]
  },
  {
   "cell_type": "code",
   "execution_count": 6,
   "id": "f9731ab0-c6fc-4db6-8361-9e3f2de2da2c",
   "metadata": {},
   "outputs": [
    {
     "data": {
      "text/html": [
       "<div>\n",
       "<style scoped>\n",
       "    .dataframe tbody tr th:only-of-type {\n",
       "        vertical-align: middle;\n",
       "    }\n",
       "\n",
       "    .dataframe tbody tr th {\n",
       "        vertical-align: top;\n",
       "    }\n",
       "\n",
       "    .dataframe thead th {\n",
       "        text-align: right;\n",
       "    }\n",
       "</style>\n",
       "<table border=\"1\" class=\"dataframe\">\n",
       "  <thead>\n",
       "    <tr style=\"text-align: right;\">\n",
       "      <th></th>\n",
       "      <th>Images</th>\n",
       "      <th>Ages</th>\n",
       "      <th>Genders</th>\n",
       "      <th>Race</th>\n",
       "      <th>Caucasien/Non-caucasian</th>\n",
       "    </tr>\n",
       "  </thead>\n",
       "  <tbody>\n",
       "    <tr>\n",
       "      <th>0</th>\n",
       "      <td>&lt;PIL.Image.Image image mode=RGB size=368x551 a...</td>\n",
       "      <td>16</td>\n",
       "      <td>1</td>\n",
       "      <td>3</td>\n",
       "      <td>1</td>\n",
       "    </tr>\n",
       "    <tr>\n",
       "      <th>1</th>\n",
       "      <td>&lt;PIL.Image.Image image mode=RGB size=552x367 a...</td>\n",
       "      <td>40</td>\n",
       "      <td>1</td>\n",
       "      <td>0</td>\n",
       "      <td>0</td>\n",
       "    </tr>\n",
       "    <tr>\n",
       "      <th>2</th>\n",
       "      <td>&lt;PIL.Image.Image image mode=RGB size=227x300 a...</td>\n",
       "      <td>71</td>\n",
       "      <td>1</td>\n",
       "      <td>0</td>\n",
       "      <td>0</td>\n",
       "    </tr>\n",
       "    <tr>\n",
       "      <th>3</th>\n",
       "      <td>&lt;PIL.Image.Image image mode=RGB size=236x354 a...</td>\n",
       "      <td>80</td>\n",
       "      <td>1</td>\n",
       "      <td>0</td>\n",
       "      <td>0</td>\n",
       "    </tr>\n",
       "    <tr>\n",
       "      <th>4</th>\n",
       "      <td>&lt;PIL.Image.Image image mode=RGB size=255x300 a...</td>\n",
       "      <td>6</td>\n",
       "      <td>1</td>\n",
       "      <td>2</td>\n",
       "      <td>1</td>\n",
       "    </tr>\n",
       "    <tr>\n",
       "      <th>...</th>\n",
       "      <td>...</td>\n",
       "      <td>...</td>\n",
       "      <td>...</td>\n",
       "      <td>...</td>\n",
       "      <td>...</td>\n",
       "    </tr>\n",
       "    <tr>\n",
       "      <th>9009</th>\n",
       "      <td>&lt;PIL.Image.Image image mode=RGB size=300x470 a...</td>\n",
       "      <td>16</td>\n",
       "      <td>0</td>\n",
       "      <td>0</td>\n",
       "      <td>0</td>\n",
       "    </tr>\n",
       "    <tr>\n",
       "      <th>9010</th>\n",
       "      <td>&lt;PIL.Image.Image image mode=RGB size=320x327 a...</td>\n",
       "      <td>53</td>\n",
       "      <td>0</td>\n",
       "      <td>0</td>\n",
       "      <td>0</td>\n",
       "    </tr>\n",
       "    <tr>\n",
       "      <th>9011</th>\n",
       "      <td>&lt;PIL.Image.Image image mode=RGB size=346x433 a...</td>\n",
       "      <td>36</td>\n",
       "      <td>0</td>\n",
       "      <td>0</td>\n",
       "      <td>0</td>\n",
       "    </tr>\n",
       "    <tr>\n",
       "      <th>9012</th>\n",
       "      <td>&lt;PIL.Image.Image image mode=RGB size=221x164 a...</td>\n",
       "      <td>1</td>\n",
       "      <td>0</td>\n",
       "      <td>2</td>\n",
       "      <td>1</td>\n",
       "    </tr>\n",
       "    <tr>\n",
       "      <th>9013</th>\n",
       "      <td>&lt;PIL.Image.Image image mode=RGB size=322x321 a...</td>\n",
       "      <td>29</td>\n",
       "      <td>0</td>\n",
       "      <td>0</td>\n",
       "      <td>0</td>\n",
       "    </tr>\n",
       "  </tbody>\n",
       "</table>\n",
       "<p>9014 rows × 5 columns</p>\n",
       "</div>"
      ],
      "text/plain": [
       "                                                 Images  Ages  Genders  Race  \\\n",
       "0     <PIL.Image.Image image mode=RGB size=368x551 a...    16        1     3   \n",
       "1     <PIL.Image.Image image mode=RGB size=552x367 a...    40        1     0   \n",
       "2     <PIL.Image.Image image mode=RGB size=227x300 a...    71        1     0   \n",
       "3     <PIL.Image.Image image mode=RGB size=236x354 a...    80        1     0   \n",
       "4     <PIL.Image.Image image mode=RGB size=255x300 a...     6        1     2   \n",
       "...                                                 ...   ...      ...   ...   \n",
       "9009  <PIL.Image.Image image mode=RGB size=300x470 a...    16        0     0   \n",
       "9010  <PIL.Image.Image image mode=RGB size=320x327 a...    53        0     0   \n",
       "9011  <PIL.Image.Image image mode=RGB size=346x433 a...    36        0     0   \n",
       "9012  <PIL.Image.Image image mode=RGB size=221x164 a...     1        0     2   \n",
       "9013  <PIL.Image.Image image mode=RGB size=322x321 a...    29        0     0   \n",
       "\n",
       "      Caucasien/Non-caucasian  \n",
       "0                           1  \n",
       "1                           0  \n",
       "2                           0  \n",
       "3                           0  \n",
       "4                           1  \n",
       "...                       ...  \n",
       "9009                        0  \n",
       "9010                        0  \n",
       "9011                        0  \n",
       "9012                        1  \n",
       "9013                        0  \n",
       "\n",
       "[9014 rows x 5 columns]"
      ]
     },
     "execution_count": 6,
     "metadata": {},
     "output_type": "execute_result"
    }
   ],
   "source": [
    "df"
   ]
  },
  {
   "cell_type": "code",
   "execution_count": 8,
   "id": "3c701325-01de-4277-bd91-90d79858d04d",
   "metadata": {},
   "outputs": [
    {
     "data": {
      "text/plain": [
       "<AxesSubplot:xlabel='Ages', ylabel='Density'>"
      ]
     },
     "execution_count": 8,
     "metadata": {},
     "output_type": "execute_result"
    },
    {
     "data": {
      "image/png": "[encoded data removed]",
      "text/plain": [
       "<Figure size 640x480 with 1 Axes>"
      ]
     },
     "metadata": {},
     "output_type": "display_data"
    }
   ],
   "source": [
    "sns.distplot(df['Ages'],kde=True, bins=30)"
   ]
  },
  {
   "cell_type": "markdown",
   "id": "b1d6fab3-ee36-4caf-8a5f-cd33a72382d1",
   "metadata": {},
   "source": [
    "### Part 2"
   ]
  },
  {
   "cell_type": "code",
   "execution_count": 3,
   "id": "e5cebf87-3dd5-477c-9c25-4a77c9498389",
   "metadata": {},
   "outputs": [
    {
     "data": {
      "application/vnd.jupyter.widget-view+json": {
       "model_id": "374aa5b57f3d44b0878aeb18b2946b71",
       "version_major": 2,
       "version_minor": 0
      },
      "text/plain": [
       "  0%|          | 0/10719 [00:00<?, ?it/s]"
      ]
     },
     "metadata": {},
     "output_type": "display_data"
    }
   ],
   "source": [
    "#path = '/Users/tennanielsen/Desktop/Bachelor/Data/UTKface_Aligned_cropped/crop_part2/'\n",
    "path = '/Users/laurabraadrasmussen/Bachelorprojekt/Data/UTKface_inthewild/part2/'\n",
    "\n",
    "images = [Image.open(path + i).copy() for i in tqdm(os.listdir(path)) if check(i)]\n",
    "ages = [int(i.split('_')[0]) for i in os.listdir(path) if check(i)]\n",
    "genders = [int(i.split('_')[1]) for i in os.listdir(path) if check(i)]\n",
    "race = [int(i.split('_')[2]) for i in os.listdir(path) if check(i)]"
   ]
  },
  {
   "cell_type": "code",
   "execution_count": 4,
   "id": "daa50c8e-15e2-4e40-8c24-1cdb58f6af24",
   "metadata": {},
   "outputs": [],
   "source": [
    "df2 = pd.DataFrame({'Images': images, 'Ages': ages, 'Genders': genders, 'Race': race})"
   ]
  },
  {
   "cell_type": "code",
   "execution_count": 5,
   "id": "19be63c7-5ebd-4933-9f39-2e6ef3255849",
   "metadata": {},
   "outputs": [],
   "source": [
    "# Adding column\n",
    "df2['Caucasien/Non-caucasian'] = [0 if ele  == 0 else 1 for ele in df2[\"Race\"]]\n",
    "\n",
    "# Removing race 'others'\n",
    "df2 = df2[df2.Race != 4]\n",
    "df2 = df2.reset_index(drop=True)"
   ]
  },
  {
   "cell_type": "code",
   "execution_count": 6,
   "id": "025e3912-c0f8-4d3d-984f-1666d9da294a",
   "metadata": {},
   "outputs": [
    {
     "data": {
      "text/html": [
       "<div>\n",
       "<style scoped>\n",
       "    .dataframe tbody tr th:only-of-type {\n",
       "        vertical-align: middle;\n",
       "    }\n",
       "\n",
       "    .dataframe tbody tr th {\n",
       "        vertical-align: top;\n",
       "    }\n",
       "\n",
       "    .dataframe thead th {\n",
       "        text-align: right;\n",
       "    }\n",
       "</style>\n",
       "<table border=\"1\" class=\"dataframe\">\n",
       "  <thead>\n",
       "    <tr style=\"text-align: right;\">\n",
       "      <th></th>\n",
       "      <th>Images</th>\n",
       "      <th>Ages</th>\n",
       "      <th>Genders</th>\n",
       "      <th>Race</th>\n",
       "      <th>Caucasien/Non-caucasian</th>\n",
       "    </tr>\n",
       "  </thead>\n",
       "  <tbody>\n",
       "    <tr>\n",
       "      <th>0</th>\n",
       "      <td>&lt;PIL.Image.Image image mode=RGB size=1194x683 ...</td>\n",
       "      <td>26</td>\n",
       "      <td>0</td>\n",
       "      <td>1</td>\n",
       "      <td>1</td>\n",
       "    </tr>\n",
       "    <tr>\n",
       "      <th>1</th>\n",
       "      <td>&lt;PIL.Image.Image image mode=RGB size=1082x751 ...</td>\n",
       "      <td>40</td>\n",
       "      <td>0</td>\n",
       "      <td>0</td>\n",
       "      <td>0</td>\n",
       "    </tr>\n",
       "    <tr>\n",
       "      <th>2</th>\n",
       "      <td>&lt;PIL.Image.Image image mode=RGB size=602x695 a...</td>\n",
       "      <td>29</td>\n",
       "      <td>1</td>\n",
       "      <td>2</td>\n",
       "      <td>1</td>\n",
       "    </tr>\n",
       "    <tr>\n",
       "      <th>3</th>\n",
       "      <td>&lt;PIL.Image.Image image mode=RGB size=738x1103 ...</td>\n",
       "      <td>32</td>\n",
       "      <td>1</td>\n",
       "      <td>0</td>\n",
       "      <td>0</td>\n",
       "    </tr>\n",
       "    <tr>\n",
       "      <th>4</th>\n",
       "      <td>&lt;PIL.Image.Image image mode=RGB size=966x643 a...</td>\n",
       "      <td>24</td>\n",
       "      <td>0</td>\n",
       "      <td>1</td>\n",
       "      <td>1</td>\n",
       "    </tr>\n",
       "    <tr>\n",
       "      <th>...</th>\n",
       "      <td>...</td>\n",
       "      <td>...</td>\n",
       "      <td>...</td>\n",
       "      <td>...</td>\n",
       "      <td>...</td>\n",
       "    </tr>\n",
       "    <tr>\n",
       "      <th>10159</th>\n",
       "      <td>&lt;PIL.Image.Image image mode=RGB size=914x891 a...</td>\n",
       "      <td>25</td>\n",
       "      <td>1</td>\n",
       "      <td>0</td>\n",
       "      <td>0</td>\n",
       "    </tr>\n",
       "    <tr>\n",
       "      <th>10160</th>\n",
       "      <td>&lt;PIL.Image.Image image mode=RGB size=822x659 a...</td>\n",
       "      <td>5</td>\n",
       "      <td>1</td>\n",
       "      <td>1</td>\n",
       "      <td>1</td>\n",
       "    </tr>\n",
       "    <tr>\n",
       "      <th>10161</th>\n",
       "      <td>&lt;PIL.Image.Image image mode=RGB size=1206x675 ...</td>\n",
       "      <td>25</td>\n",
       "      <td>0</td>\n",
       "      <td>0</td>\n",
       "      <td>0</td>\n",
       "    </tr>\n",
       "    <tr>\n",
       "      <th>10162</th>\n",
       "      <td>&lt;PIL.Image.Image image mode=RGB size=726x1123 ...</td>\n",
       "      <td>22</td>\n",
       "      <td>1</td>\n",
       "      <td>1</td>\n",
       "      <td>1</td>\n",
       "    </tr>\n",
       "    <tr>\n",
       "      <th>10163</th>\n",
       "      <td>&lt;PIL.Image.Image image mode=RGB size=486x727 a...</td>\n",
       "      <td>26</td>\n",
       "      <td>1</td>\n",
       "      <td>3</td>\n",
       "      <td>1</td>\n",
       "    </tr>\n",
       "  </tbody>\n",
       "</table>\n",
       "<p>10164 rows × 5 columns</p>\n",
       "</div>"
      ],
      "text/plain": [
       "                                                  Images  Ages  Genders  Race  \\\n",
       "0      <PIL.Image.Image image mode=RGB size=1194x683 ...    26        0     1   \n",
       "1      <PIL.Image.Image image mode=RGB size=1082x751 ...    40        0     0   \n",
       "2      <PIL.Image.Image image mode=RGB size=602x695 a...    29        1     2   \n",
       "3      <PIL.Image.Image image mode=RGB size=738x1103 ...    32        1     0   \n",
       "4      <PIL.Image.Image image mode=RGB size=966x643 a...    24        0     1   \n",
       "...                                                  ...   ...      ...   ...   \n",
       "10159  <PIL.Image.Image image mode=RGB size=914x891 a...    25        1     0   \n",
       "10160  <PIL.Image.Image image mode=RGB size=822x659 a...     5        1     1   \n",
       "10161  <PIL.Image.Image image mode=RGB size=1206x675 ...    25        0     0   \n",
       "10162  <PIL.Image.Image image mode=RGB size=726x1123 ...    22        1     1   \n",
       "10163  <PIL.Image.Image image mode=RGB size=486x727 a...    26        1     3   \n",
       "\n",
       "       Caucasien/Non-caucasian  \n",
       "0                            1  \n",
       "1                            0  \n",
       "2                            1  \n",
       "3                            0  \n",
       "4                            1  \n",
       "...                        ...  \n",
       "10159                        0  \n",
       "10160                        1  \n",
       "10161                        0  \n",
       "10162                        1  \n",
       "10163                        1  \n",
       "\n",
       "[10164 rows x 5 columns]"
      ]
     },
     "execution_count": 6,
     "metadata": {},
     "output_type": "execute_result"
    }
   ],
   "source": [
    "df2"
   ]
  },
  {
   "cell_type": "code",
   "execution_count": 7,
   "id": "a17af120-f7ed-4de1-9df9-84ec8f3321ef",
   "metadata": {},
   "outputs": [
    {
     "data": {
      "text/plain": [
       "<AxesSubplot:xlabel='Ages', ylabel='Density'>"
      ]
     },
     "execution_count": 7,
     "metadata": {},
     "output_type": "execute_result"
    },
    {
     "data": {
      "image/png": "[encoded data removed]",
      "text/plain": [
       "<Figure size 640x480 with 1 Axes>"
      ]
     },
     "metadata": {},
     "output_type": "display_data"
    }
   ],
   "source": [
    "sns.distplot(df2['Ages'],kde=True, bins=30)"
   ]
  },
  {
   "cell_type": "markdown",
   "id": "8f5a9d2d-478f-47cf-9dff-7008a8280d4a",
   "metadata": {},
   "source": [
    "### Part 3"
   ]
  },
  {
   "cell_type": "code",
   "execution_count": 9,
   "id": "4c9d30ec-163e-41d4-b0b2-c75f890eb9fb",
   "metadata": {},
   "outputs": [
    {
     "data": {
      "application/vnd.jupyter.widget-view+json": {
       "model_id": "f030b41b276c4754b7f01c888106a120",
       "version_major": 2,
       "version_minor": 0
      },
      "text/plain": [
       "  0%|          | 0/3253 [00:00<?, ?it/s]"
      ]
     },
     "metadata": {},
     "output_type": "display_data"
    }
   ],
   "source": [
    "#path = '/Users/tennanielsen/Desktop/Bachelor/Data/UTKface_Aligned_cropped/crop_part3/'\n",
    "path = '/Users/laurabraadrasmussen/Bachelorprojekt/Data/UTKface_inthewild/part3/'\n",
    "\n",
    "images = [Image.open(path + i).copy() for i in tqdm(os.listdir(path)) if check(i)]\n",
    "ages = [int(i.split('_')[0]) for i in os.listdir(path) if check(i)]\n",
    "genders = [int(i.split('_')[1]) for i in os.listdir(path) if check(i)]\n",
    "race = [int(i.split('_')[2]) for i in os.listdir(path) if check(i)]"
   ]
  },
  {
   "cell_type": "code",
   "execution_count": 10,
   "id": "db669bed-b236-491b-b244-0fed5b44ebbc",
   "metadata": {},
   "outputs": [],
   "source": [
    "df3 = pd.DataFrame({'Images': images, 'Ages': ages, 'Genders': genders, 'Race': race})"
   ]
  },
  {
   "cell_type": "code",
   "execution_count": 11,
   "id": "81424221-1414-4590-8007-5e0c6e54251f",
   "metadata": {},
   "outputs": [
    {
     "data": {
      "text/plain": [
       "<AxesSubplot:xlabel='Ages', ylabel='Density'>"
      ]
     },
     "execution_count": 11,
     "metadata": {},
     "output_type": "execute_result"
    },
    {
     "data": {
      "image/png": "[encoded data removed]",
      "text/plain": [
       "<Figure size 640x480 with 1 Axes>"
      ]
     },
     "metadata": {},
     "output_type": "display_data"
    }
   ],
   "source": [
    "sns.distplot(df3['Ages'],kde=True, bins=98)"
   ]
  },
  {
   "cell_type": "code",
   "execution_count": 12,
   "id": "79c859e9-886c-4b17-a837-f6742c769070",
   "metadata": {},
   "outputs": [],
   "source": [
    "# Adding column\n",
    "df3['Caucasien/Non-caucasian'] = [0 if ele  == 0 else 1 for ele in df3[\"Race\"]]\n",
    "\n",
    "# Removing race 'others'\n",
    "df3 = df3[df3.Race != 4]\n",
    "df3 = df3.reset_index(drop=True)"
   ]
  },
  {
   "cell_type": "code",
   "execution_count": 13,
   "id": "f6fcaec8-8416-42ed-a11c-e2cdaadf148e",
   "metadata": {},
   "outputs": [
    {
     "data": {
      "text/html": [
       "<div>\n",
       "<style scoped>\n",
       "    .dataframe tbody tr th:only-of-type {\n",
       "        vertical-align: middle;\n",
       "    }\n",
       "\n",
       "    .dataframe tbody tr th {\n",
       "        vertical-align: top;\n",
       "    }\n",
       "\n",
       "    .dataframe thead th {\n",
       "        text-align: right;\n",
       "    }\n",
       "</style>\n",
       "<table border=\"1\" class=\"dataframe\">\n",
       "  <thead>\n",
       "    <tr style=\"text-align: right;\">\n",
       "      <th></th>\n",
       "      <th>Images</th>\n",
       "      <th>Ages</th>\n",
       "      <th>Genders</th>\n",
       "      <th>Race</th>\n",
       "      <th>Caucasien/Non-caucasian</th>\n",
       "    </tr>\n",
       "  </thead>\n",
       "  <tbody>\n",
       "    <tr>\n",
       "      <th>0</th>\n",
       "      <td>&lt;PIL.Image.Image image mode=RGB size=452x451 a...</td>\n",
       "      <td>27</td>\n",
       "      <td>0</td>\n",
       "      <td>1</td>\n",
       "      <td>1</td>\n",
       "    </tr>\n",
       "    <tr>\n",
       "      <th>1</th>\n",
       "      <td>&lt;PIL.Image.Image image mode=RGB size=490x413 a...</td>\n",
       "      <td>24</td>\n",
       "      <td>0</td>\n",
       "      <td>3</td>\n",
       "      <td>1</td>\n",
       "    </tr>\n",
       "    <tr>\n",
       "      <th>2</th>\n",
       "      <td>&lt;PIL.Image.Image image mode=RGB size=276x451 a...</td>\n",
       "      <td>8</td>\n",
       "      <td>1</td>\n",
       "      <td>0</td>\n",
       "      <td>0</td>\n",
       "    </tr>\n",
       "    <tr>\n",
       "      <th>3</th>\n",
       "      <td>&lt;PIL.Image.Image image mode=RGB size=694x293 a...</td>\n",
       "      <td>85</td>\n",
       "      <td>1</td>\n",
       "      <td>0</td>\n",
       "      <td>0</td>\n",
       "    </tr>\n",
       "    <tr>\n",
       "      <th>4</th>\n",
       "      <td>&lt;PIL.Image.Image image mode=RGB size=590x343 a...</td>\n",
       "      <td>26</td>\n",
       "      <td>1</td>\n",
       "      <td>0</td>\n",
       "      <td>0</td>\n",
       "    </tr>\n",
       "    <tr>\n",
       "      <th>...</th>\n",
       "      <td>...</td>\n",
       "      <td>...</td>\n",
       "      <td>...</td>\n",
       "      <td>...</td>\n",
       "      <td>...</td>\n",
       "    </tr>\n",
       "    <tr>\n",
       "      <th>3208</th>\n",
       "      <td>&lt;PIL.Image.Image image mode=RGB size=410x409 a...</td>\n",
       "      <td>26</td>\n",
       "      <td>0</td>\n",
       "      <td>3</td>\n",
       "      <td>1</td>\n",
       "    </tr>\n",
       "    <tr>\n",
       "      <th>3209</th>\n",
       "      <td>&lt;PIL.Image.Image image mode=RGB size=444x457 a...</td>\n",
       "      <td>58</td>\n",
       "      <td>0</td>\n",
       "      <td>3</td>\n",
       "      <td>1</td>\n",
       "    </tr>\n",
       "    <tr>\n",
       "      <th>3210</th>\n",
       "      <td>&lt;PIL.Image.Image image mode=RGB size=404x503 a...</td>\n",
       "      <td>64</td>\n",
       "      <td>0</td>\n",
       "      <td>0</td>\n",
       "      <td>0</td>\n",
       "    </tr>\n",
       "    <tr>\n",
       "      <th>3211</th>\n",
       "      <td>&lt;PIL.Image.Image image mode=RGB size=412x493 a...</td>\n",
       "      <td>54</td>\n",
       "      <td>0</td>\n",
       "      <td>3</td>\n",
       "      <td>1</td>\n",
       "    </tr>\n",
       "    <tr>\n",
       "      <th>3212</th>\n",
       "      <td>&lt;PIL.Image.Image image mode=RGB size=218x293 a...</td>\n",
       "      <td>23</td>\n",
       "      <td>1</td>\n",
       "      <td>3</td>\n",
       "      <td>1</td>\n",
       "    </tr>\n",
       "  </tbody>\n",
       "</table>\n",
       "<p>3213 rows × 5 columns</p>\n",
       "</div>"
      ],
      "text/plain": [
       "                                                 Images  Ages  Genders  Race  \\\n",
       "0     <PIL.Image.Image image mode=RGB size=452x451 a...    27        0     1   \n",
       "1     <PIL.Image.Image image mode=RGB size=490x413 a...    24        0     3   \n",
       "2     <PIL.Image.Image image mode=RGB size=276x451 a...     8        1     0   \n",
       "3     <PIL.Image.Image image mode=RGB size=694x293 a...    85        1     0   \n",
       "4     <PIL.Image.Image image mode=RGB size=590x343 a...    26        1     0   \n",
       "...                                                 ...   ...      ...   ...   \n",
       "3208  <PIL.Image.Image image mode=RGB size=410x409 a...    26        0     3   \n",
       "3209  <PIL.Image.Image image mode=RGB size=444x457 a...    58        0     3   \n",
       "3210  <PIL.Image.Image image mode=RGB size=404x503 a...    64        0     0   \n",
       "3211  <PIL.Image.Image image mode=RGB size=412x493 a...    54        0     3   \n",
       "3212  <PIL.Image.Image image mode=RGB size=218x293 a...    23        1     3   \n",
       "\n",
       "      Caucasien/Non-caucasian  \n",
       "0                           1  \n",
       "1                           1  \n",
       "2                           0  \n",
       "3                           0  \n",
       "4                           0  \n",
       "...                       ...  \n",
       "3208                        1  \n",
       "3209                        1  \n",
       "3210                        0  \n",
       "3211                        1  \n",
       "3212                        1  \n",
       "\n",
       "[3213 rows x 5 columns]"
      ]
     },
     "execution_count": 13,
     "metadata": {},
     "output_type": "execute_result"
    }
   ],
   "source": [
    "df3"
   ]
  },
  {
   "cell_type": "markdown",
   "id": "f9427ddb-ec33-43dc-ae2e-e9e59d75676d",
   "metadata": {},
   "source": [
    "## Data Saving"
   ]
  },
  {
   "cell_type": "code",
   "execution_count": 7,
   "id": "f5bf2edd-7f1f-418d-acac-4a6c72a1a427",
   "metadata": {},
   "outputs": [],
   "source": [
    "# Part 1\n",
    "df.to_pickle(\"in_the_wild_df.pkl\")"
   ]
  },
  {
   "cell_type": "code",
   "execution_count": 8,
   "id": "b04c4711-929a-41d0-a47d-732cca72ae01",
   "metadata": {},
   "outputs": [],
   "source": [
    "# Part 2\n",
    "df2.to_pickle(\"in_the_wild_df2.pkl\")"
   ]
  },
  {
   "cell_type": "code",
   "execution_count": 14,
   "id": "f4b37c71-c00d-42c1-8589-65d4fe24b63f",
   "metadata": {},
   "outputs": [],
   "source": [
    "# Part 3\n",
    "df3.to_pickle(\"in_the_wild_df3.pkl\")"
   ]
  },
  {
   "cell_type": "code",
   "execution_count": null,
   "id": "c6117b75-b441-4609-b0c6-e1254508c82e",
   "metadata": {},
   "outputs": [],
   "source": []
  }
 ],
 "metadata": {
  "kernelspec": {
   "display_name": "Python 3 (ipykernel)",
   "language": "python",
   "name": "python3"
  },
  "language_info": {
   "codemirror_mode": {
    "name": "ipython",
    "version": 3
   },
   "file_extension": ".py",
   "mimetype": "text/x-python",
   "name": "python",
   "nbconvert_exporter": "python",
   "pygments_lexer": "ipython3",
   "version": "3.7.13"
  }
 },
 "nbformat": 4,
 "nbformat_minor": 5
}
