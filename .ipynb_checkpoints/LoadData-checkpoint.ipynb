{
 "cells": [
  {
   "cell_type": "code",
   "execution_count": 1,
   "id": "05192b77-2e69-4ae5-ba97-a235a0d44f99",
   "metadata": {},
   "outputs": [],
   "source": [
    "import pandas as pd\n",
    "import numpy as np\n",
    "import seaborn as sns\n",
    "import os\n",
    "from PIL import Image, ImageOps\n",
    "from sklearn.model_selection import train_test_split\n",
    "import cv2\n",
    "import dlib\n",
    "from time import time\n",
    "import matplotlib.pyplot as plt\n",
    "import copy\n",
    "import warnings\n",
    "from tqdm.notebook import tqdm\n",
    "warnings.filterwarnings('ignore')\n",
    "import re\n",
    "#import Fairness_of_ML.utils as utils\n",
    "\n"
   ]
  },
  {
   "cell_type": "markdown",
   "id": "088f3989-9345-43c5-af00-9db05534fe9a",
   "metadata": {},
   "source": [
    "## Load data"
   ]
  },
  {
   "cell_type": "code",
   "execution_count": 2,
   "id": "95b60704-0176-49a2-9d36-297a54378686",
   "metadata": {},
   "outputs": [],
   "source": [
    "pattern = r'\\d+_\\d+_\\d+_[0-9]+\\.jpg'\n",
    "\n",
    "def check(image):\n",
    "    if(re.fullmatch(pattern, image)):\n",
    "        return True\n",
    " \n",
    "    else:\n",
    "        return False  "
   ]
  },
  {
   "cell_type": "code",
   "execution_count": 3,
   "id": "76c66a62-289e-42b3-9454-a437c2b715fc",
   "metadata": {},
   "outputs": [
    {
     "data": {
      "application/vnd.jupyter.widget-view+json": {
       "model_id": "17fd890c3632425192314cdd23b6191a",
       "version_major": 2,
       "version_minor": 0
      },
      "text/plain": [
       "  0%|          | 0/10137 [00:00<?, ?it/s]"
      ]
     },
     "metadata": {},
     "output_type": "display_data"
    }
   ],
   "source": [
    "path_T = '/Users/tennanielsen/Desktop/Bachelor/Data/UTKface_Aligned_cropped/crop_part1/'\n",
    "#path_L = '/Users/laurabraadrasmussen/Documents/UNI/6. semester/Bachelorprojekt/Data/UTKface_Aligned_cropped/crop_part1/'\n",
    "path_L = '/Users/laurabraadrasmussen/Documents/UNI/6. semester/Bachelorprojekt/Data/UTKface_inthewild/part1/'\n",
    "\n",
    "images = []\n",
    "ages = []\n",
    "genders = []\n",
    "race = []\n",
    "\n",
    "for i in tqdm(os.listdir(path_L)):\n",
    "    if check(i) is True:\n",
    "        split = i.split('_')\n",
    "        ages.append(int(split[0]))\n",
    "        genders.append(int(split[1]))\n",
    "        race.append(int(split[2]))\n",
    "        keep = copy.deepcopy(Image.open(path_L + i))\n",
    "        images.append(keep)\n",
    "    \n"
   ]
  },
  {
   "cell_type": "code",
   "execution_count": 4,
   "id": "581b6718-3f32-462d-a871-9787ff674a69",
   "metadata": {},
   "outputs": [
    {
     "data": {
      "text/html": [
       "<div>\n",
       "<style scoped>\n",
       "    .dataframe tbody tr th:only-of-type {\n",
       "        vertical-align: middle;\n",
       "    }\n",
       "\n",
       "    .dataframe tbody tr th {\n",
       "        vertical-align: top;\n",
       "    }\n",
       "\n",
       "    .dataframe thead th {\n",
       "        text-align: right;\n",
       "    }\n",
       "</style>\n",
       "<table border=\"1\" class=\"dataframe\">\n",
       "  <thead>\n",
       "    <tr style=\"text-align: right;\">\n",
       "      <th></th>\n",
       "      <th>Images</th>\n",
       "      <th>Ages</th>\n",
       "      <th>Genders</th>\n",
       "      <th>Race</th>\n",
       "    </tr>\n",
       "  </thead>\n",
       "  <tbody>\n",
       "    <tr>\n",
       "      <th>0</th>\n",
       "      <td>&lt;PIL.JpegImagePlugin.JpegImageFile image mode=...</td>\n",
       "      <td>16</td>\n",
       "      <td>1</td>\n",
       "      <td>3</td>\n",
       "    </tr>\n",
       "    <tr>\n",
       "      <th>1</th>\n",
       "      <td>&lt;PIL.JpegImagePlugin.JpegImageFile image mode=...</td>\n",
       "      <td>40</td>\n",
       "      <td>1</td>\n",
       "      <td>0</td>\n",
       "    </tr>\n",
       "    <tr>\n",
       "      <th>2</th>\n",
       "      <td>&lt;PIL.JpegImagePlugin.JpegImageFile image mode=...</td>\n",
       "      <td>71</td>\n",
       "      <td>1</td>\n",
       "      <td>0</td>\n",
       "    </tr>\n",
       "    <tr>\n",
       "      <th>3</th>\n",
       "      <td>&lt;PIL.JpegImagePlugin.JpegImageFile image mode=...</td>\n",
       "      <td>80</td>\n",
       "      <td>1</td>\n",
       "      <td>0</td>\n",
       "    </tr>\n",
       "    <tr>\n",
       "      <th>4</th>\n",
       "      <td>&lt;PIL.JpegImagePlugin.JpegImageFile image mode=...</td>\n",
       "      <td>21</td>\n",
       "      <td>0</td>\n",
       "      <td>4</td>\n",
       "    </tr>\n",
       "    <tr>\n",
       "      <th>...</th>\n",
       "      <td>...</td>\n",
       "      <td>...</td>\n",
       "      <td>...</td>\n",
       "      <td>...</td>\n",
       "    </tr>\n",
       "    <tr>\n",
       "      <th>10130</th>\n",
       "      <td>&lt;PIL.JpegImagePlugin.JpegImageFile image mode=...</td>\n",
       "      <td>53</td>\n",
       "      <td>0</td>\n",
       "      <td>0</td>\n",
       "    </tr>\n",
       "    <tr>\n",
       "      <th>10131</th>\n",
       "      <td>&lt;PIL.JpegImagePlugin.JpegImageFile image mode=...</td>\n",
       "      <td>36</td>\n",
       "      <td>0</td>\n",
       "      <td>0</td>\n",
       "    </tr>\n",
       "    <tr>\n",
       "      <th>10132</th>\n",
       "      <td>&lt;PIL.JpegImagePlugin.JpegImageFile image mode=...</td>\n",
       "      <td>1</td>\n",
       "      <td>0</td>\n",
       "      <td>2</td>\n",
       "    </tr>\n",
       "    <tr>\n",
       "      <th>10133</th>\n",
       "      <td>&lt;PIL.JpegImagePlugin.JpegImageFile image mode=...</td>\n",
       "      <td>3</td>\n",
       "      <td>1</td>\n",
       "      <td>4</td>\n",
       "    </tr>\n",
       "    <tr>\n",
       "      <th>10134</th>\n",
       "      <td>&lt;PIL.JpegImagePlugin.JpegImageFile image mode=...</td>\n",
       "      <td>29</td>\n",
       "      <td>0</td>\n",
       "      <td>0</td>\n",
       "    </tr>\n",
       "  </tbody>\n",
       "</table>\n",
       "<p>10135 rows × 4 columns</p>\n",
       "</div>"
      ],
      "text/plain": [
       "                                                  Images  Ages  Genders  Race\n",
       "0      <PIL.JpegImagePlugin.JpegImageFile image mode=...    16        1     3\n",
       "1      <PIL.JpegImagePlugin.JpegImageFile image mode=...    40        1     0\n",
       "2      <PIL.JpegImagePlugin.JpegImageFile image mode=...    71        1     0\n",
       "3      <PIL.JpegImagePlugin.JpegImageFile image mode=...    80        1     0\n",
       "4      <PIL.JpegImagePlugin.JpegImageFile image mode=...    21        0     4\n",
       "...                                                  ...   ...      ...   ...\n",
       "10130  <PIL.JpegImagePlugin.JpegImageFile image mode=...    53        0     0\n",
       "10131  <PIL.JpegImagePlugin.JpegImageFile image mode=...    36        0     0\n",
       "10132  <PIL.JpegImagePlugin.JpegImageFile image mode=...     1        0     2\n",
       "10133  <PIL.JpegImagePlugin.JpegImageFile image mode=...     3        1     4\n",
       "10134  <PIL.JpegImagePlugin.JpegImageFile image mode=...    29        0     0\n",
       "\n",
       "[10135 rows x 4 columns]"
      ]
     },
     "execution_count": 4,
     "metadata": {},
     "output_type": "execute_result"
    }
   ],
   "source": [
    "images = pd.Series(list(images), name = 'Images')\n",
    "ages = pd.Series(list(ages), name = 'Ages')\n",
    "genders = pd.Series(list(genders), name = 'Genders')\n",
    "race = pd.Series(list(race), name = 'Race')\n",
    "\n",
    "df = pd.concat([images, ages, genders, race], axis=1)\n",
    "df"
   ]
  },
  {
   "cell_type": "code",
   "execution_count": 13,
   "id": "2c1cd4d1-7832-4a0d-a982-1ad4226c2b53",
   "metadata": {},
   "outputs": [
    {
     "data": {
      "image/png": "[encoded data removed]",
      "text/plain": [
       "<PIL.JpegImagePlugin.JpegImageFile image mode=L size=350x200>"
      ]
     },
     "metadata": {},
     "output_type": "display_data"
    },
    {
     "name": "stdout",
     "output_type": "stream",
     "text": [
      "77 0 1\n"
     ]
    }
   ],
   "source": [
    "display(df['Images'][1089])\n",
    "print(df['Ages'][1089], df['Genders'][1089],df['Race'][1089] )"
   ]
  },
  {
   "cell_type": "code",
   "execution_count": 39,
   "id": "7c17ad79-81e8-4b89-98d5-0193400331ff",
   "metadata": {},
   "outputs": [],
   "source": [
    "# to array \n",
    "images_arr = []\n",
    "for im in range(1500): \n",
    "    images_arr.append(np.array(df['Images'][im]))\n"
   ]
  },
  {
   "cell_type": "code",
   "execution_count": null,
   "id": "86e487ad-4c30-41f3-9acd-d7203f033554",
   "metadata": {},
   "outputs": [],
   "source": []
  },
  {
   "cell_type": "raw",
   "id": "ccf5e003-9a8c-4357-9f19-e24718ddeff9",
   "metadata": {},
   "source": [
    "path_L = '/Users/laurabraadrasmussen/Documents/UNI/6. semester/Bachelorprojekt/Data/UTKFace/crop_part1/'\n",
    "files = os.listdir(path_L)\n",
    "size = len(files)\n",
    "print(\"Total samples:\",size)\n",
    "print(files[0])"
   ]
  },
  {
   "cell_type": "raw",
   "id": "5a6afb77-b765-4056-b344-c64432ba10d7",
   "metadata": {},
   "source": [
    "images = []\n",
    "ages = []\n",
    "genders = []\n",
    "race = []\n",
    "for file in files:\n",
    "    image = cv2.imread(path_L+file,0)\n",
    "    #image = cv2.resize(image,dsize=(64,64))\n",
    "    #image = image.reshape((image.shape[0],image.shape[1],1))\n",
    "    images.append(image)\n",
    "    split_var = file.split('_')\n",
    "    ages.append(split_var[0])\n",
    "    genders.append(split_var[1]) \n",
    "    race.append(split_var[2])"
   ]
  },
  {
   "cell_type": "markdown",
   "id": "f9427ddb-ec33-43dc-ae2e-e9e59d75676d",
   "metadata": {},
   "source": [
    "## Data processing"
   ]
  },
  {
   "cell_type": "code",
   "execution_count": null,
   "id": "f5bf2edd-7f1f-418d-acac-4a6c72a1a427",
   "metadata": {},
   "outputs": [],
   "source": [
    "df.to_pickle(\"in_the_wild_df.pkl\")"
   ]
  }
 ],
 "metadata": {
  "kernelspec": {
   "display_name": "Python 3 (ipykernel)",
   "language": "python",
   "name": "python3"
  },
  "language_info": {
   "codemirror_mode": {
    "name": "ipython",
    "version": 3
   },
   "file_extension": ".py",
   "mimetype": "text/x-python",
   "name": "python",
   "nbconvert_exporter": "python",
   "pygments_lexer": "ipython3",
   "version": "3.7.13"
  }
 },
 "nbformat": 4,
 "nbformat_minor": 5
}
