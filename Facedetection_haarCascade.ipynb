{
 "cells": [
  {
   "cell_type": "code",
   "execution_count": 1,
   "id": "2a371404-2ff8-43e2-bee7-6047ceb3325d",
   "metadata": {},
   "outputs": [],
   "source": [
    "#Import packages \n",
    "import pandas as pd\n",
    "import numpy as np\n",
    "import seaborn as sns\n",
    "import os\n",
    "from PIL import Image, ImageOps\n",
    "from sklearn.model_selection import train_test_split\n",
    "import cv2\n",
    "import dlib\n",
    "from time import time\n",
    "import matplotlib.pyplot as plt\n",
    "import copy\n",
    "import warnings\n",
    "from tqdm.notebook import tqdm\n",
    "warnings.filterwarnings('ignore')\n",
    "# Load the cascade\n",
    "cascade_face_detector = cv2.CascadeClassifier('/Users/laurabraadrasmussen/Bachelorprojekt/haarcascade_frontalface_default.xml')"
   ]
  },
  {
   "cell_type": "code",
   "execution_count": 2,
   "id": "6f00cf9d-aecf-41bf-afa0-118b251d9e93",
   "metadata": {},
   "outputs": [],
   "source": [
    "df = pd.read_pickle(\"/Users/laurabraadrasmussen/Bachelorprojekt/df_equal.pkl\")"
   ]
  },
  {
   "cell_type": "code",
   "execution_count": 3,
   "id": "915b7548-a5f1-4ca2-87f5-91604f778d5e",
   "metadata": {},
   "outputs": [
    {
     "data": {
      "text/html": [
       "<div>\n",
       "<style scoped>\n",
       "    .dataframe tbody tr th:only-of-type {\n",
       "        vertical-align: middle;\n",
       "    }\n",
       "\n",
       "    .dataframe tbody tr th {\n",
       "        vertical-align: top;\n",
       "    }\n",
       "\n",
       "    .dataframe thead th {\n",
       "        text-align: right;\n",
       "    }\n",
       "</style>\n",
       "<table border=\"1\" class=\"dataframe\">\n",
       "  <thead>\n",
       "    <tr style=\"text-align: right;\">\n",
       "      <th></th>\n",
       "      <th>Images</th>\n",
       "      <th>Ages</th>\n",
       "      <th>Genders</th>\n",
       "      <th>Race</th>\n",
       "      <th>Caucasien/Non-caucasian</th>\n",
       "    </tr>\n",
       "  </thead>\n",
       "  <tbody>\n",
       "    <tr>\n",
       "      <th>0</th>\n",
       "      <td>&lt;PIL.Image.Image image mode=RGB size=906x903 a...</td>\n",
       "      <td>50</td>\n",
       "      <td>0</td>\n",
       "      <td>0</td>\n",
       "      <td>0</td>\n",
       "    </tr>\n",
       "    <tr>\n",
       "      <th>1</th>\n",
       "      <td>&lt;PIL.Image.Image image mode=RGB size=690x1015 ...</td>\n",
       "      <td>27</td>\n",
       "      <td>0</td>\n",
       "      <td>0</td>\n",
       "      <td>0</td>\n",
       "    </tr>\n",
       "    <tr>\n",
       "      <th>2</th>\n",
       "      <td>&lt;PIL.Image.Image image mode=RGB size=280x350 a...</td>\n",
       "      <td>85</td>\n",
       "      <td>1</td>\n",
       "      <td>0</td>\n",
       "      <td>0</td>\n",
       "    </tr>\n",
       "    <tr>\n",
       "      <th>3</th>\n",
       "      <td>&lt;PIL.Image.Image image mode=RGB size=1202x675 ...</td>\n",
       "      <td>51</td>\n",
       "      <td>1</td>\n",
       "      <td>0</td>\n",
       "      <td>0</td>\n",
       "    </tr>\n",
       "    <tr>\n",
       "      <th>4</th>\n",
       "      <td>&lt;PIL.Image.Image image mode=RGB size=590x727 a...</td>\n",
       "      <td>34</td>\n",
       "      <td>1</td>\n",
       "      <td>0</td>\n",
       "      <td>0</td>\n",
       "    </tr>\n",
       "    <tr>\n",
       "      <th>...</th>\n",
       "      <td>...</td>\n",
       "      <td>...</td>\n",
       "      <td>...</td>\n",
       "      <td>...</td>\n",
       "      <td>...</td>\n",
       "    </tr>\n",
       "    <tr>\n",
       "      <th>9995</th>\n",
       "      <td>&lt;PIL.Image.Image image mode=RGB size=290x359 a...</td>\n",
       "      <td>30</td>\n",
       "      <td>0</td>\n",
       "      <td>3</td>\n",
       "      <td>1</td>\n",
       "    </tr>\n",
       "    <tr>\n",
       "      <th>9996</th>\n",
       "      <td>&lt;PIL.Image.Image image mode=RGB size=466x695 a...</td>\n",
       "      <td>29</td>\n",
       "      <td>0</td>\n",
       "      <td>3</td>\n",
       "      <td>1</td>\n",
       "    </tr>\n",
       "    <tr>\n",
       "      <th>9997</th>\n",
       "      <td>&lt;PIL.Image.Image image mode=RGB size=552x367 a...</td>\n",
       "      <td>34</td>\n",
       "      <td>1</td>\n",
       "      <td>3</td>\n",
       "      <td>1</td>\n",
       "    </tr>\n",
       "    <tr>\n",
       "      <th>9998</th>\n",
       "      <td>&lt;PIL.Image.Image image mode=RGB size=306x457 a...</td>\n",
       "      <td>53</td>\n",
       "      <td>0</td>\n",
       "      <td>3</td>\n",
       "      <td>1</td>\n",
       "    </tr>\n",
       "    <tr>\n",
       "      <th>9999</th>\n",
       "      <td>&lt;PIL.Image.Image image mode=RGB size=906x903 a...</td>\n",
       "      <td>42</td>\n",
       "      <td>0</td>\n",
       "      <td>3</td>\n",
       "      <td>1</td>\n",
       "    </tr>\n",
       "  </tbody>\n",
       "</table>\n",
       "<p>10000 rows × 5 columns</p>\n",
       "</div>"
      ],
      "text/plain": [
       "                                                 Images  Ages  Genders  Race  \\\n",
       "0     <PIL.Image.Image image mode=RGB size=906x903 a...    50        0     0   \n",
       "1     <PIL.Image.Image image mode=RGB size=690x1015 ...    27        0     0   \n",
       "2     <PIL.Image.Image image mode=RGB size=280x350 a...    85        1     0   \n",
       "3     <PIL.Image.Image image mode=RGB size=1202x675 ...    51        1     0   \n",
       "4     <PIL.Image.Image image mode=RGB size=590x727 a...    34        1     0   \n",
       "...                                                 ...   ...      ...   ...   \n",
       "9995  <PIL.Image.Image image mode=RGB size=290x359 a...    30        0     3   \n",
       "9996  <PIL.Image.Image image mode=RGB size=466x695 a...    29        0     3   \n",
       "9997  <PIL.Image.Image image mode=RGB size=552x367 a...    34        1     3   \n",
       "9998  <PIL.Image.Image image mode=RGB size=306x457 a...    53        0     3   \n",
       "9999  <PIL.Image.Image image mode=RGB size=906x903 a...    42        0     3   \n",
       "\n",
       "      Caucasien/Non-caucasian  \n",
       "0                           0  \n",
       "1                           0  \n",
       "2                           0  \n",
       "3                           0  \n",
       "4                           0  \n",
       "...                       ...  \n",
       "9995                        1  \n",
       "9996                        1  \n",
       "9997                        1  \n",
       "9998                        1  \n",
       "9999                        1  \n",
       "\n",
       "[10000 rows x 5 columns]"
      ]
     },
     "execution_count": 3,
     "metadata": {},
     "output_type": "execute_result"
    }
   ],
   "source": [
    "df"
   ]
  },
  {
   "cell_type": "code",
   "execution_count": 4,
   "id": "3903fff4-9997-4f9c-9ce0-019d4f238681",
   "metadata": {},
   "outputs": [
    {
     "data": {
      "application/vnd.jupyter.widget-view+json": {
       "model_id": "e7169360abc84ad4b616a6aefd0a4ee9",
       "version_major": 2,
       "version_minor": 0
      },
      "text/plain": [
       "  0%|          | 0/10000 [00:00<?, ?it/s]"
      ]
     },
     "metadata": {},
     "output_type": "display_data"
    }
   ],
   "source": [
    "# to array \n",
    "images_arr = []\n",
    "for im in tqdm(range(len(df))): \n",
    "    images_arr.append(np.array(df['Images'][im]))"
   ]
  },
  {
   "cell_type": "code",
   "execution_count": null,
   "id": "e04a50b6-ab26-4333-b1e5-17ac107a8670",
   "metadata": {},
   "outputs": [
    {
     "ename": "NameError",
     "evalue": "name 'tqdm' is not defined",
     "output_type": "error",
     "traceback": [
      "\u001b[0;31m---------------------------------------------------------------------------\u001b[0m",
      "\u001b[0;31mNameError\u001b[0m                                 Traceback (most recent call last)",
      "\u001b[0;32m/var/folders/w7/fs9tw0cx6pbfr2z0lwnhcc7h0000gn/T/ipykernel_1580/3976775086.py\u001b[0m in \u001b[0;36m<module>\u001b[0;34m\u001b[0m\n\u001b[1;32m      1\u001b[0m \u001b[0mimages_output\u001b[0m \u001b[0;34m=\u001b[0m \u001b[0;34m[\u001b[0m\u001b[0;34m]\u001b[0m\u001b[0;34m\u001b[0m\u001b[0;34m\u001b[0m\u001b[0m\n\u001b[0;32m----> 2\u001b[0;31m \u001b[0;32mfor\u001b[0m \u001b[0mi\u001b[0m \u001b[0;32min\u001b[0m \u001b[0mtqdm\u001b[0m\u001b[0;34m(\u001b[0m\u001b[0mimages_arr\u001b[0m\u001b[0;34m)\u001b[0m\u001b[0;34m:\u001b[0m\u001b[0;34m\u001b[0m\u001b[0;34m\u001b[0m\u001b[0m\n\u001b[0m\u001b[1;32m      3\u001b[0m     \u001b[0;32mif\u001b[0m \u001b[0mlen\u001b[0m\u001b[0;34m(\u001b[0m\u001b[0mi\u001b[0m\u001b[0;34m.\u001b[0m\u001b[0mshape\u001b[0m\u001b[0;34m)\u001b[0m \u001b[0;34m==\u001b[0m \u001b[0;36m2\u001b[0m\u001b[0;34m:\u001b[0m\u001b[0;34m\u001b[0m\u001b[0;34m\u001b[0m\u001b[0m\n\u001b[1;32m      4\u001b[0m         \u001b[0mimages_output\u001b[0m\u001b[0;34m.\u001b[0m\u001b[0mappend\u001b[0m\u001b[0;34m(\u001b[0m\u001b[0mcv2\u001b[0m\u001b[0;34m.\u001b[0m\u001b[0mcvtColor\u001b[0m\u001b[0;34m(\u001b[0m\u001b[0mi\u001b[0m\u001b[0;34m,\u001b[0m \u001b[0mcv2\u001b[0m\u001b[0;34m.\u001b[0m\u001b[0mCOLOR_GRAY2RGB\u001b[0m\u001b[0;34m)\u001b[0m\u001b[0;34m)\u001b[0m\u001b[0;34m\u001b[0m\u001b[0;34m\u001b[0m\u001b[0m\n\u001b[1;32m      5\u001b[0m     \u001b[0;32melse\u001b[0m\u001b[0;34m:\u001b[0m\u001b[0;34m\u001b[0m\u001b[0;34m\u001b[0m\u001b[0m\n",
      "\u001b[0;31mNameError\u001b[0m: name 'tqdm' is not defined"
     ]
    }
   ],
   "source": [
    "images_output = []\n",
    "for i in tqdm(images_arr):\n",
    "    if len(i.shape) == 2:\n",
    "        images_output.append(cv2.cvtColor(i, cv2.COLOR_GRAY2BGR))\n",
    "    else:\n",
    "        images_output.append(i)"
   ]
  },
  {
   "cell_type": "code",
   "execution_count": 6,
   "id": "f46751bf-06f8-4dcd-81de-60edcb13e952",
   "metadata": {
    "tags": []
   },
   "outputs": [],
   "source": [
    "def haarCascadeDetectFaces(image, cascade_face_detector, display = True):\n",
    "    '''\n",
    "    This function performs face(s) detection on an image using opencv haar cascade face detector.\n",
    "    Args:\n",
    "        image:                 The input image of the person(s) whose face needs to be detected.\n",
    "        cascade_face_detector: The pre-trained Haar cascade face detection model loaded from the disk required to \n",
    "                               perform the detection.\n",
    "        display:               A boolean value that is if set to true the function displays the original input image, \n",
    "                               and the output image with the bounding boxes drawn and time taken written and returns \n",
    "                               nothing.\n",
    "    Returns:\n",
    "        output_image: A copy of input image with the bounding boxes drawn.\n",
    "        results:      The output of the face detection process on the input image.\n",
    "    '''\n",
    "    \n",
    "    # Get the height and width of the input image.\n",
    "    image_height, image_width, _ = image.shape\n",
    "    \n",
    "    # Create a copy of the input image to draw bounding boxes on.\n",
    "    output_image = image.copy()\n",
    "    \n",
    "    # Convert the input image to grayscale.\n",
    "    gray = cv2.cvtColor(image, cv2.COLOR_RGB2GRAY)\n",
    "    \n",
    "    # Get the current time before performing face detection. \n",
    "    start = time()\n",
    " \n",
    "    # Perform the face detection on the image.\n",
    "    results = cascade_face_detector.detectMultiScale(image=gray, scaleFactor=1.2, minNeighbors=3)\n",
    "    \n",
    "    # Get the current time after performing face detection.\n",
    "    end = time()\n",
    " \n",
    "    # Loop through each face detected in the image and retireve the bounding box cordinates.\n",
    "    for (x1, y1, bbox_width, bbox_height) in results:\n",
    " \n",
    "        # Draw bounding box around the face on the copy of the input image using the retrieved coordinates.\n",
    "        cv2.rectangle(output_image, pt1=(x1, y1), pt2=(x1 + bbox_width, y1 + bbox_height), color=(0, 255, 0),\n",
    "                      thickness=image_width//200)\n",
    "    \n",
    "    # Check if the original input image and the output image are specified to be displayed.\n",
    "    if display:\n",
    "        \n",
    "        # Write the time take by face detection process on the output image. \n",
    "        cv2.putText(output_image, text='Time taken: '+str(round(end - start, 2))+' Seconds.', org=(10, 65),\n",
    "                    fontFace=cv2.FONT_HERSHEY_COMPLEX, fontScale=image_width//700, color=(0,0,255),\n",
    "                    thickness=image_width//500)\n",
    "        \n",
    "        # Display the original input image and the output image.\n",
    "        plt.figure(figsize=[15,15])\n",
    "        plt.subplot(121);plt.imshow(image[:,:,::-1]);plt.title(\"Original Image\");plt.axis('off');\n",
    "        plt.subplot(122);plt.imshow(output_image[:,:,::-1]);plt.title(\"Output\");plt.axis('off');\n",
    "        \n",
    "    # Otherwise\n",
    "    else:\n",
    "        \n",
    "        # Return the output image and results of face detection.\n",
    "        return cv2.cvtColor(output_image, cv2.COLOR_RGB2BGR), results"
   ]
  },
  {
   "cell_type": "code",
   "execution_count": 7,
   "id": "4394e489-c2fa-4754-8d51-2a362e6ba34a",
   "metadata": {},
   "outputs": [
    {
     "data": {
      "application/vnd.jupyter.widget-view+json": {
       "model_id": "7c382e7ce47b428b98bd524f4f7cda10",
       "version_major": 2,
       "version_minor": 0
      },
      "text/plain": [
       "  0%|          | 0/10000 [00:00<?, ?it/s]"
      ]
     },
     "metadata": {},
     "output_type": "display_data"
    }
   ],
   "source": [
    "haarCascade = [haarCascadeDetectFaces(images_output[i], cascade_face_detector, display = False) for i in tqdm(range(len(images_output)))]"
   ]
  },
  {
   "cell_type": "code",
   "execution_count": 8,
   "id": "12cd0203-6937-41bc-9922-c1d051dd9870",
   "metadata": {},
   "outputs": [],
   "source": [
    "not_dect_index = [i for i in range(len(haarCascade)) if len(haarCascade[i][1]) == 0]\n",
    "not_dect_images = [df['Images'][i] for i in not_dect_index]\n",
    "not_dect_ages = [df['Ages'][i] for i in not_dect_index]\n",
    "not_dect_genders = [df['Genders'][i] for i in not_dect_index]\n",
    "not_dect_races = [df['Race'][i] for i in not_dect_index]\n",
    "not_dect_caucasian = [df['Caucasien/Non-caucasian'][i] for i in not_dect_index]\n",
    "#not_dect_time = [pd.Timedelta(haarCascade[i][2], unit='minutes') for i in not_dect_index]\n",
    "\n",
    "df_not_detected = pd.DataFrame({\n",
    "    'not_dect_index': not_dect_index,\n",
    "    'not_dect_images': not_dect_images,\n",
    "    'not_dect_ages': not_dect_ages,\n",
    "    'not_dect_genders': not_dect_genders,\n",
    "    'not_dect_races': not_dect_races,\n",
    "    'not_dect_caucasian': not_dect_caucasian,\n",
    "    #'not_dect_time': not_dect_time\n",
    "})"
   ]
  },
  {
   "cell_type": "markdown",
   "id": "49a19886-eced-4523-888d-dbba0883173c",
   "metadata": {
    "tags": []
   },
   "source": [
    "# Investigation of results"
   ]
  },
  {
   "cell_type": "markdown",
   "id": "e718a497-c075-409d-b000-4af9d2e4e53e",
   "metadata": {},
   "source": [
    "## Naive plots"
   ]
  },
  {
   "cell_type": "markdown",
   "id": "e2c54e52-0134-4912-961d-47ca97cdcde4",
   "metadata": {},
   "source": [
    "### Ages"
   ]
  },
  {
   "cell_type": "code",
   "execution_count": 9,
   "id": "15e29d09-69fa-4e6c-8a77-88cccb7b06a1",
   "metadata": {},
   "outputs": [
    {
     "data": {
      "text/plain": [
       "<AxesSubplot:ylabel='Frequency'>"
      ]
     },
     "execution_count": 9,
     "metadata": {},
     "output_type": "execute_result"
    },
    {
     "data": {
      "image/png": "[encoded data removed]",
      "text/plain": [
       "<Figure size 640x480 with 1 Axes>"
      ]
     },
     "metadata": {},
     "output_type": "display_data"
    }
   ],
   "source": [
    "df_not_detected['not_dect_ages'].plot(kind = 'hist')"
   ]
  },
  {
   "cell_type": "markdown",
   "id": "feaaab43-bc08-414c-9af5-bf0ce4c5a889",
   "metadata": {},
   "source": [
    "### Gender"
   ]
  },
  {
   "cell_type": "code",
   "execution_count": 10,
   "id": "1df804f2-a321-480b-9473-29f14878d237",
   "metadata": {},
   "outputs": [
    {
     "data": {
      "text/plain": [
       "<AxesSubplot:xlabel='not_dect_genders', ylabel='count'>"
      ]
     },
     "execution_count": 10,
     "metadata": {},
     "output_type": "execute_result"
    },
    {
     "data": {
      "image/png": "[encoded data removed]",
      "text/plain": [
       "<Figure size 640x480 with 1 Axes>"
      ]
     },
     "metadata": {},
     "output_type": "display_data"
    }
   ],
   "source": [
    "sns.countplot(df_not_detected['not_dect_genders'])"
   ]
  },
  {
   "cell_type": "markdown",
   "id": "9d157eb1-92fb-4eb2-8b4f-6eb0dbcb779c",
   "metadata": {},
   "source": [
    "### Races"
   ]
  },
  {
   "cell_type": "code",
   "execution_count": 11,
   "id": "545b5c11-d8bb-408e-8bc5-7343aa199bcf",
   "metadata": {},
   "outputs": [
    {
     "data": {
      "text/plain": [
       "<AxesSubplot:xlabel='not_dect_races', ylabel='count'>"
      ]
     },
     "execution_count": 11,
     "metadata": {},
     "output_type": "execute_result"
    },
    {
     "data": {
      "image/png": "[encoded data removed]",
      "text/plain": [
       "<Figure size 640x480 with 1 Axes>"
      ]
     },
     "metadata": {},
     "output_type": "display_data"
    }
   ],
   "source": [
    "sns.countplot(df_not_detected['not_dect_races'])"
   ]
  },
  {
   "cell_type": "markdown",
   "id": "6d2a414f-8411-44df-920b-95e956ff2a9e",
   "metadata": {},
   "source": [
    "### Caucasian"
   ]
  },
  {
   "cell_type": "code",
   "execution_count": 12,
   "id": "eea4d640-da77-4764-93e9-521f4409c791",
   "metadata": {},
   "outputs": [
    {
     "data": {
      "text/plain": [
       "<AxesSubplot:xlabel='not_dect_caucasian', ylabel='count'>"
      ]
     },
     "execution_count": 12,
     "metadata": {},
     "output_type": "execute_result"
    },
    {
     "data": {
      "image/png": "[encoded data removed]",
      "text/plain": [
       "<Figure size 640x480 with 1 Axes>"
      ]
     },
     "metadata": {},
     "output_type": "display_data"
    }
   ],
   "source": [
    "sns.countplot(df_not_detected['not_dect_caucasian'])"
   ]
  },
  {
   "cell_type": "markdown",
   "id": "087bbc4c-3022-481c-af9a-7711612277f3",
   "metadata": {},
   "source": [
    "## Procent fordeling"
   ]
  },
  {
   "cell_type": "markdown",
   "id": "dd94d149-2624-4fbd-b216-c11afe971bec",
   "metadata": {},
   "source": [
    "### Køn"
   ]
  },
  {
   "cell_type": "code",
   "execution_count": 13,
   "id": "6cf4b96b-a9a9-44a8-a393-fd87e8b6b656",
   "metadata": {},
   "outputs": [],
   "source": [
    "unique_gender, counts = np.unique(df['Genders'], return_counts=True)\n",
    "counts_dict = dict(zip(unique_gender, counts))\n",
    "\n",
    "percentage_g = [(len(df_not_detected[df_not_detected[\"not_dect_genders\"] == i]) / counts_dict[i]) * 100 for i in unique_gender]"
   ]
  },
  {
   "cell_type": "code",
   "execution_count": 14,
   "id": "11a6e2c3-cde1-4e7a-83d0-2aec0204ac21",
   "metadata": {},
   "outputs": [
    {
     "data": {
      "text/plain": [
       "[9.165867689357622, 9.676071055381401]"
      ]
     },
     "execution_count": 14,
     "metadata": {},
     "output_type": "execute_result"
    }
   ],
   "source": [
    "percentage_g"
   ]
  },
  {
   "cell_type": "code",
   "execution_count": 35,
   "id": "5b2211c8-606d-4483-b842-094e6dfba4fa",
   "metadata": {},
   "outputs": [
    {
     "data": {
      "image/png": "[encoded data removed]",
      "text/plain": [
       "<Figure size 640x480 with 1 Axes>"
      ]
     },
     "metadata": {},
     "output_type": "display_data"
    }
   ],
   "source": [
    "plt.bar(list(unique_gender), percentage_g)\n",
    "plt.xticks(list(unique_gender), ['Male', 'Female'])\n",
    "plt.show()"
   ]
  },
  {
   "cell_type": "markdown",
   "id": "cfbd5f23-b6a9-4aac-a849-a6da4da82469",
   "metadata": {},
   "source": [
    "### Race"
   ]
  },
  {
   "cell_type": "code",
   "execution_count": 16,
   "id": "c0fe6580-d375-42b2-9fb5-533832e236e4",
   "metadata": {},
   "outputs": [],
   "source": [
    "unique_race, counts = np.unique(df['Race'], return_counts=True)\n",
    "counts_dict = dict(zip(unique_race, counts))\n",
    "\n",
    "percentage_r = [(len(df_not_detected[df_not_detected[\"not_dect_races\"] == i]) / counts_dict[i]) * 100 for i in unique_race]"
   ]
  },
  {
   "cell_type": "code",
   "execution_count": 17,
   "id": "b933caea-af87-4814-9d18-e1ea7e5fc676",
   "metadata": {},
   "outputs": [
    {
     "data": {
      "text/plain": [
       "[5.92, 11.600000000000001, 13.600000000000001, 6.52]"
      ]
     },
     "execution_count": 17,
     "metadata": {},
     "output_type": "execute_result"
    }
   ],
   "source": [
    "percentage_r"
   ]
  },
  {
   "cell_type": "code",
   "execution_count": 33,
   "id": "4c2020fe-c593-4a0c-9b26-5635e9189c32",
   "metadata": {},
   "outputs": [
    {
     "data": {
      "image/png": "[encoded data removed]",
      "text/plain": [
       "<Figure size 640x480 with 1 Axes>"
      ]
     },
     "metadata": {},
     "output_type": "display_data"
    }
   ],
   "source": [
    "plt.bar(list(unique_race), percentage_r)\n",
    "plt.xticks(list(unique_race),['White', 'Black', 'Asian', 'Indian'] )\n",
    "plt.show()"
   ]
  },
  {
   "cell_type": "markdown",
   "id": "f98672c2-fa75-476f-9d07-d2fd37b0c7f4",
   "metadata": {},
   "source": [
    "### Caucasian"
   ]
  },
  {
   "cell_type": "code",
   "execution_count": 19,
   "id": "31ee554e-e150-487e-b9af-677b1372634c",
   "metadata": {},
   "outputs": [],
   "source": [
    "unique_caucasian, counts = np.unique(df['Caucasien/Non-caucasian'], return_counts=True)\n",
    "counts_dict = dict(zip(unique_caucasian, counts))\n",
    "\n",
    "percentage_c = [(len(df_not_detected[df_not_detected[\"not_dect_caucasian\"] == i]) / counts_dict[i]) * 100 for i in unique_caucasian]\n",
    "\n"
   ]
  },
  {
   "cell_type": "code",
   "execution_count": 20,
   "id": "7ebd2551-85df-459a-a0c3-c21ba61ccf16",
   "metadata": {},
   "outputs": [
    {
     "data": {
      "text/plain": [
       "[5.92, 10.573333333333332]"
      ]
     },
     "execution_count": 20,
     "metadata": {},
     "output_type": "execute_result"
    }
   ],
   "source": [
    "percentage_c"
   ]
  },
  {
   "cell_type": "code",
   "execution_count": 34,
   "id": "d621e377-55b0-446a-982f-799f6d98be5b",
   "metadata": {},
   "outputs": [
    {
     "data": {
      "image/png": "[encoded data removed]",
      "text/plain": [
       "<Figure size 640x480 with 1 Axes>"
      ]
     },
     "metadata": {},
     "output_type": "display_data"
    }
   ],
   "source": [
    "plt.bar(list(unique_caucasian), percentage_c)\n",
    "plt.xticks(list(unique_caucasian), ['Caucasian', 'Non-caucasian'])\n",
    "plt.show()"
   ]
  },
  {
   "cell_type": "markdown",
   "id": "24e1809e-72d4-4bad-b39f-340b1f770a6f",
   "metadata": {},
   "source": [
    "### Alder"
   ]
  },
  {
   "cell_type": "code",
   "execution_count": 22,
   "id": "96f6a70b-9356-46ff-898a-54eca71b3087",
   "metadata": {},
   "outputs": [],
   "source": [
    "unique_ages, counts = np.unique(df['Ages'], return_counts=True)\n",
    "counts_dict = dict(zip(unique_ages, counts))\n",
    "\n",
    "percentage_a = [(len(df_not_detected[df_not_detected[\"not_dect_ages\"] == i]) / counts_dict[i]) * 100 for i in unique_ages]\n",
    "\n"
   ]
  },
  {
   "cell_type": "code",
   "execution_count": 23,
   "id": "0edad724-7a6c-4900-9ccf-49face551e31",
   "metadata": {},
   "outputs": [
    {
     "data": {
      "image/png": "[encoded data removed]",
      "text/plain": [
       "<Figure size 640x480 with 1 Axes>"
      ]
     },
     "metadata": {},
     "output_type": "display_data"
    }
   ],
   "source": [
    "plt.plot(list(unique_ages), percentage_a)\n",
    "plt.show()"
   ]
  }
 ],
 "metadata": {
  "kernelspec": {
   "display_name": "Python 3 (ipykernel)",
   "language": "python",
   "name": "python3"
  },
  "language_info": {
   "codemirror_mode": {
    "name": "ipython",
    "version": 3
   },
   "file_extension": ".py",
   "mimetype": "text/x-python",
   "name": "python",
   "nbconvert_exporter": "python",
   "pygments_lexer": "ipython3",
   "version": "3.7.13"
  }
 },
 "nbformat": 4,
 "nbformat_minor": 5
}
