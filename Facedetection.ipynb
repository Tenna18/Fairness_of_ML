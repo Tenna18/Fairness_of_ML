{
 "cells": [
  {
   "cell_type": "markdown",
   "id": "5fe0e020-245e-4150-9054-07c755daef1f",
   "metadata": {},
   "source": [
    "# Face detection modeller"
   ]
  },
  {
   "cell_type": "code",
   "execution_count": 2,
   "id": "4adc3f06-ef37-4c70-9a7a-37d085906b6d",
   "metadata": {},
   "outputs": [],
   "source": [
    "import pandas as pd\n",
    "import numpy as np\n",
    "import seaborn as sns\n",
    "import os\n",
    "from PIL import Image, ImageOps\n",
    "from sklearn.model_selection import train_test_split\n",
    "import cv2\n",
    "import dlib\n",
    "from time import time\n",
    "import matplotlib.pyplot as plt\n",
    "import copy\n",
    "import warnings\n",
    "from tqdm.notebook import tqdm\n",
    "warnings.filterwarnings('ignore')"
   ]
  },
  {
   "cell_type": "code",
   "execution_count": 3,
   "id": "3c67758f-4eaa-4064-945e-055d1a3d19dd",
   "metadata": {},
   "outputs": [],
   "source": [
    "df = pd.read_pickle(\"in_the_wild_df.pkl\")"
   ]
  },
  {
   "cell_type": "code",
   "execution_count": 4,
   "id": "75468b8b-8009-410e-ac1c-80551700f786",
   "metadata": {},
   "outputs": [
    {
     "name": "stdout",
     "output_type": "stream",
     "text": [
      "<class 'pandas.core.frame.DataFrame'>\n",
      "RangeIndex: 10135 entries, 0 to 10134\n",
      "Data columns (total 4 columns):\n",
      " #   Column   Non-Null Count  Dtype \n",
      "---  ------   --------------  ----- \n",
      " 0   Images   10135 non-null  object\n",
      " 1   Ages     10135 non-null  int64 \n",
      " 2   Genders  10135 non-null  int64 \n",
      " 3   Race     10135 non-null  int64 \n",
      "dtypes: int64(3), object(1)\n",
      "memory usage: 316.8+ KB\n",
      "None\n"
     ]
    }
   ],
   "source": [
    "print(df.info())"
   ]
  },
  {
   "cell_type": "code",
   "execution_count": 5,
   "id": "81af554f-2e5e-4f01-9faa-14bae564476d",
   "metadata": {},
   "outputs": [
    {
     "data": {
      "application/vnd.jupyter.widget-view+json": {
       "model_id": "a7f0cf9e8cdb49ba8cbf5488b506ba10",
       "version_major": 2,
       "version_minor": 0
      },
      "text/plain": [
       "  0%|          | 0/10135 [00:00<?, ?it/s]"
      ]
     },
     "metadata": {},
     "output_type": "display_data"
    }
   ],
   "source": [
    "# to array \n",
    "images_arr = []\n",
    "for im in tqdm(range(len(df))): \n",
    "    images_arr.append(np.array(df['Images'][im]))"
   ]
  },
  {
   "cell_type": "code",
   "execution_count": 18,
   "id": "0b2fd5d1-6424-47e9-92f3-bb93786ba40b",
   "metadata": {},
   "outputs": [
    {
     "data": {
      "application/vnd.jupyter.widget-view+json": {
       "model_id": "4a8c2abf899842d3a0313a686cd13160",
       "version_major": 2,
       "version_minor": 0
      },
      "text/plain": [
       "  0%|          | 0/10135 [00:00<?, ?it/s]"
      ]
     },
     "metadata": {},
     "output_type": "display_data"
    }
   ],
   "source": [
    "images_output = []\n",
    "for i in tqdm(images_arr):\n",
    "    if len(i.shape) == 2:\n",
    "        images_output.append(cv2.cvtColor(i, cv2.COLOR_GRAY2BGR))\n",
    "    else:\n",
    "        images_output.append(i)"
   ]
  },
  {
   "cell_type": "markdown",
   "id": "c7434e96-4a95-4628-acca-322af05aaa31",
   "metadata": {},
   "source": [
    "## HOG"
   ]
  },
  {
   "cell_type": "code",
   "execution_count": 19,
   "id": "73a28f3d-7518-4ff3-9a29-3acd2e844e7a",
   "metadata": {},
   "outputs": [
    {
     "data": {
      "text/plain": [
       "<_dlib_pybind11.fhog_object_detector at 0x7f9b02ad21b0>"
      ]
     },
     "execution_count": 19,
     "metadata": {},
     "output_type": "execute_result"
    }
   ],
   "source": [
    "# Get the HoG face detection model.\n",
    "hog_face_detector = dlib.get_frontal_face_detector()\n",
    "hog_face_detector"
   ]
  },
  {
   "cell_type": "code",
   "execution_count": 20,
   "id": "dc4a35bc-7fd1-4808-bdf7-54db5fb9ade7",
   "metadata": {},
   "outputs": [],
   "source": [
    "def hogDetectFaces(image, hog_face_detector, display = True):\n",
    "    '''\n",
    "    This function performs face(s) detection on an image using dlib hog face detector.\n",
    "    Args:\n",
    "        image:             The input image of the person(s) whose face needs to be detected.\n",
    "        hog_face_detector: The hog face detection model required to perform the detection on the input image.\n",
    "        display:           A boolean value that is if set to true the function displays the original input image, \n",
    "                           and the output image with the bounding boxes drawn and time taken written and returns nothing.\n",
    "    Returns:\n",
    "        output_image: A copy of input image with the bounding boxes drawn.\n",
    "        results:      The output of the face detection process on the input image.\n",
    "    '''\n",
    "    \n",
    "    # Get the height and width of the input image.\n",
    "    \n",
    "    height, width, _ = image.shape\n",
    "    \n",
    "    \n",
    "    # Create a copy of the input image to draw bounding boxes on.\n",
    "    output_image = image.copy()\n",
    "    \n",
    "    # Convert the image from BGR into RGB format.\n",
    "    imgRGB = cv2.cvtColor(image, cv2.COLOR_BGR2RGB)\n",
    "    #imgRGB = image\n",
    "    # Get the current time before performing face detection.\n",
    "    start = time()\n",
    "\n",
    "    # Perform the face detection on the image.\n",
    "    results = hog_face_detector(imgRGB, 0)\n",
    "    \n",
    "    \n",
    "    # Get the current time after performing face detection.\n",
    "    end = time()\n",
    "\n",
    "    # Loop through the bounding boxes of each face detected in the image.\n",
    "    for bbox in results:\n",
    "        \n",
    "        # Retrieve the left most x-coordinate of the bounding box.\n",
    "        x1 = bbox.left()\n",
    "        \n",
    "        # Retrieve the top most y-coordinate of the bounding box.\n",
    "        y1 = bbox.top()\n",
    "        \n",
    "        # Retrieve the right most x-coordinate of the bounding box.\n",
    "        x2 = bbox.right()\n",
    "        \n",
    "        # Retrieve the bottom most y-coordinate of the bounding box.       \n",
    "        y2 = bbox.bottom()\n",
    "\n",
    "        # Draw a rectangle around a face on the copy of the image using the retrieved coordinates.\n",
    "        cv2.rectangle(output_image, pt1=(x1, y1), pt2=(x2, y2), color=(0, 255, 0), thickness=width//200)\n",
    "    \n",
    "    \n",
    "    # Check if the original input image and the output image are specified to be displayed.\n",
    "    if display:\n",
    "        \n",
    "        # Write the time take by face detection process on the output image. \n",
    "        cv2.putText(output_image, text='Time taken: '+str(round(end - start, 2))+' Seconds.', org=(2, 30),\n",
    "                    fontFace=cv2.FONT_HERSHEY_COMPLEX, fontScale=width//700, color=(0,0,255), thickness=width//500)\n",
    "        \n",
    "        # Display the original input image and the output image.\n",
    "        plt.figure(figsize=[5,5])\n",
    "        plt.subplot(121);plt.imshow(image[:,:,::-1]);plt.title(\"Original Image\");plt.axis('off');\n",
    "        plt.subplot(122);plt.imshow(output_image[:,:,::-1]);plt.title(\"Output\");plt.axis('off');\n",
    "        \n",
    "    # Otherwise\n",
    "    else:\n",
    "        \n",
    "        # Return the output image and results of face detection.\n",
    "        return cv2.cvtColor(output_image, cv2.COLOR_RGB2BGR), results"
   ]
  },
  {
   "cell_type": "code",
   "execution_count": 21,
   "id": "4ede9972-def3-4a9c-8528-598901e62405",
   "metadata": {},
   "outputs": [],
   "source": [
    "#hogDetectFaces(cv2.cvtColor(images_arr[i], cv2.COLOR_RGB2BGR), hog_face_detector, display = False)\n",
    "\n",
    "\n",
    "hogfaces = [hogDetectFaces(images_output[i], hog_face_detector, display = False) for i in range(1500)]"
   ]
  },
  {
   "cell_type": "code",
   "execution_count": 22,
   "id": "d685734e-4612-471e-9540-39c85d5d3d2a",
   "metadata": {},
   "outputs": [
    {
     "data": {
      "text/html": [
       "<div>\n",
       "<style scoped>\n",
       "    .dataframe tbody tr th:only-of-type {\n",
       "        vertical-align: middle;\n",
       "    }\n",
       "\n",
       "    .dataframe tbody tr th {\n",
       "        vertical-align: top;\n",
       "    }\n",
       "\n",
       "    .dataframe thead th {\n",
       "        text-align: right;\n",
       "    }\n",
       "</style>\n",
       "<table border=\"1\" class=\"dataframe\">\n",
       "  <thead>\n",
       "    <tr style=\"text-align: right;\">\n",
       "      <th></th>\n",
       "      <th>not_dect_index</th>\n",
       "      <th>not_dect_images</th>\n",
       "      <th>not_dect_ages</th>\n",
       "      <th>not_dect_genders</th>\n",
       "      <th>not_dect_races</th>\n",
       "    </tr>\n",
       "  </thead>\n",
       "  <tbody>\n",
       "    <tr>\n",
       "      <th>0</th>\n",
       "      <td>5</td>\n",
       "      <td>&lt;PIL.JpegImagePlugin.JpegImageFile image mode=...</td>\n",
       "      <td>6</td>\n",
       "      <td>1</td>\n",
       "      <td>2</td>\n",
       "    </tr>\n",
       "    <tr>\n",
       "      <th>1</th>\n",
       "      <td>6</td>\n",
       "      <td>&lt;PIL.JpegImagePlugin.JpegImageFile image mode=...</td>\n",
       "      <td>54</td>\n",
       "      <td>1</td>\n",
       "      <td>0</td>\n",
       "    </tr>\n",
       "    <tr>\n",
       "      <th>2</th>\n",
       "      <td>22</td>\n",
       "      <td>&lt;PIL.JpegImagePlugin.JpegImageFile image mode=...</td>\n",
       "      <td>1</td>\n",
       "      <td>0</td>\n",
       "      <td>2</td>\n",
       "    </tr>\n",
       "    <tr>\n",
       "      <th>3</th>\n",
       "      <td>23</td>\n",
       "      <td>&lt;PIL.JpegImagePlugin.JpegImageFile image mode=...</td>\n",
       "      <td>1</td>\n",
       "      <td>1</td>\n",
       "      <td>3</td>\n",
       "    </tr>\n",
       "    <tr>\n",
       "      <th>4</th>\n",
       "      <td>24</td>\n",
       "      <td>&lt;PIL.JpegImagePlugin.JpegImageFile image mode=...</td>\n",
       "      <td>5</td>\n",
       "      <td>1</td>\n",
       "      <td>2</td>\n",
       "    </tr>\n",
       "    <tr>\n",
       "      <th>...</th>\n",
       "      <td>...</td>\n",
       "      <td>...</td>\n",
       "      <td>...</td>\n",
       "      <td>...</td>\n",
       "      <td>...</td>\n",
       "    </tr>\n",
       "    <tr>\n",
       "      <th>117</th>\n",
       "      <td>1439</td>\n",
       "      <td>&lt;PIL.JpegImagePlugin.JpegImageFile image mode=...</td>\n",
       "      <td>4</td>\n",
       "      <td>1</td>\n",
       "      <td>2</td>\n",
       "    </tr>\n",
       "    <tr>\n",
       "      <th>118</th>\n",
       "      <td>1461</td>\n",
       "      <td>&lt;PIL.JpegImagePlugin.JpegImageFile image mode=...</td>\n",
       "      <td>3</td>\n",
       "      <td>0</td>\n",
       "      <td>2</td>\n",
       "    </tr>\n",
       "    <tr>\n",
       "      <th>119</th>\n",
       "      <td>1487</td>\n",
       "      <td>&lt;PIL.JpegImagePlugin.JpegImageFile image mode=...</td>\n",
       "      <td>1</td>\n",
       "      <td>0</td>\n",
       "      <td>3</td>\n",
       "    </tr>\n",
       "    <tr>\n",
       "      <th>120</th>\n",
       "      <td>1489</td>\n",
       "      <td>&lt;PIL.JpegImagePlugin.JpegImageFile image mode=...</td>\n",
       "      <td>2</td>\n",
       "      <td>0</td>\n",
       "      <td>0</td>\n",
       "    </tr>\n",
       "    <tr>\n",
       "      <th>121</th>\n",
       "      <td>1492</td>\n",
       "      <td>&lt;PIL.JpegImagePlugin.JpegImageFile image mode=...</td>\n",
       "      <td>3</td>\n",
       "      <td>1</td>\n",
       "      <td>2</td>\n",
       "    </tr>\n",
       "  </tbody>\n",
       "</table>\n",
       "<p>122 rows × 5 columns</p>\n",
       "</div>"
      ],
      "text/plain": [
       "     not_dect_index                                    not_dect_images  \\\n",
       "0                 5  <PIL.JpegImagePlugin.JpegImageFile image mode=...   \n",
       "1                 6  <PIL.JpegImagePlugin.JpegImageFile image mode=...   \n",
       "2                22  <PIL.JpegImagePlugin.JpegImageFile image mode=...   \n",
       "3                23  <PIL.JpegImagePlugin.JpegImageFile image mode=...   \n",
       "4                24  <PIL.JpegImagePlugin.JpegImageFile image mode=...   \n",
       "..              ...                                                ...   \n",
       "117            1439  <PIL.JpegImagePlugin.JpegImageFile image mode=...   \n",
       "118            1461  <PIL.JpegImagePlugin.JpegImageFile image mode=...   \n",
       "119            1487  <PIL.JpegImagePlugin.JpegImageFile image mode=...   \n",
       "120            1489  <PIL.JpegImagePlugin.JpegImageFile image mode=...   \n",
       "121            1492  <PIL.JpegImagePlugin.JpegImageFile image mode=...   \n",
       "\n",
       "     not_dect_ages  not_dect_genders  not_dect_races  \n",
       "0                6                 1               2  \n",
       "1               54                 1               0  \n",
       "2                1                 0               2  \n",
       "3                1                 1               3  \n",
       "4                5                 1               2  \n",
       "..             ...               ...             ...  \n",
       "117              4                 1               2  \n",
       "118              3                 0               2  \n",
       "119              1                 0               3  \n",
       "120              2                 0               0  \n",
       "121              3                 1               2  \n",
       "\n",
       "[122 rows x 5 columns]"
      ]
     },
     "execution_count": 22,
     "metadata": {},
     "output_type": "execute_result"
    }
   ],
   "source": [
    "not_dect_index = []\n",
    "not_dect_images = []\n",
    "not_dect_ages = []\n",
    "not_dect_genders = []\n",
    "not_dect_races = []\n",
    "\n",
    "for i in range(len(hogfaces)):\n",
    "    if len(hogfaces[i][1]) == 0:\n",
    "        not_dect_index.append(i)\n",
    "        not_dect_images.append(df['Images'][i])\n",
    "        not_dect_ages.append( df['Ages'][i])\n",
    "        not_dect_genders.append(df['Genders'][i]) \n",
    "        not_dect_races.append(df['Race'][i])\n",
    "        \n",
    "not_dect_index = pd.Series(list(not_dect_index), name = 'not_dect_index')\n",
    "not_dect_images = pd.Series(list(not_dect_images), name = 'not_dect_images')\n",
    "not_dect_ages = pd.Series(list(not_dect_ages), name = 'not_dect_ages')\n",
    "not_dect_genders = pd.Series(list(not_dect_genders), name = 'not_dect_genders')\n",
    "not_dect_races = pd.Series(list(not_dect_races), name = 'not_dect_races')\n",
    "        \n",
    "df_not_detected = pd.concat([not_dect_index,not_dect_images, not_dect_ages, not_dect_genders, not_dect_races], axis=1)\n",
    "df_not_detected"
   ]
  },
  {
   "cell_type": "code",
   "execution_count": 32,
   "id": "b3642586-c413-4357-9c40-1b9fdff93f08",
   "metadata": {},
   "outputs": [
    {
     "data": {
      "text/plain": [
       "<AxesSubplot:ylabel='Frequency'>"
      ]
     },
     "execution_count": 32,
     "metadata": {},
     "output_type": "execute_result"
    },
    {
     "data": {
      "image/png": "[encoded data removed]",
      "text/plain": [
       "<Figure size 640x480 with 1 Axes>"
      ]
     },
     "metadata": {},
     "output_type": "display_data"
    }
   ],
   "source": [
    "df_not_detected['not_dect_ages'].plot(kind = 'hist')\n",
    "#print(df_not_detected)"
   ]
  },
  {
   "cell_type": "code",
   "execution_count": 33,
   "id": "da6b1089-82fb-4f32-9f0f-ef7063774f2b",
   "metadata": {},
   "outputs": [
    {
     "data": {
      "text/plain": [
       "<AxesSubplot:ylabel='Frequency'>"
      ]
     },
     "execution_count": 33,
     "metadata": {},
     "output_type": "execute_result"
    },
    {
     "data": {
      "image/png": "[encoded data removed]",
      "text/plain": [
       "<Figure size 640x480 with 1 Axes>"
      ]
     },
     "metadata": {},
     "output_type": "display_data"
    }
   ],
   "source": [
    "df_not_detected['not_dect_genders'].plot(kind = 'hist')"
   ]
  },
  {
   "cell_type": "code",
   "execution_count": 43,
   "id": "ce643930-4d1b-4b02-ad9c-c52c98402a04",
   "metadata": {},
   "outputs": [
    {
     "data": {
      "text/plain": [
       "<AxesSubplot:ylabel='Frequency'>"
      ]
     },
     "execution_count": 43,
     "metadata": {},
     "output_type": "execute_result"
    },
    {
     "data": {
      "image/png": "[encoded data removed]",
      "text/plain": [
       "<Figure size 640x480 with 1 Axes>"
      ]
     },
     "metadata": {},
     "output_type": "display_data"
    }
   ],
   "source": [
    "df_not_detected['not_dect_races'].plot(kind = 'hist')"
   ]
  },
  {
   "cell_type": "code",
   "execution_count": null,
   "id": "5e3226ae-b083-4c5b-a6e7-18c2c9c44709",
   "metadata": {},
   "outputs": [],
   "source": []
  },
  {
   "cell_type": "code",
   "execution_count": 38,
   "id": "6bc5e23d-d142-4b85-a507-aa24a099001e",
   "metadata": {},
   "outputs": [],
   "source": [
    "Race_0 = df[df[\"Race\"] == 0]\n",
    "Race_1 = df[df[\"Race\"] == 1]\n",
    "Race_2 = df[df[\"Race\"] == 2]\n",
    "Race_3 = df[df[\"Race\"] == 3]"
   ]
  },
  {
   "cell_type": "code",
   "execution_count": 39,
   "id": "82ce7896-8017-4ce3-8f6d-b089f1a30202",
   "metadata": {},
   "outputs": [
    {
     "data": {
      "text/html": [
       "<div>\n",
       "<style scoped>\n",
       "    .dataframe tbody tr th:only-of-type {\n",
       "        vertical-align: middle;\n",
       "    }\n",
       "\n",
       "    .dataframe tbody tr th {\n",
       "        vertical-align: top;\n",
       "    }\n",
       "\n",
       "    .dataframe thead th {\n",
       "        text-align: right;\n",
       "    }\n",
       "</style>\n",
       "<table border=\"1\" class=\"dataframe\">\n",
       "  <thead>\n",
       "    <tr style=\"text-align: right;\">\n",
       "      <th></th>\n",
       "      <th>Images</th>\n",
       "      <th>Ages</th>\n",
       "      <th>Genders</th>\n",
       "      <th>Race</th>\n",
       "    </tr>\n",
       "  </thead>\n",
       "  <tbody>\n",
       "    <tr>\n",
       "      <th>1</th>\n",
       "      <td>&lt;PIL.JpegImagePlugin.JpegImageFile image mode=...</td>\n",
       "      <td>40</td>\n",
       "      <td>1</td>\n",
       "      <td>0</td>\n",
       "    </tr>\n",
       "    <tr>\n",
       "      <th>2</th>\n",
       "      <td>&lt;PIL.JpegImagePlugin.JpegImageFile image mode=...</td>\n",
       "      <td>71</td>\n",
       "      <td>1</td>\n",
       "      <td>0</td>\n",
       "    </tr>\n",
       "    <tr>\n",
       "      <th>3</th>\n",
       "      <td>&lt;PIL.JpegImagePlugin.JpegImageFile image mode=...</td>\n",
       "      <td>80</td>\n",
       "      <td>1</td>\n",
       "      <td>0</td>\n",
       "    </tr>\n",
       "    <tr>\n",
       "      <th>6</th>\n",
       "      <td>&lt;PIL.JpegImagePlugin.JpegImageFile image mode=...</td>\n",
       "      <td>54</td>\n",
       "      <td>1</td>\n",
       "      <td>0</td>\n",
       "    </tr>\n",
       "    <tr>\n",
       "      <th>7</th>\n",
       "      <td>&lt;PIL.JpegImagePlugin.JpegImageFile image mode=...</td>\n",
       "      <td>1</td>\n",
       "      <td>0</td>\n",
       "      <td>0</td>\n",
       "    </tr>\n",
       "    <tr>\n",
       "      <th>...</th>\n",
       "      <td>...</td>\n",
       "      <td>...</td>\n",
       "      <td>...</td>\n",
       "      <td>...</td>\n",
       "    </tr>\n",
       "    <tr>\n",
       "      <th>10127</th>\n",
       "      <td>&lt;PIL.JpegImagePlugin.JpegImageFile image mode=...</td>\n",
       "      <td>24</td>\n",
       "      <td>1</td>\n",
       "      <td>0</td>\n",
       "    </tr>\n",
       "    <tr>\n",
       "      <th>10129</th>\n",
       "      <td>&lt;PIL.JpegImagePlugin.JpegImageFile image mode=...</td>\n",
       "      <td>16</td>\n",
       "      <td>0</td>\n",
       "      <td>0</td>\n",
       "    </tr>\n",
       "    <tr>\n",
       "      <th>10130</th>\n",
       "      <td>&lt;PIL.JpegImagePlugin.JpegImageFile image mode=...</td>\n",
       "      <td>53</td>\n",
       "      <td>0</td>\n",
       "      <td>0</td>\n",
       "    </tr>\n",
       "    <tr>\n",
       "      <th>10131</th>\n",
       "      <td>&lt;PIL.JpegImagePlugin.JpegImageFile image mode=...</td>\n",
       "      <td>36</td>\n",
       "      <td>0</td>\n",
       "      <td>0</td>\n",
       "    </tr>\n",
       "    <tr>\n",
       "      <th>10134</th>\n",
       "      <td>&lt;PIL.JpegImagePlugin.JpegImageFile image mode=...</td>\n",
       "      <td>29</td>\n",
       "      <td>0</td>\n",
       "      <td>0</td>\n",
       "    </tr>\n",
       "  </tbody>\n",
       "</table>\n",
       "<p>5396 rows × 4 columns</p>\n",
       "</div>"
      ],
      "text/plain": [
       "                                                  Images  Ages  Genders  Race\n",
       "1      <PIL.JpegImagePlugin.JpegImageFile image mode=...    40        1     0\n",
       "2      <PIL.JpegImagePlugin.JpegImageFile image mode=...    71        1     0\n",
       "3      <PIL.JpegImagePlugin.JpegImageFile image mode=...    80        1     0\n",
       "6      <PIL.JpegImagePlugin.JpegImageFile image mode=...    54        1     0\n",
       "7      <PIL.JpegImagePlugin.JpegImageFile image mode=...     1        0     0\n",
       "...                                                  ...   ...      ...   ...\n",
       "10127  <PIL.JpegImagePlugin.JpegImageFile image mode=...    24        1     0\n",
       "10129  <PIL.JpegImagePlugin.JpegImageFile image mode=...    16        0     0\n",
       "10130  <PIL.JpegImagePlugin.JpegImageFile image mode=...    53        0     0\n",
       "10131  <PIL.JpegImagePlugin.JpegImageFile image mode=...    36        0     0\n",
       "10134  <PIL.JpegImagePlugin.JpegImageFile image mode=...    29        0     0\n",
       "\n",
       "[5396 rows x 4 columns]"
      ]
     },
     "execution_count": 39,
     "metadata": {},
     "output_type": "execute_result"
    }
   ],
   "source": [
    "Race_0"
   ]
  },
  {
   "cell_type": "code",
   "execution_count": 40,
   "id": "1050a30a-ebcd-4841-b301-5c7b33def72f",
   "metadata": {},
   "outputs": [
    {
     "data": {
      "text/html": [
       "<div>\n",
       "<style scoped>\n",
       "    .dataframe tbody tr th:only-of-type {\n",
       "        vertical-align: middle;\n",
       "    }\n",
       "\n",
       "    .dataframe tbody tr th {\n",
       "        vertical-align: top;\n",
       "    }\n",
       "\n",
       "    .dataframe thead th {\n",
       "        text-align: right;\n",
       "    }\n",
       "</style>\n",
       "<table border=\"1\" class=\"dataframe\">\n",
       "  <thead>\n",
       "    <tr style=\"text-align: right;\">\n",
       "      <th></th>\n",
       "      <th>Images</th>\n",
       "      <th>Ages</th>\n",
       "      <th>Genders</th>\n",
       "      <th>Race</th>\n",
       "    </tr>\n",
       "  </thead>\n",
       "  <tbody>\n",
       "    <tr>\n",
       "      <th>19</th>\n",
       "      <td>&lt;PIL.JpegImagePlugin.JpegImageFile image mode=...</td>\n",
       "      <td>16</td>\n",
       "      <td>1</td>\n",
       "      <td>1</td>\n",
       "    </tr>\n",
       "    <tr>\n",
       "      <th>50</th>\n",
       "      <td>&lt;PIL.JpegImagePlugin.JpegImageFile image mode=...</td>\n",
       "      <td>85</td>\n",
       "      <td>1</td>\n",
       "      <td>1</td>\n",
       "    </tr>\n",
       "    <tr>\n",
       "      <th>60</th>\n",
       "      <td>&lt;PIL.JpegImagePlugin.JpegImageFile image mode=...</td>\n",
       "      <td>4</td>\n",
       "      <td>0</td>\n",
       "      <td>1</td>\n",
       "    </tr>\n",
       "    <tr>\n",
       "      <th>96</th>\n",
       "      <td>&lt;PIL.JpegImagePlugin.JpegImageFile image mode=...</td>\n",
       "      <td>23</td>\n",
       "      <td>1</td>\n",
       "      <td>1</td>\n",
       "    </tr>\n",
       "    <tr>\n",
       "      <th>156</th>\n",
       "      <td>&lt;PIL.JpegImagePlugin.JpegImageFile image mode=...</td>\n",
       "      <td>31</td>\n",
       "      <td>1</td>\n",
       "      <td>1</td>\n",
       "    </tr>\n",
       "    <tr>\n",
       "      <th>...</th>\n",
       "      <td>...</td>\n",
       "      <td>...</td>\n",
       "      <td>...</td>\n",
       "      <td>...</td>\n",
       "    </tr>\n",
       "    <tr>\n",
       "      <th>9951</th>\n",
       "      <td>&lt;PIL.JpegImagePlugin.JpegImageFile image mode=...</td>\n",
       "      <td>4</td>\n",
       "      <td>1</td>\n",
       "      <td>1</td>\n",
       "    </tr>\n",
       "    <tr>\n",
       "      <th>10016</th>\n",
       "      <td>&lt;PIL.JpegImagePlugin.JpegImageFile image mode=...</td>\n",
       "      <td>60</td>\n",
       "      <td>0</td>\n",
       "      <td>1</td>\n",
       "    </tr>\n",
       "    <tr>\n",
       "      <th>10023</th>\n",
       "      <td>&lt;PIL.JpegImagePlugin.JpegImageFile image mode=...</td>\n",
       "      <td>62</td>\n",
       "      <td>0</td>\n",
       "      <td>1</td>\n",
       "    </tr>\n",
       "    <tr>\n",
       "      <th>10059</th>\n",
       "      <td>&lt;PIL.JpegImagePlugin.JpegImageFile image mode=...</td>\n",
       "      <td>71</td>\n",
       "      <td>0</td>\n",
       "      <td>1</td>\n",
       "    </tr>\n",
       "    <tr>\n",
       "      <th>10072</th>\n",
       "      <td>&lt;PIL.JpegImagePlugin.JpegImageFile image mode=...</td>\n",
       "      <td>7</td>\n",
       "      <td>0</td>\n",
       "      <td>1</td>\n",
       "    </tr>\n",
       "  </tbody>\n",
       "</table>\n",
       "<p>422 rows × 4 columns</p>\n",
       "</div>"
      ],
      "text/plain": [
       "                                                  Images  Ages  Genders  Race\n",
       "19     <PIL.JpegImagePlugin.JpegImageFile image mode=...    16        1     1\n",
       "50     <PIL.JpegImagePlugin.JpegImageFile image mode=...    85        1     1\n",
       "60     <PIL.JpegImagePlugin.JpegImageFile image mode=...     4        0     1\n",
       "96     <PIL.JpegImagePlugin.JpegImageFile image mode=...    23        1     1\n",
       "156    <PIL.JpegImagePlugin.JpegImageFile image mode=...    31        1     1\n",
       "...                                                  ...   ...      ...   ...\n",
       "9951   <PIL.JpegImagePlugin.JpegImageFile image mode=...     4        1     1\n",
       "10016  <PIL.JpegImagePlugin.JpegImageFile image mode=...    60        0     1\n",
       "10023  <PIL.JpegImagePlugin.JpegImageFile image mode=...    62        0     1\n",
       "10059  <PIL.JpegImagePlugin.JpegImageFile image mode=...    71        0     1\n",
       "10072  <PIL.JpegImagePlugin.JpegImageFile image mode=...     7        0     1\n",
       "\n",
       "[422 rows x 4 columns]"
      ]
     },
     "execution_count": 40,
     "metadata": {},
     "output_type": "execute_result"
    }
   ],
   "source": [
    "Race_1"
   ]
  },
  {
   "cell_type": "code",
   "execution_count": 41,
   "id": "03e90578-e1a5-4a95-bfb1-5fb73c2e5500",
   "metadata": {},
   "outputs": [
    {
     "data": {
      "text/html": [
       "<div>\n",
       "<style scoped>\n",
       "    .dataframe tbody tr th:only-of-type {\n",
       "        vertical-align: middle;\n",
       "    }\n",
       "\n",
       "    .dataframe tbody tr th {\n",
       "        vertical-align: top;\n",
       "    }\n",
       "\n",
       "    .dataframe thead th {\n",
       "        text-align: right;\n",
       "    }\n",
       "</style>\n",
       "<table border=\"1\" class=\"dataframe\">\n",
       "  <thead>\n",
       "    <tr style=\"text-align: right;\">\n",
       "      <th></th>\n",
       "      <th>Images</th>\n",
       "      <th>Ages</th>\n",
       "      <th>Genders</th>\n",
       "      <th>Race</th>\n",
       "    </tr>\n",
       "  </thead>\n",
       "  <tbody>\n",
       "    <tr>\n",
       "      <th>5</th>\n",
       "      <td>&lt;PIL.JpegImagePlugin.JpegImageFile image mode=...</td>\n",
       "      <td>6</td>\n",
       "      <td>1</td>\n",
       "      <td>2</td>\n",
       "    </tr>\n",
       "    <tr>\n",
       "      <th>14</th>\n",
       "      <td>&lt;PIL.JpegImagePlugin.JpegImageFile image mode=...</td>\n",
       "      <td>2</td>\n",
       "      <td>0</td>\n",
       "      <td>2</td>\n",
       "    </tr>\n",
       "    <tr>\n",
       "      <th>15</th>\n",
       "      <td>&lt;PIL.JpegImagePlugin.JpegImageFile image mode=...</td>\n",
       "      <td>1</td>\n",
       "      <td>0</td>\n",
       "      <td>2</td>\n",
       "    </tr>\n",
       "    <tr>\n",
       "      <th>18</th>\n",
       "      <td>&lt;PIL.JpegImagePlugin.JpegImageFile image mode=...</td>\n",
       "      <td>2</td>\n",
       "      <td>0</td>\n",
       "      <td>2</td>\n",
       "    </tr>\n",
       "    <tr>\n",
       "      <th>22</th>\n",
       "      <td>&lt;PIL.JpegImagePlugin.JpegImageFile image mode=...</td>\n",
       "      <td>1</td>\n",
       "      <td>0</td>\n",
       "      <td>2</td>\n",
       "    </tr>\n",
       "    <tr>\n",
       "      <th>...</th>\n",
       "      <td>...</td>\n",
       "      <td>...</td>\n",
       "      <td>...</td>\n",
       "      <td>...</td>\n",
       "    </tr>\n",
       "    <tr>\n",
       "      <th>10119</th>\n",
       "      <td>&lt;PIL.JpegImagePlugin.JpegImageFile image mode=...</td>\n",
       "      <td>5</td>\n",
       "      <td>0</td>\n",
       "      <td>2</td>\n",
       "    </tr>\n",
       "    <tr>\n",
       "      <th>10121</th>\n",
       "      <td>&lt;PIL.JpegImagePlugin.JpegImageFile image mode=...</td>\n",
       "      <td>10</td>\n",
       "      <td>1</td>\n",
       "      <td>2</td>\n",
       "    </tr>\n",
       "    <tr>\n",
       "      <th>10125</th>\n",
       "      <td>&lt;PIL.JpegImagePlugin.JpegImageFile image mode=...</td>\n",
       "      <td>1</td>\n",
       "      <td>0</td>\n",
       "      <td>2</td>\n",
       "    </tr>\n",
       "    <tr>\n",
       "      <th>10128</th>\n",
       "      <td>&lt;PIL.JpegImagePlugin.JpegImageFile image mode=...</td>\n",
       "      <td>36</td>\n",
       "      <td>1</td>\n",
       "      <td>2</td>\n",
       "    </tr>\n",
       "    <tr>\n",
       "      <th>10132</th>\n",
       "      <td>&lt;PIL.JpegImagePlugin.JpegImageFile image mode=...</td>\n",
       "      <td>1</td>\n",
       "      <td>0</td>\n",
       "      <td>2</td>\n",
       "    </tr>\n",
       "  </tbody>\n",
       "</table>\n",
       "<p>1703 rows × 4 columns</p>\n",
       "</div>"
      ],
      "text/plain": [
       "                                                  Images  Ages  Genders  Race\n",
       "5      <PIL.JpegImagePlugin.JpegImageFile image mode=...     6        1     2\n",
       "14     <PIL.JpegImagePlugin.JpegImageFile image mode=...     2        0     2\n",
       "15     <PIL.JpegImagePlugin.JpegImageFile image mode=...     1        0     2\n",
       "18     <PIL.JpegImagePlugin.JpegImageFile image mode=...     2        0     2\n",
       "22     <PIL.JpegImagePlugin.JpegImageFile image mode=...     1        0     2\n",
       "...                                                  ...   ...      ...   ...\n",
       "10119  <PIL.JpegImagePlugin.JpegImageFile image mode=...     5        0     2\n",
       "10121  <PIL.JpegImagePlugin.JpegImageFile image mode=...    10        1     2\n",
       "10125  <PIL.JpegImagePlugin.JpegImageFile image mode=...     1        0     2\n",
       "10128  <PIL.JpegImagePlugin.JpegImageFile image mode=...    36        1     2\n",
       "10132  <PIL.JpegImagePlugin.JpegImageFile image mode=...     1        0     2\n",
       "\n",
       "[1703 rows x 4 columns]"
      ]
     },
     "execution_count": 41,
     "metadata": {},
     "output_type": "execute_result"
    }
   ],
   "source": [
    "Race_2"
   ]
  },
  {
   "cell_type": "code",
   "execution_count": 42,
   "id": "e18e14e1-4294-4ebe-b978-eb730d4eb10e",
   "metadata": {},
   "outputs": [
    {
     "data": {
      "text/html": [
       "<div>\n",
       "<style scoped>\n",
       "    .dataframe tbody tr th:only-of-type {\n",
       "        vertical-align: middle;\n",
       "    }\n",
       "\n",
       "    .dataframe tbody tr th {\n",
       "        vertical-align: top;\n",
       "    }\n",
       "\n",
       "    .dataframe thead th {\n",
       "        text-align: right;\n",
       "    }\n",
       "</style>\n",
       "<table border=\"1\" class=\"dataframe\">\n",
       "  <thead>\n",
       "    <tr style=\"text-align: right;\">\n",
       "      <th></th>\n",
       "      <th>Images</th>\n",
       "      <th>Ages</th>\n",
       "      <th>Genders</th>\n",
       "      <th>Race</th>\n",
       "    </tr>\n",
       "  </thead>\n",
       "  <tbody>\n",
       "    <tr>\n",
       "      <th>0</th>\n",
       "      <td>&lt;PIL.JpegImagePlugin.JpegImageFile image mode=...</td>\n",
       "      <td>16</td>\n",
       "      <td>1</td>\n",
       "      <td>3</td>\n",
       "    </tr>\n",
       "    <tr>\n",
       "      <th>20</th>\n",
       "      <td>&lt;PIL.JpegImagePlugin.JpegImageFile image mode=...</td>\n",
       "      <td>21</td>\n",
       "      <td>0</td>\n",
       "      <td>3</td>\n",
       "    </tr>\n",
       "    <tr>\n",
       "      <th>23</th>\n",
       "      <td>&lt;PIL.JpegImagePlugin.JpegImageFile image mode=...</td>\n",
       "      <td>1</td>\n",
       "      <td>1</td>\n",
       "      <td>3</td>\n",
       "    </tr>\n",
       "    <tr>\n",
       "      <th>25</th>\n",
       "      <td>&lt;PIL.JpegImagePlugin.JpegImageFile image mode=...</td>\n",
       "      <td>24</td>\n",
       "      <td>1</td>\n",
       "      <td>3</td>\n",
       "    </tr>\n",
       "    <tr>\n",
       "      <th>26</th>\n",
       "      <td>&lt;PIL.JpegImagePlugin.JpegImageFile image mode=...</td>\n",
       "      <td>29</td>\n",
       "      <td>1</td>\n",
       "      <td>3</td>\n",
       "    </tr>\n",
       "    <tr>\n",
       "      <th>...</th>\n",
       "      <td>...</td>\n",
       "      <td>...</td>\n",
       "      <td>...</td>\n",
       "      <td>...</td>\n",
       "    </tr>\n",
       "    <tr>\n",
       "      <th>10094</th>\n",
       "      <td>&lt;PIL.JpegImagePlugin.JpegImageFile image mode=...</td>\n",
       "      <td>7</td>\n",
       "      <td>1</td>\n",
       "      <td>3</td>\n",
       "    </tr>\n",
       "    <tr>\n",
       "      <th>10097</th>\n",
       "      <td>&lt;PIL.JpegImagePlugin.JpegImageFile image mode=...</td>\n",
       "      <td>52</td>\n",
       "      <td>0</td>\n",
       "      <td>3</td>\n",
       "    </tr>\n",
       "    <tr>\n",
       "      <th>10115</th>\n",
       "      <td>&lt;PIL.JpegImagePlugin.JpegImageFile image mode=...</td>\n",
       "      <td>26</td>\n",
       "      <td>1</td>\n",
       "      <td>3</td>\n",
       "    </tr>\n",
       "    <tr>\n",
       "      <th>10120</th>\n",
       "      <td>&lt;PIL.JpegImagePlugin.JpegImageFile image mode=...</td>\n",
       "      <td>12</td>\n",
       "      <td>1</td>\n",
       "      <td>3</td>\n",
       "    </tr>\n",
       "    <tr>\n",
       "      <th>10124</th>\n",
       "      <td>&lt;PIL.JpegImagePlugin.JpegImageFile image mode=...</td>\n",
       "      <td>30</td>\n",
       "      <td>1</td>\n",
       "      <td>3</td>\n",
       "    </tr>\n",
       "  </tbody>\n",
       "</table>\n",
       "<p>1493 rows × 4 columns</p>\n",
       "</div>"
      ],
      "text/plain": [
       "                                                  Images  Ages  Genders  Race\n",
       "0      <PIL.JpegImagePlugin.JpegImageFile image mode=...    16        1     3\n",
       "20     <PIL.JpegImagePlugin.JpegImageFile image mode=...    21        0     3\n",
       "23     <PIL.JpegImagePlugin.JpegImageFile image mode=...     1        1     3\n",
       "25     <PIL.JpegImagePlugin.JpegImageFile image mode=...    24        1     3\n",
       "26     <PIL.JpegImagePlugin.JpegImageFile image mode=...    29        1     3\n",
       "...                                                  ...   ...      ...   ...\n",
       "10094  <PIL.JpegImagePlugin.JpegImageFile image mode=...     7        1     3\n",
       "10097  <PIL.JpegImagePlugin.JpegImageFile image mode=...    52        0     3\n",
       "10115  <PIL.JpegImagePlugin.JpegImageFile image mode=...    26        1     3\n",
       "10120  <PIL.JpegImagePlugin.JpegImageFile image mode=...    12        1     3\n",
       "10124  <PIL.JpegImagePlugin.JpegImageFile image mode=...    30        1     3\n",
       "\n",
       "[1493 rows x 4 columns]"
      ]
     },
     "execution_count": 42,
     "metadata": {},
     "output_type": "execute_result"
    }
   ],
   "source": [
    "Race_3"
   ]
  },
  {
   "cell_type": "code",
   "execution_count": 51,
   "id": "a42111c1-7770-4ef8-9919-e308d65de868",
   "metadata": {},
   "outputs": [],
   "source": [
    "t = df_not_detected[(df_not_detected[\"not_dect_races\"]==2)&( df_not_detected[\"not_dect_ages\"]<=3) ]"
   ]
  },
  {
   "cell_type": "code",
   "execution_count": 53,
   "id": "3ca82df7-8183-4f9e-9054-da4f9b96cc71",
   "metadata": {},
   "outputs": [
    {
     "data": {
      "text/plain": [
       "29"
      ]
     },
     "execution_count": 53,
     "metadata": {},
     "output_type": "execute_result"
    }
   ],
   "source": [
    "len(t)"
   ]
  },
  {
   "cell_type": "code",
   "execution_count": null,
   "id": "4c06cde5-036d-40e3-87a9-1da76c6a7fe2",
   "metadata": {},
   "outputs": [],
   "source": []
  },
  {
   "cell_type": "code",
   "execution_count": null,
   "id": "955025d8-2e56-45be-b438-b3cb17ae23fe",
   "metadata": {},
   "outputs": [],
   "source": []
  },
  {
   "cell_type": "code",
   "execution_count": null,
   "id": "70938215-7867-446b-8052-e84222752426",
   "metadata": {},
   "outputs": [],
   "source": []
  },
  {
   "cell_type": "code",
   "execution_count": null,
   "id": "a0f40097-ea06-4f27-b687-d6eef1f887c8",
   "metadata": {},
   "outputs": [],
   "source": []
  },
  {
   "cell_type": "code",
   "execution_count": null,
   "id": "b1947339-9931-436b-9148-a79ee83a1b6c",
   "metadata": {},
   "outputs": [],
   "source": []
  },
  {
   "cell_type": "code",
   "execution_count": null,
   "id": "c02be933-fcec-4284-b8fa-b2a9a6a87b30",
   "metadata": {},
   "outputs": [],
   "source": [
    "Race_0 = df[df[\"Race\"] == 0]"
   ]
  },
  {
   "cell_type": "code",
   "execution_count": null,
   "id": "19c5e4e7-7187-4712-b2b3-f2d10d998945",
   "metadata": {},
   "outputs": [],
   "source": []
  },
  {
   "cell_type": "code",
   "execution_count": null,
   "id": "2e498b98-dc7d-4ab9-842f-2f3a0ac79045",
   "metadata": {},
   "outputs": [],
   "source": []
  },
  {
   "cell_type": "code",
   "execution_count": null,
   "id": "efb71703-7f32-4c4d-bdab-cdd2ec4627e0",
   "metadata": {},
   "outputs": [],
   "source": []
  },
  {
   "cell_type": "code",
   "execution_count": null,
   "id": "1b381d9e-7c8a-4ef6-84b1-4e317c525c26",
   "metadata": {},
   "outputs": [],
   "source": []
  },
  {
   "cell_type": "code",
   "execution_count": null,
   "id": "289bdcb1-0b06-4572-a765-8aa374b36dea",
   "metadata": {},
   "outputs": [],
   "source": []
  },
  {
   "cell_type": "code",
   "execution_count": null,
   "id": "59ba1543-2e79-491e-9eca-94829f137615",
   "metadata": {},
   "outputs": [],
   "source": []
  }
 ],
 "metadata": {
  "kernelspec": {
   "display_name": "Python 3 (ipykernel)",
   "language": "python",
   "name": "python3"
  },
  "language_info": {
   "codemirror_mode": {
    "name": "ipython",
    "version": 3
   },
   "file_extension": ".py",
   "mimetype": "text/x-python",
   "name": "python",
   "nbconvert_exporter": "python",
   "pygments_lexer": "ipython3",
   "version": "3.7.13"
  }
 },
 "nbformat": 4,
 "nbformat_minor": 5
}
