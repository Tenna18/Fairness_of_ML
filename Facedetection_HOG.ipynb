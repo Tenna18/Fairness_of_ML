{
 "cells": [
  {
   "cell_type": "markdown",
   "id": "5fe0e020-245e-4150-9054-07c755daef1f",
   "metadata": {},
   "source": [
    "# Face detection modeller"
   ]
  },
  {
   "cell_type": "code",
   "execution_count": 2,
   "id": "4adc3f06-ef37-4c70-9a7a-37d085906b6d",
   "metadata": {},
   "outputs": [],
   "source": [
    "import pandas as pd\n",
    "import numpy as np\n",
    "import seaborn as sns\n",
    "import os\n",
    "from PIL import Image, ImageOps\n",
    "from sklearn.model_selection import train_test_split\n",
    "import cv2\n",
    "import dlib\n",
    "from time import time\n",
    "import matplotlib.pyplot as plt\n",
    "import copy\n",
    "import warnings\n",
    "from tqdm.notebook import tqdm\n",
    "warnings.filterwarnings('ignore')"
   ]
  },
  {
   "cell_type": "code",
   "execution_count": 3,
   "id": "3c67758f-4eaa-4064-945e-055d1a3d19dd",
   "metadata": {},
   "outputs": [],
   "source": [
    "df = pd.read_pickle(\"/Users/laurabraadrasmussen/Bachelorprojekt/df_w_natural.pkl\")\n"
   ]
  },
  {
   "cell_type": "code",
   "execution_count": 4,
   "id": "75468b8b-8009-410e-ac1c-80551700f786",
   "metadata": {},
   "outputs": [
    {
     "name": "stdout",
     "output_type": "stream",
     "text": [
      "<class 'pandas.core.frame.DataFrame'>\n",
      "RangeIndex: 20257 entries, 0 to 20256\n",
      "Data columns (total 7 columns):\n",
      " #   Column                   Non-Null Count  Dtype  \n",
      "---  ------                   --------------  -----  \n",
      " 0   Images                   20257 non-null  object \n",
      " 1   Ages                     14344 non-null  float64\n",
      " 2   Genders                  14344 non-null  float64\n",
      " 3   Race                     14344 non-null  float64\n",
      " 4   Caucasien/Non-caucasian  14344 non-null  float64\n",
      " 5   Label                    20257 non-null  int64  \n",
      " 6   Folder                   20257 non-null  object \n",
      "dtypes: float64(4), int64(1), object(2)\n",
      "memory usage: 1.1+ MB\n",
      "None\n"
     ]
    }
   ],
   "source": [
    "print(df.info())"
   ]
  },
  {
   "cell_type": "code",
   "execution_count": 5,
   "id": "13449b4b-699b-47d0-925b-0b7a10cc27ef",
   "metadata": {},
   "outputs": [],
   "source": [
    "## caucasian or not variable\n",
    "df['Caucasien/Non-caucasian'] = [0 if ele  == 0 else 1 for ele in df[\"Race\"]]\n"
   ]
  },
  {
   "cell_type": "code",
   "execution_count": 6,
   "id": "81af554f-2e5e-4f01-9faa-14bae564476d",
   "metadata": {},
   "outputs": [
    {
     "data": {
      "application/vnd.jupyter.widget-view+json": {
       "model_id": "1496f109ed1c4fb3b15ff92248948b5a",
       "version_major": 2,
       "version_minor": 0
      },
      "text/plain": [
       "  0%|          | 0/20257 [00:00<?, ?it/s]"
      ]
     },
     "metadata": {},
     "output_type": "display_data"
    }
   ],
   "source": [
    "# to array \n",
    "images_arr = []\n",
    "for im in tqdm(range(len(df))): \n",
    "    images_arr.append(np.array(df['Images'][im]))"
   ]
  },
  {
   "cell_type": "code",
   "execution_count": 7,
   "id": "0b2fd5d1-6424-47e9-92f3-bb93786ba40b",
   "metadata": {},
   "outputs": [
    {
     "data": {
      "application/vnd.jupyter.widget-view+json": {
       "model_id": "192fd110dc6943bf910affc5dc1b80c7",
       "version_major": 2,
       "version_minor": 0
      },
      "text/plain": [
       "  0%|          | 0/20257 [00:00<?, ?it/s]"
      ]
     },
     "metadata": {},
     "output_type": "display_data"
    }
   ],
   "source": [
    "images_output = []\n",
    "for i in tqdm(images_arr):\n",
    "    if len(i.shape) == 2:\n",
    "        images_output.append(cv2.cvtColor(i, cv2.COLOR_GRAY2BGR))\n",
    "    else:\n",
    "        images_output.append(i)"
   ]
  },
  {
   "cell_type": "markdown",
   "id": "c7434e96-4a95-4628-acca-322af05aaa31",
   "metadata": {},
   "source": [
    "## HOG"
   ]
  },
  {
   "cell_type": "code",
   "execution_count": 8,
   "id": "73a28f3d-7518-4ff3-9a29-3acd2e844e7a",
   "metadata": {},
   "outputs": [
    {
     "data": {
      "text/plain": [
       "<_dlib_pybind11.fhog_object_detector at 0x7fad98c09b70>"
      ]
     },
     "execution_count": 8,
     "metadata": {},
     "output_type": "execute_result"
    }
   ],
   "source": [
    "# Get the HoG face detection model.\n",
    "hog_face_detector = dlib.get_frontal_face_detector()\n",
    "hog_face_detector"
   ]
  },
  {
   "cell_type": "code",
   "execution_count": 9,
   "id": "dc4a35bc-7fd1-4808-bdf7-54db5fb9ade7",
   "metadata": {},
   "outputs": [],
   "source": [
    "def hogDetectFaces(image, hog_face_detector, display = True):\n",
    "    '''\n",
    "    This function performs face(s) detection on an image using dlib hog face detector.\n",
    "    Args:\n",
    "        image:             The input image of the person(s) whose face needs to be detected.\n",
    "        hog_face_detector: The hog face detection model required to perform the detection on the input image.\n",
    "        display:           A boolean value that is if set to true the function displays the original input image, \n",
    "                           and the output image with the bounding boxes drawn and time taken written and returns nothing.\n",
    "    Returns:\n",
    "        output_image: A copy of input image with the bounding boxes drawn.\n",
    "        results:      The output of the face detection process on the input image.\n",
    "    '''\n",
    "    \n",
    "    # Get the height and width of the input image.\n",
    "    \n",
    "    height, width, _ = image.shape\n",
    "    \n",
    "    \n",
    "    # Create a copy of the input image to draw bounding boxes on.\n",
    "    output_image = image.copy()\n",
    "    \n",
    "    # Convert the image from BGR into RGB format.\n",
    "    imgRGB = cv2.cvtColor(image, cv2.COLOR_BGR2RGB)\n",
    "    #imgRGB = image\n",
    "    # Get the current time before performing face detection.\n",
    "    start = time()\n",
    "\n",
    "    # Perform the face detection on the image.\n",
    "    results = hog_face_detector(imgRGB, 0)\n",
    "    \n",
    "    \n",
    "    # Get the current time after performing face detection.\n",
    "    end = time()\n",
    "    time_to_detect = round(end - start, 5)\n",
    "    # Loop through the bounding boxes of each face detected in the image.\n",
    "    for bbox in results:\n",
    "        \n",
    "        # Retrieve the left most x-coordinate of the bounding box.\n",
    "        x1 = bbox.left()\n",
    "        \n",
    "        # Retrieve the top most y-coordinate of the bounding box.\n",
    "        y1 = bbox.top()\n",
    "        \n",
    "        # Retrieve the right most x-coordinate of the bounding box.\n",
    "        x2 = bbox.right()\n",
    "        \n",
    "        # Retrieve the bottom most y-coordinate of the bounding box.       \n",
    "        y2 = bbox.bottom()\n",
    "\n",
    "        # Draw a rectangle around a face on the copy of the image using the retrieved coordinates.\n",
    "        cv2.rectangle(output_image, pt1=(x1, y1), pt2=(x2, y2), color=(0, 255, 0), thickness=width//200)\n",
    "    \n",
    "    \n",
    "    # Check if the original input image and the output image are specified to be displayed.\n",
    "    if display:\n",
    "        \n",
    "        # Write the time take by face detection process on the output image. \n",
    "        cv2.putText(output_image, text='Time taken: '+str(round(end - start, 2))+' Seconds.', org=(2, 30),\n",
    "                    fontFace=cv2.FONT_HERSHEY_COMPLEX, fontScale=width//700, color=(0,0,255), thickness=width//500)\n",
    "        \n",
    "        # Display the original input image and the output image.\n",
    "        plt.figure(figsize=[5,5])\n",
    "        plt.subplot(121);plt.imshow(image[:,:,::-1]);plt.title(\"Original Image\");plt.axis('off');\n",
    "        plt.subplot(122);plt.imshow(output_image[:,:,::-1]);plt.title(\"Output\");plt.axis('off');\n",
    "        \n",
    "    # Otherwise\n",
    "    else:\n",
    "        \n",
    "        # Return the output image and results of face detection.\n",
    "        return cv2.cvtColor(output_image, cv2.COLOR_RGB2BGR), results, time_to_detect"
   ]
  },
  {
   "cell_type": "code",
   "execution_count": 1,
   "id": "4ede9972-def3-4a9c-8528-598901e62405",
   "metadata": {},
   "outputs": [
    {
     "ename": "NameError",
     "evalue": "name 'tqdm' is not defined",
     "output_type": "error",
     "traceback": [
      "\u001b[0;31m---------------------------------------------------------------------------\u001b[0m",
      "\u001b[0;31mNameError\u001b[0m                                 Traceback (most recent call last)",
      "\u001b[0;32m/var/folders/w7/fs9tw0cx6pbfr2z0lwnhcc7h0000gn/T/ipykernel_24252/1083702168.py\u001b[0m in \u001b[0;36m<module>\u001b[0;34m\u001b[0m\n\u001b[1;32m      2\u001b[0m \u001b[0;34m\u001b[0m\u001b[0m\n\u001b[1;32m      3\u001b[0m \u001b[0;34m\u001b[0m\u001b[0m\n\u001b[0;32m----> 4\u001b[0;31m \u001b[0mhogfaces\u001b[0m \u001b[0;34m=\u001b[0m \u001b[0;34m[\u001b[0m\u001b[0mhogDetectFaces\u001b[0m\u001b[0;34m(\u001b[0m\u001b[0mimages_output\u001b[0m\u001b[0;34m[\u001b[0m\u001b[0mi\u001b[0m\u001b[0;34m]\u001b[0m\u001b[0;34m,\u001b[0m \u001b[0mhog_face_detector\u001b[0m\u001b[0;34m,\u001b[0m \u001b[0mdisplay\u001b[0m \u001b[0;34m=\u001b[0m \u001b[0;32mFalse\u001b[0m\u001b[0;34m)\u001b[0m \u001b[0;32mfor\u001b[0m \u001b[0mi\u001b[0m \u001b[0;32min\u001b[0m \u001b[0mtqdm\u001b[0m\u001b[0;34m(\u001b[0m\u001b[0mrange\u001b[0m\u001b[0;34m(\u001b[0m\u001b[0mlen\u001b[0m\u001b[0;34m(\u001b[0m\u001b[0mimages_output\u001b[0m\u001b[0;34m)\u001b[0m\u001b[0;34m)\u001b[0m\u001b[0;34m)\u001b[0m\u001b[0;34m]\u001b[0m\u001b[0;34m\u001b[0m\u001b[0;34m\u001b[0m\u001b[0m\n\u001b[0m",
      "\u001b[0;31mNameError\u001b[0m: name 'tqdm' is not defined"
     ]
    }
   ],
   "source": [
    "#hogDetectFaces(cv2.cvtColor(images_arr[i], cv2.COLOR_RGB2BGR), hog_face_detector, display = False)\n",
    "\n",
    "\n",
    "hogfaces = [hogDetectFaces(images_output[i], hog_face_detector, display = False) for i in tqdm(range(len(images_output)))]"
   ]
  },
  {
   "cell_type": "code",
   "execution_count": 58,
   "id": "d685734e-4612-471e-9540-39c85d5d3d2a",
   "metadata": {},
   "outputs": [
    {
     "data": {
      "text/html": [
       "<div>\n",
       "<style scoped>\n",
       "    .dataframe tbody tr th:only-of-type {\n",
       "        vertical-align: middle;\n",
       "    }\n",
       "\n",
       "    .dataframe tbody tr th {\n",
       "        vertical-align: top;\n",
       "    }\n",
       "\n",
       "    .dataframe thead th {\n",
       "        text-align: right;\n",
       "    }\n",
       "</style>\n",
       "<table border=\"1\" class=\"dataframe\">\n",
       "  <thead>\n",
       "    <tr style=\"text-align: right;\">\n",
       "      <th></th>\n",
       "      <th>not_dect_index</th>\n",
       "      <th>not_dect_images</th>\n",
       "      <th>not_dect_ages</th>\n",
       "      <th>not_dect_genders</th>\n",
       "      <th>not_dect_races</th>\n",
       "      <th>not_dect_caucasian</th>\n",
       "      <th>not_dect_time</th>\n",
       "    </tr>\n",
       "  </thead>\n",
       "  <tbody>\n",
       "    <tr>\n",
       "      <th>0</th>\n",
       "      <td>5</td>\n",
       "      <td>&lt;PIL.JpegImagePlugin.JpegImageFile image mode=...</td>\n",
       "      <td>6</td>\n",
       "      <td>1</td>\n",
       "      <td>2</td>\n",
       "      <td>1</td>\n",
       "      <td>0 days 00:00:00.380400</td>\n",
       "    </tr>\n",
       "    <tr>\n",
       "      <th>1</th>\n",
       "      <td>6</td>\n",
       "      <td>&lt;PIL.JpegImagePlugin.JpegImageFile image mode=...</td>\n",
       "      <td>54</td>\n",
       "      <td>1</td>\n",
       "      <td>0</td>\n",
       "      <td>0</td>\n",
       "      <td>0 days 00:00:00.264600</td>\n",
       "    </tr>\n",
       "    <tr>\n",
       "      <th>2</th>\n",
       "      <td>18</td>\n",
       "      <td>&lt;PIL.JpegImagePlugin.JpegImageFile image mode=...</td>\n",
       "      <td>5</td>\n",
       "      <td>1</td>\n",
       "      <td>2</td>\n",
       "      <td>1</td>\n",
       "      <td>0 days 00:00:00.654000</td>\n",
       "    </tr>\n",
       "    <tr>\n",
       "      <th>3</th>\n",
       "      <td>60</td>\n",
       "      <td>&lt;PIL.JpegImagePlugin.JpegImageFile image mode=...</td>\n",
       "      <td>75</td>\n",
       "      <td>1</td>\n",
       "      <td>0</td>\n",
       "      <td>0</td>\n",
       "      <td>0 days 00:00:00.447600</td>\n",
       "    </tr>\n",
       "    <tr>\n",
       "      <th>4</th>\n",
       "      <td>84</td>\n",
       "      <td>&lt;PIL.JpegImagePlugin.JpegImageFile image mode=...</td>\n",
       "      <td>8</td>\n",
       "      <td>1</td>\n",
       "      <td>2</td>\n",
       "      <td>1</td>\n",
       "      <td>0 days 00:00:00.781200</td>\n",
       "    </tr>\n",
       "    <tr>\n",
       "      <th>...</th>\n",
       "      <td>...</td>\n",
       "      <td>...</td>\n",
       "      <td>...</td>\n",
       "      <td>...</td>\n",
       "      <td>...</td>\n",
       "      <td>...</td>\n",
       "      <td>...</td>\n",
       "    </tr>\n",
       "    <tr>\n",
       "      <th>433</th>\n",
       "      <td>8448</td>\n",
       "      <td>&lt;PIL.JpegImagePlugin.JpegImageFile image mode=...</td>\n",
       "      <td>1</td>\n",
       "      <td>1</td>\n",
       "      <td>2</td>\n",
       "      <td>1</td>\n",
       "      <td>0 days 00:00:00.199800</td>\n",
       "    </tr>\n",
       "    <tr>\n",
       "      <th>434</th>\n",
       "      <td>8455</td>\n",
       "      <td>&lt;PIL.JpegImagePlugin.JpegImageFile image mode=...</td>\n",
       "      <td>1</td>\n",
       "      <td>1</td>\n",
       "      <td>2</td>\n",
       "      <td>1</td>\n",
       "      <td>0 days 00:00:00.642000</td>\n",
       "    </tr>\n",
       "    <tr>\n",
       "      <th>435</th>\n",
       "      <td>8463</td>\n",
       "      <td>&lt;PIL.JpegImagePlugin.JpegImageFile image mode=...</td>\n",
       "      <td>1</td>\n",
       "      <td>1</td>\n",
       "      <td>3</td>\n",
       "      <td>1</td>\n",
       "      <td>0 days 00:00:00.195600</td>\n",
       "    </tr>\n",
       "    <tr>\n",
       "      <th>436</th>\n",
       "      <td>8467</td>\n",
       "      <td>&lt;PIL.JpegImagePlugin.JpegImageFile image mode=...</td>\n",
       "      <td>3</td>\n",
       "      <td>1</td>\n",
       "      <td>2</td>\n",
       "      <td>1</td>\n",
       "      <td>0 days 00:00:00.073800</td>\n",
       "    </tr>\n",
       "    <tr>\n",
       "      <th>437</th>\n",
       "      <td>8473</td>\n",
       "      <td>&lt;PIL.JpegImagePlugin.JpegImageFile image mode=...</td>\n",
       "      <td>1</td>\n",
       "      <td>0</td>\n",
       "      <td>3</td>\n",
       "      <td>1</td>\n",
       "      <td>0 days 00:00:00.108000</td>\n",
       "    </tr>\n",
       "  </tbody>\n",
       "</table>\n",
       "<p>438 rows × 7 columns</p>\n",
       "</div>"
      ],
      "text/plain": [
       "     not_dect_index                                    not_dect_images  \\\n",
       "0                 5  <PIL.JpegImagePlugin.JpegImageFile image mode=...   \n",
       "1                 6  <PIL.JpegImagePlugin.JpegImageFile image mode=...   \n",
       "2                18  <PIL.JpegImagePlugin.JpegImageFile image mode=...   \n",
       "3                60  <PIL.JpegImagePlugin.JpegImageFile image mode=...   \n",
       "4                84  <PIL.JpegImagePlugin.JpegImageFile image mode=...   \n",
       "..              ...                                                ...   \n",
       "433            8448  <PIL.JpegImagePlugin.JpegImageFile image mode=...   \n",
       "434            8455  <PIL.JpegImagePlugin.JpegImageFile image mode=...   \n",
       "435            8463  <PIL.JpegImagePlugin.JpegImageFile image mode=...   \n",
       "436            8467  <PIL.JpegImagePlugin.JpegImageFile image mode=...   \n",
       "437            8473  <PIL.JpegImagePlugin.JpegImageFile image mode=...   \n",
       "\n",
       "     not_dect_ages  not_dect_genders  not_dect_races  not_dect_caucasian  \\\n",
       "0                6                 1               2                   1   \n",
       "1               54                 1               0                   0   \n",
       "2                5                 1               2                   1   \n",
       "3               75                 1               0                   0   \n",
       "4                8                 1               2                   1   \n",
       "..             ...               ...             ...                 ...   \n",
       "433              1                 1               2                   1   \n",
       "434              1                 1               2                   1   \n",
       "435              1                 1               3                   1   \n",
       "436              3                 1               2                   1   \n",
       "437              1                 0               3                   1   \n",
       "\n",
       "             not_dect_time  \n",
       "0   0 days 00:00:00.380400  \n",
       "1   0 days 00:00:00.264600  \n",
       "2   0 days 00:00:00.654000  \n",
       "3   0 days 00:00:00.447600  \n",
       "4   0 days 00:00:00.781200  \n",
       "..                     ...  \n",
       "433 0 days 00:00:00.199800  \n",
       "434 0 days 00:00:00.642000  \n",
       "435 0 days 00:00:00.195600  \n",
       "436 0 days 00:00:00.073800  \n",
       "437 0 days 00:00:00.108000  \n",
       "\n",
       "[438 rows x 7 columns]"
      ]
     },
     "execution_count": 58,
     "metadata": {},
     "output_type": "execute_result"
    }
   ],
   "source": [
    "not_dect_index = []\n",
    "not_dect_images = []\n",
    "not_dect_ages = []\n",
    "not_dect_genders = []\n",
    "not_dect_races = []\n",
    "not_dect_caucasian = []\n",
    "not_dect_time = []\n",
    "\n",
    "for i in range(len(hogfaces)):\n",
    "    if len(hogfaces[i][1]) == 0:\n",
    "        not_dect_index.append(i)\n",
    "        not_dect_images.append(df['Images'][i])\n",
    "        not_dect_ages.append( df['Ages'][i])\n",
    "        not_dect_genders.append(df['Genders'][i]) \n",
    "        not_dect_races.append(df['Race'][i])\n",
    "        not_dect_caucasian.append(df['Caucasien/Non-caucasian'][i])\n",
    "        not_dect_time.append(pd.Timedelta(hogfaces[i][2], unit = 'minutes' ))\n",
    "        \n",
    "not_dect_index = pd.Series(list(not_dect_index), name = 'not_dect_index')\n",
    "not_dect_images = pd.Series(list(not_dect_images), name = 'not_dect_images')\n",
    "not_dect_ages = pd.Series(list(not_dect_ages), name = 'not_dect_ages')\n",
    "not_dect_genders = pd.Series(list(not_dect_genders), name = 'not_dect_genders')\n",
    "not_dect_races = pd.Series(list(not_dect_races), name = 'not_dect_races')\n",
    "not_dect_caucasian = pd.Series(list(not_dect_caucasian), name = 'not_dect_caucasian')\n",
    "not_dect_time = pd.Series(list(not_dect_time), name = 'not_dect_time')\n",
    "#not_dect_time = pd.Timedelta(not_dect_time,unit = 'minutes' )\n",
    "\n",
    "\n",
    "df_not_detected = pd.concat([not_dect_index,not_dect_images, not_dect_ages, not_dect_genders, not_dect_races, not_dect_caucasian, not_dect_time], axis=1)\n",
    "df_not_detected"
   ]
  },
  {
   "cell_type": "code",
   "execution_count": 59,
   "id": "b3642586-c413-4357-9c40-1b9fdff93f08",
   "metadata": {},
   "outputs": [
    {
     "data": {
      "text/plain": [
       "<AxesSubplot:ylabel='Frequency'>"
      ]
     },
     "execution_count": 59,
     "metadata": {},
     "output_type": "execute_result"
    },
    {
     "data": {
      "image/png": "[encoded data removed]",
      "text/plain": [
       "<Figure size 640x480 with 1 Axes>"
      ]
     },
     "metadata": {},
     "output_type": "display_data"
    }
   ],
   "source": [
    "df_not_detected['not_dect_ages'].plot(kind = 'hist')\n",
    "#print(df_not_detected)"
   ]
  },
  {
   "cell_type": "code",
   "execution_count": 60,
   "id": "da6b1089-82fb-4f32-9f0f-ef7063774f2b",
   "metadata": {},
   "outputs": [
    {
     "data": {
      "text/plain": [
       "<AxesSubplot:xlabel='not_dect_genders', ylabel='count'>"
      ]
     },
     "execution_count": 60,
     "metadata": {},
     "output_type": "execute_result"
    },
    {
     "data": {
      "image/png": "[encoded data removed]",
      "text/plain": [
       "<Figure size 640x480 with 1 Axes>"
      ]
     },
     "metadata": {},
     "output_type": "display_data"
    }
   ],
   "source": [
    "#df_not_detected['not_dect_genders'].plot(kind = 'hist')\n",
    "sns.countplot(df_not_detected['not_dect_genders'])"
   ]
  },
  {
   "cell_type": "code",
   "execution_count": 61,
   "id": "ce643930-4d1b-4b02-ad9c-c52c98402a04",
   "metadata": {},
   "outputs": [
    {
     "data": {
      "text/plain": [
       "<AxesSubplot:xlabel='not_dect_races', ylabel='count'>"
      ]
     },
     "execution_count": 61,
     "metadata": {},
     "output_type": "execute_result"
    },
    {
     "data": {
      "image/png": "[encoded data removed]",
      "text/plain": [
       "<Figure size 640x480 with 1 Axes>"
      ]
     },
     "metadata": {},
     "output_type": "display_data"
    }
   ],
   "source": [
    "#df_not_detected['not_dect_races'].plot(kind = 'hist')\n",
    "\n",
    "sns.countplot(df_not_detected['not_dect_races'])"
   ]
  },
  {
   "cell_type": "code",
   "execution_count": 62,
   "id": "ddc67086-98e1-44de-a560-ec0642d4bc86",
   "metadata": {},
   "outputs": [
    {
     "data": {
      "text/plain": [
       "<AxesSubplot:xlabel='not_dect_caucasian', ylabel='count'>"
      ]
     },
     "execution_count": 62,
     "metadata": {},
     "output_type": "execute_result"
    },
    {
     "data": {
      "image/png": "[encoded data removed]",
      "text/plain": [
       "<Figure size 640x480 with 1 Axes>"
      ]
     },
     "metadata": {},
     "output_type": "display_data"
    }
   ],
   "source": [
    "sns.countplot(df_not_detected['not_dect_caucasian'])"
   ]
  },
  {
   "cell_type": "code",
   "execution_count": 63,
   "id": "9d380c13-0b9a-4162-ac58-15e78d33ddc0",
   "metadata": {},
   "outputs": [],
   "source": [
    "unique_race = sorted(pd.unique(df['Race']))\n",
    "percentage_r = []\n",
    "\n",
    "for i in unique_race:\n",
    "    percentage_r.append(((len(df_not_detected[df_not_detected[\"not_dect_races\"] == i]))/(len(df[df[\"Race\"] == i])))*100)"
   ]
  },
  {
   "cell_type": "code",
   "execution_count": 64,
   "id": "a2b4ab35-d40b-4130-b8ab-81791fb65e24",
   "metadata": {},
   "outputs": [
    {
     "data": {
      "text/plain": [
       "[4.070473876063184,\n",
       " 7.547169811320755,\n",
       " 13.96917148362235,\n",
       " 4.702970297029703,\n",
       " 0.7625272331154684]"
      ]
     },
     "execution_count": 64,
     "metadata": {},
     "output_type": "execute_result"
    }
   ],
   "source": [
    "percentage_r"
   ]
  },
  {
   "cell_type": "code",
   "execution_count": 65,
   "id": "1a84453a-4147-4455-946e-88870a0729ef",
   "metadata": {},
   "outputs": [],
   "source": [
    "unique_caucasian = sorted(pd.unique(df['Caucasien/Non-caucasian']))\n",
    "percentage_c = []\n",
    "\n",
    "for i in unique_caucasian:\n",
    "    percentage_c.append([i,((len(df_not_detected[df_not_detected[\"not_dect_caucasian\"] == i]))/(len(df[df[\"Caucasien/Non-caucasian\"] == i])))*100])"
   ]
  },
  {
   "cell_type": "code",
   "execution_count": 66,
   "id": "9f22b1c3-a038-48e8-90dd-a37b8d223bee",
   "metadata": {},
   "outputs": [
    {
     "data": {
      "text/plain": [
       "[[0, 4.070473876063184], [1, 6.696807007629274]]"
      ]
     },
     "execution_count": 66,
     "metadata": {},
     "output_type": "execute_result"
    }
   ],
   "source": [
    "percentage_c"
   ]
  },
  {
   "cell_type": "code",
   "execution_count": 67,
   "id": "c119946e-5f68-4174-92fe-b571105e7aaa",
   "metadata": {},
   "outputs": [],
   "source": [
    "unique_ages = sorted(pd.unique(df['Ages']))\n",
    "percentage_a = []\n",
    "\n",
    "for i in unique_ages:\n",
    "    percentage_a.append([i,((len(df_not_detected[df_not_detected[\"not_dect_ages\"] == i]))/(len(df[df[\"Ages\"] == i])))*100])"
   ]
  },
  {
   "cell_type": "code",
   "execution_count": 23,
   "id": "ad232061-6f59-4780-a797-4befed5e12b0",
   "metadata": {},
   "outputs": [
    {
     "data": {
      "image/png": "[encoded data removed]",
      "text/plain": [
       "<Figure size 640x480 with 1 Axes>"
      ]
     },
     "metadata": {},
     "output_type": "display_data"
    }
   ],
   "source": [
    "plt.plot(list(unique_ages), percentage_a)\n",
    "plt.show()"
   ]
  },
  {
   "cell_type": "code",
   "execution_count": 70,
   "id": "b83800c1-738a-4d04-a69d-3cc65868e3cd",
   "metadata": {},
   "outputs": [
    {
     "data": {
      "text/plain": [
       "Timedelta('0 days 00:00:01.867973134')"
      ]
     },
     "execution_count": 70,
     "metadata": {},
     "output_type": "execute_result"
    }
   ],
   "source": [
    "df_not_detected.loc[df_not_detected['not_dect_races'] == 0, 'not_dect_time'].mean()"
   ]
  },
  {
   "cell_type": "code",
   "execution_count": 75,
   "id": "df56bbb5-97f1-401f-b97a-917ae4def8ca",
   "metadata": {},
   "outputs": [
    {
     "data": {
      "text/plain": [
       "Timedelta('0 days 00:00:03.587592857')"
      ]
     },
     "execution_count": 75,
     "metadata": {},
     "output_type": "execute_result"
    }
   ],
   "source": [
    "df_not_detected.loc[df_not_detected['not_dect_races'] == 1, 'not_dect_time'].mean()"
   ]
  },
  {
   "cell_type": "code",
   "execution_count": null,
   "id": "a9c23c12-c40c-48fd-9684-4a494d827295",
   "metadata": {},
   "outputs": [],
   "source": []
  },
  {
   "cell_type": "code",
   "execution_count": null,
   "id": "37b9180a-4be7-4021-abbb-916a33a72057",
   "metadata": {},
   "outputs": [],
   "source": []
  }
 ],
 "metadata": {
  "kernelspec": {
   "display_name": "Python 3 (ipykernel)",
   "language": "python",
   "name": "python3"
  },
  "language_info": {
   "codemirror_mode": {
    "name": "ipython",
    "version": 3
   },
   "file_extension": ".py",
   "mimetype": "text/x-python",
   "name": "python",
   "nbconvert_exporter": "python",
   "pygments_lexer": "ipython3",
   "version": "3.7.13"
  }
 },
 "nbformat": 4,
 "nbformat_minor": 5
}
